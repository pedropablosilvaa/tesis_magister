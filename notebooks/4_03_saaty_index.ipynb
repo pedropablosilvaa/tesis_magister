{
 "cells": [
  {
   "cell_type": "code",
   "execution_count": 64,
   "id": "4456afb2-b555-4675-b120-e850bd5e8fd6",
   "metadata": {},
   "outputs": [],
   "source": [
    "import numpy as np\n",
    "\n",
    "def calculate_saaty_index(matrix):\n",
    "    n = matrix.shape[0]\n",
    "    eigenvals, eigenvects = np.linalg.eig(matrix)\n",
    "    max_eigenval = max(eigenvals.real)\n",
    "    eigenvect = eigenvects[:,np.argmax(eigenvals.real)]\n",
    "    weights = eigenvect / sum(eigenvect)\n",
    "\n",
    "    # calculate consistency index\n",
    "    lambda_max = max_eigenval\n",
    "    consistency_index = (lambda_max - n) / (n - 1)\n",
    "    random_index = np.array([0, 0, 0.58, 0.90, 1.12, 1.24, 1.32, 1.41, 1.45, 1.49])\n",
    "    random_index = random_index[n - 1]\n",
    "    consistency_ratio = consistency_index / random_index\n",
    "\n",
    "    # calculate Saaty's index\n",
    "    return print(\"Saaty's index: {:.3f}\".format(consistency_ratio))"
   ]
  },
  {
   "cell_type": "code",
   "execution_count": 65,
   "id": "1a1be0a5-a9ec-4aef-8dad-eeb251e04e17",
   "metadata": {},
   "outputs": [],
   "source": [
    "# example matrix\n",
    "matrix = np.array([[1, 3, 7, 8], [1/3, 1, 3, 7], [1/7, 1/3, 1, 3],[1/8, 1/7, 1/3, 1]])"
   ]
  },
  {
   "cell_type": "code",
   "execution_count": 66,
   "id": "804c715c-d9cd-4f65-b8c0-3652c5a77543",
   "metadata": {},
   "outputs": [
    {
     "name": "stdout",
     "output_type": "stream",
     "text": [
      "Saaty's index: 0.047\n"
     ]
    }
   ],
   "source": [
    "saaty_index = calculate_saaty_index(matrix)"
   ]
  },
  {
   "cell_type": "code",
   "execution_count": null,
   "id": "bfca9c00-ca2e-4c3e-ba9d-0c87fafe541a",
   "metadata": {},
   "outputs": [],
   "source": []
  }
 ],
 "metadata": {
  "kernelspec": {
   "display_name": "Python 3 (ipykernel)",
   "language": "python",
   "name": "python3"
  },
  "language_info": {
   "codemirror_mode": {
    "name": "ipython",
    "version": 3
   },
   "file_extension": ".py",
   "mimetype": "text/x-python",
   "name": "python",
   "nbconvert_exporter": "python",
   "pygments_lexer": "ipython3",
   "version": "3.8.12"
  }
 },
 "nbformat": 4,
 "nbformat_minor": 5
}

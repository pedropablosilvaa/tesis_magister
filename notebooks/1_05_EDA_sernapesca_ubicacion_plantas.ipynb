{
 "cells": [
  {
   "cell_type": "markdown",
   "id": "a60e1b16",
   "metadata": {},
   "source": [
    "# EDA para información entregada por Sernapesca"
   ]
  },
  {
   "cell_type": "markdown",
   "id": "4e74951c",
   "metadata": {},
   "source": [
    "#### Introducción\n",
    "Este Noteboopk corresponde al análisis exploratorio del archivo enviado por sernapesca llamado \"Listado de plantas.xlsx\", el cual tiene información de las plantas de procesamiento, como su ubicación, lo cual se puede cruzar con el reporte de plantas.\n",
    " \n",
    "Resumen:\n",
    "* Tiene una dimensión de (64054, 22)\n",
    "* Este archivo es una tabla con los ingresos a las plantas, entrega información de los centros de cultivo de origen.\n",
    "* Es solo para la Región de Los Lagos.\n",
    "* Tiene una temporalidad mensual que va desde 2021-01-01 hasta el 2022-06-01 con datos para todos los meses.\n",
    "* Tiene varios tipos de especies."
   ]
  },
  {
   "cell_type": "markdown",
   "id": "96430312",
   "metadata": {},
   "source": [
    "### Import libreries"
   ]
  },
  {
   "cell_type": "code",
   "execution_count": 1,
   "id": "ae17ab06",
   "metadata": {},
   "outputs": [],
   "source": [
    "import logging\n",
    "import subprocess\n",
    "import os   \n",
    "import pandas as pd\n",
    "import seaborn as sns\n",
    "import geopandas as gpd\n",
    "import folium\n",
    "import matplotlib.pyplot as plt\n",
    "import contextily as cx"
   ]
  },
  {
   "cell_type": "markdown",
   "id": "22c8d822",
   "metadata": {},
   "source": [
    "### Reading file \"Ubicación de plantas\""
   ]
  },
  {
   "cell_type": "code",
   "execution_count": 2,
   "id": "dacd2257",
   "metadata": {},
   "outputs": [
    {
     "name": "stdout",
     "output_type": "stream",
     "text": [
      "CPU times: user 175 ms, sys: 4.52 ms, total: 180 ms\n",
      "Wall time: 225 ms\n"
     ]
    }
   ],
   "source": [
    "%%time\n",
    "plants_location = pd.read_excel(\"../data/datos_sernapesca/Listado de plantas.xlsx\")"
   ]
  },
  {
   "cell_type": "code",
   "execution_count": 3,
   "id": "d3961d4c",
   "metadata": {},
   "outputs": [
    {
     "data": {
      "text/plain": [
       "(207, 6)"
      ]
     },
     "execution_count": 3,
     "metadata": {},
     "output_type": "execute_result"
    }
   ],
   "source": [
    "plants_location.shape"
   ]
  },
  {
   "cell_type": "code",
   "execution_count": 4,
   "id": "43b4281c",
   "metadata": {},
   "outputs": [
    {
     "data": {
      "text/html": [
       "<div>\n",
       "<style scoped>\n",
       "    .dataframe tbody tr th:only-of-type {\n",
       "        vertical-align: middle;\n",
       "    }\n",
       "\n",
       "    .dataframe tbody tr th {\n",
       "        vertical-align: top;\n",
       "    }\n",
       "\n",
       "    .dataframe thead th {\n",
       "        text-align: right;\n",
       "    }\n",
       "</style>\n",
       "<table border=\"1\" class=\"dataframe\">\n",
       "  <thead>\n",
       "    <tr style=\"text-align: right;\">\n",
       "      <th></th>\n",
       "      <th>Cd_Planta</th>\n",
       "      <th>Planta</th>\n",
       "      <th>Dirección_</th>\n",
       "      <th>Ciudad_</th>\n",
       "      <th>X</th>\n",
       "      <th>Y</th>\n",
       "    </tr>\n",
       "  </thead>\n",
       "  <tbody>\n",
       "    <tr>\n",
       "      <th>0</th>\n",
       "      <td>10034</td>\n",
       "      <td>TRANS ANTARTIC, PESQUERA LTDA.</td>\n",
       "      <td>Camino A Chinquihue Km. 6, Puerto Montt</td>\n",
       "      <td>Puerto Montt</td>\n",
       "      <td>NaN</td>\n",
       "      <td>NaN</td>\n",
       "    </tr>\n",
       "    <tr>\n",
       "      <th>1</th>\n",
       "      <td>10056</td>\n",
       "      <td>SOCIEDAD PESQUERA PALCO CHILE LTDA.</td>\n",
       "      <td>Piedra Azul, Sector Ralimo Km. 17, Puerto Montt</td>\n",
       "      <td>Puerto Montt</td>\n",
       "      <td>-72.778708</td>\n",
       "      <td>-41.514760</td>\n",
       "    </tr>\n",
       "    <tr>\n",
       "      <th>2</th>\n",
       "      <td>10064</td>\n",
       "      <td>PESQUERA DEL MAR ANTÁRTICO S.A.</td>\n",
       "      <td>Bima 338, Puerto Montt</td>\n",
       "      <td>Puerto Montt</td>\n",
       "      <td>-72.960587</td>\n",
       "      <td>-41.454945</td>\n",
       "    </tr>\n",
       "    <tr>\n",
       "      <th>3</th>\n",
       "      <td>10067</td>\n",
       "      <td>CERMAQ CHILE S.A.</td>\n",
       "      <td>Camino Chinquihue Km. 12, Puerto Montt</td>\n",
       "      <td>Puerto Montt</td>\n",
       "      <td>-73.029519</td>\n",
       "      <td>-41.514035</td>\n",
       "    </tr>\n",
       "    <tr>\n",
       "      <th>4</th>\n",
       "      <td>10068</td>\n",
       "      <td>DISTRIBUIDORA DE PRODUCTOS DEL MAR S.A.</td>\n",
       "      <td>El Teniente N° 90, Parque Industrial</td>\n",
       "      <td>Puerto Montt</td>\n",
       "      <td>-72.963898</td>\n",
       "      <td>-41.454908</td>\n",
       "    </tr>\n",
       "  </tbody>\n",
       "</table>\n",
       "</div>"
      ],
      "text/plain": [
       "   Cd_Planta                                   Planta  \\\n",
       "0      10034           TRANS ANTARTIC, PESQUERA LTDA.   \n",
       "1      10056      SOCIEDAD PESQUERA PALCO CHILE LTDA.   \n",
       "2      10064          PESQUERA DEL MAR ANTÁRTICO S.A.   \n",
       "3      10067                        CERMAQ CHILE S.A.   \n",
       "4      10068  DISTRIBUIDORA DE PRODUCTOS DEL MAR S.A.   \n",
       "\n",
       "                                        Dirección_       Ciudad_          X  \\\n",
       "0          Camino A Chinquihue Km. 6, Puerto Montt  Puerto Montt        NaN   \n",
       "1  Piedra Azul, Sector Ralimo Km. 17, Puerto Montt  Puerto Montt -72.778708   \n",
       "2                           Bima 338, Puerto Montt  Puerto Montt -72.960587   \n",
       "3           Camino Chinquihue Km. 12, Puerto Montt  Puerto Montt -73.029519   \n",
       "4             El Teniente N° 90, Parque Industrial  Puerto Montt -72.963898   \n",
       "\n",
       "           Y  \n",
       "0        NaN  \n",
       "1 -41.514760  \n",
       "2 -41.454945  \n",
       "3 -41.514035  \n",
       "4 -41.454908  "
      ]
     },
     "execution_count": 4,
     "metadata": {},
     "output_type": "execute_result"
    }
   ],
   "source": [
    "plants_location.head()"
   ]
  },
  {
   "cell_type": "code",
   "execution_count": 5,
   "id": "a94c684c",
   "metadata": {},
   "outputs": [
    {
     "data": {
      "text/plain": [
       "['Cd_Planta', 'Planta', 'Dirección_', 'Ciudad_', 'X', 'Y']"
      ]
     },
     "execution_count": 5,
     "metadata": {},
     "output_type": "execute_result"
    }
   ],
   "source": [
    "plants_location.columns.to_list()"
   ]
  },
  {
   "cell_type": "code",
   "execution_count": 6,
   "id": "1bea8212",
   "metadata": {},
   "outputs": [
    {
     "data": {
      "text/plain": [
       "<bound method DataFrame.info of      Cd_Planta                                          Planta  \\\n",
       "0        10034                  TRANS ANTARTIC, PESQUERA LTDA.   \n",
       "1        10056             SOCIEDAD PESQUERA PALCO CHILE LTDA.   \n",
       "2        10064                 PESQUERA DEL MAR ANTÁRTICO S.A.   \n",
       "3        10067                               CERMAQ CHILE S.A.   \n",
       "4        10068         DISTRIBUIDORA DE PRODUCTOS DEL MAR S.A.   \n",
       "..         ...                                             ...   \n",
       "202      10965  SERVICIOS Y COMERCIALIZADORA MISTER TRAUCO SPA   \n",
       "203      10966                               LUZALMAR LIMITADA   \n",
       "204      10967                 PLANTA PROCESADORA PESCAMAR SPA   \n",
       "205      10968               NANCY ESCOLASTICA GOMEZ VELASQUEZ   \n",
       "206      10969             PASCUAL ROBINSON ARRIAGADA PROSCHLE   \n",
       "\n",
       "                                          Dirección_       Ciudad_          X  \\\n",
       "0            Camino A Chinquihue Km. 6, Puerto Montt  Puerto Montt        NaN   \n",
       "1    Piedra Azul, Sector Ralimo Km. 17, Puerto Montt  Puerto Montt -72.778708   \n",
       "2                             Bima 338, Puerto Montt  Puerto Montt -72.960587   \n",
       "3             Camino Chinquihue Km. 12, Puerto Montt  Puerto Montt -73.029519   \n",
       "4               El Teniente N° 90, Parque Industrial  Puerto Montt -72.963898   \n",
       "..                                               ...           ...        ...   \n",
       "202                     Av Presidente Alessandri 874       Queilen        NaN   \n",
       "203                             Parcela 6, Butalcura      Dalcahue        NaN   \n",
       "204                          Ex Cancha Los Huasos 90         Ancud -73.790263   \n",
       "205                                Luis Espinoza 395        Castro        NaN   \n",
       "206                               Sector La Poza S/n        Contao        NaN   \n",
       "\n",
       "             Y  \n",
       "0          NaN  \n",
       "1   -41.514760  \n",
       "2   -41.454945  \n",
       "3   -41.514035  \n",
       "4   -41.454908  \n",
       "..         ...  \n",
       "202        NaN  \n",
       "203        NaN  \n",
       "204 -41.879874  \n",
       "205        NaN  \n",
       "206        NaN  \n",
       "\n",
       "[207 rows x 6 columns]>"
      ]
     },
     "execution_count": 6,
     "metadata": {},
     "output_type": "execute_result"
    }
   ],
   "source": [
    "plants_location.info"
   ]
  },
  {
   "cell_type": "code",
   "execution_count": 7,
   "id": "b9d2996b",
   "metadata": {},
   "outputs": [
    {
     "data": {
      "text/html": [
       "<div>\n",
       "<style scoped>\n",
       "    .dataframe tbody tr th:only-of-type {\n",
       "        vertical-align: middle;\n",
       "    }\n",
       "\n",
       "    .dataframe tbody tr th {\n",
       "        vertical-align: top;\n",
       "    }\n",
       "\n",
       "    .dataframe thead th {\n",
       "        text-align: right;\n",
       "    }\n",
       "</style>\n",
       "<table border=\"1\" class=\"dataframe\">\n",
       "  <thead>\n",
       "    <tr style=\"text-align: right;\">\n",
       "      <th></th>\n",
       "      <th>Cd_Planta</th>\n",
       "      <th>X</th>\n",
       "      <th>Y</th>\n",
       "    </tr>\n",
       "  </thead>\n",
       "  <tbody>\n",
       "    <tr>\n",
       "      <th>count</th>\n",
       "      <td>207.000000</td>\n",
       "      <td>113.000000</td>\n",
       "      <td>113.000000</td>\n",
       "    </tr>\n",
       "    <tr>\n",
       "      <th>mean</th>\n",
       "      <td>10735.787440</td>\n",
       "      <td>-73.440878</td>\n",
       "      <td>-42.031467</td>\n",
       "    </tr>\n",
       "    <tr>\n",
       "      <th>std</th>\n",
       "      <td>243.909328</td>\n",
       "      <td>0.326053</td>\n",
       "      <td>0.552087</td>\n",
       "    </tr>\n",
       "    <tr>\n",
       "      <th>min</th>\n",
       "      <td>10034.000000</td>\n",
       "      <td>-73.910763</td>\n",
       "      <td>-43.138433</td>\n",
       "    </tr>\n",
       "    <tr>\n",
       "      <th>25%</th>\n",
       "      <td>10678.500000</td>\n",
       "      <td>-73.708673</td>\n",
       "      <td>-42.390030</td>\n",
       "    </tr>\n",
       "    <tr>\n",
       "      <th>50%</th>\n",
       "      <td>10797.000000</td>\n",
       "      <td>-73.585325</td>\n",
       "      <td>-41.839118</td>\n",
       "    </tr>\n",
       "    <tr>\n",
       "      <th>75%</th>\n",
       "      <td>10914.500000</td>\n",
       "      <td>-73.126512</td>\n",
       "      <td>-41.564611</td>\n",
       "    </tr>\n",
       "    <tr>\n",
       "      <th>max</th>\n",
       "      <td>10969.000000</td>\n",
       "      <td>-72.778708</td>\n",
       "      <td>-41.418443</td>\n",
       "    </tr>\n",
       "  </tbody>\n",
       "</table>\n",
       "</div>"
      ],
      "text/plain": [
       "          Cd_Planta           X           Y\n",
       "count    207.000000  113.000000  113.000000\n",
       "mean   10735.787440  -73.440878  -42.031467\n",
       "std      243.909328    0.326053    0.552087\n",
       "min    10034.000000  -73.910763  -43.138433\n",
       "25%    10678.500000  -73.708673  -42.390030\n",
       "50%    10797.000000  -73.585325  -41.839118\n",
       "75%    10914.500000  -73.126512  -41.564611\n",
       "max    10969.000000  -72.778708  -41.418443"
      ]
     },
     "execution_count": 7,
     "metadata": {},
     "output_type": "execute_result"
    }
   ],
   "source": [
    "plants_location.describe()"
   ]
  },
  {
   "cell_type": "code",
   "execution_count": 8,
   "id": "67da7e7e",
   "metadata": {},
   "outputs": [
    {
     "data": {
      "text/plain": [
       "0"
      ]
     },
     "execution_count": 8,
     "metadata": {},
     "output_type": "execute_result"
    }
   ],
   "source": [
    "plants_location.duplicated().sum()"
   ]
  },
  {
   "cell_type": "code",
   "execution_count": 9,
   "id": "69876068",
   "metadata": {},
   "outputs": [
    {
     "data": {
      "text/plain": [
       "Cd_Planta      0\n",
       "Planta         0\n",
       "Dirección_     0\n",
       "Ciudad_        0\n",
       "X             94\n",
       "Y             94\n",
       "dtype: int64"
      ]
     },
     "execution_count": 9,
     "metadata": {},
     "output_type": "execute_result"
    }
   ],
   "source": [
    "plants_location.isnull().sum()"
   ]
  },
  {
   "cell_type": "code",
   "execution_count": 10,
   "id": "bd26b2f3",
   "metadata": {},
   "outputs": [
    {
     "data": {
      "text/plain": [
       "Cd_Planta       int64\n",
       "Planta         object\n",
       "Dirección_     object\n",
       "Ciudad_        object\n",
       "X             float64\n",
       "Y             float64\n",
       "dtype: object"
      ]
     },
     "execution_count": 10,
     "metadata": {},
     "output_type": "execute_result"
    }
   ],
   "source": [
    "plants_location.dtypes"
   ]
  },
  {
   "cell_type": "code",
   "execution_count": 11,
   "id": "062fa6ae",
   "metadata": {},
   "outputs": [
    {
     "data": {
      "text/plain": [
       "['Cd_Planta', 'Planta', 'Dirección_', 'Ciudad_', 'X', 'Y']"
      ]
     },
     "execution_count": 11,
     "metadata": {},
     "output_type": "execute_result"
    }
   ],
   "source": [
    "plants_location.columns.to_list()"
   ]
  },
  {
   "cell_type": "code",
   "execution_count": 12,
   "id": "59e500e6",
   "metadata": {},
   "outputs": [
    {
     "data": {
      "text/plain": [
       "207"
      ]
     },
     "execution_count": 12,
     "metadata": {},
     "output_type": "execute_result"
    }
   ],
   "source": [
    "plants_location['Cd_Planta'].nunique()"
   ]
  },
  {
   "cell_type": "code",
   "execution_count": 13,
   "id": "259adce8",
   "metadata": {},
   "outputs": [
    {
     "data": {
      "text/plain": [
       "['Puerto Montt',\n",
       " 'Calbuco',\n",
       " 'Ancud',\n",
       " 'Castro',\n",
       " 'Quellon',\n",
       " 'Pto. Montt',\n",
       " 'Puerto Varas',\n",
       " 'Quemchi',\n",
       " 'Llanquihue',\n",
       " 'Chonchi',\n",
       " 'Dalcahue',\n",
       " 'Quellón',\n",
       " 'Palena',\n",
       " 'Maullin',\n",
       " 'Maullín',\n",
       " 'Carelmapu',\n",
       " 'Queilen',\n",
       " 'Las Quemas',\n",
       " 'Puerto Octay',\n",
       " 'Chaulinec',\n",
       " 'Puyehue',\n",
       " 'Osorno',\n",
       " 'Muermos',\n",
       " 'Contao']"
      ]
     },
     "execution_count": 13,
     "metadata": {},
     "output_type": "execute_result"
    }
   ],
   "source": [
    "#plants_location['Especie'].unique().tolist()\n",
    "plants_location['Ciudad_'].unique().tolist()"
   ]
  },
  {
   "cell_type": "code",
   "execution_count": 14,
   "id": "30f5bf3b",
   "metadata": {},
   "outputs": [
    {
     "data": {
      "image/png": "[encoded data removed]",
      "text/plain": [
       "<Figure size 432x288 with 1 Axes>"
      ]
     },
     "metadata": {},
     "output_type": "display_data"
    }
   ],
   "source": [
    "def count_clases(df, column_name):\n",
    "    sns.set_theme(style=\"darkgrid\")\n",
    "    ax = sns.countplot(y=column_name, data=df)\n",
    "    sns.set(rc = {'figure.figsize':(25,8)})\n",
    "    #for item in ax.get_xticklabels():\n",
    "    #    item.set_rotation(90)\n",
    "\n",
    "count_clases(plants_location,'Ciudad_')"
   ]
  },
  {
   "cell_type": "code",
   "execution_count": 22,
   "id": "7d03304b",
   "metadata": {},
   "outputs": [],
   "source": [
    "plants_location = plants_location[plants_location['X'].notna()]\n",
    "plants_location = plants_location[plants_location['Y'].notna()]\n",
    "plantas_gdf = gpd.GeoDataFrame(\n",
    "    plants_location, geometry=gpd.points_from_xy(plants_location.X, plants_location.Y))\n"
   ]
  },
  {
   "cell_type": "code",
   "execution_count": 23,
   "id": "c438f5db",
   "metadata": {},
   "outputs": [
    {
     "name": "stderr",
     "output_type": "stream",
     "text": [
      "/home/pedro/miniconda3/envs/risk_assess/lib/python3.8/site-packages/contextily/tile.py:581: UserWarning: The inferred zoom level of 26 is not valid for the current tile provider (valid zooms: 0 - 20).\n",
      "  warnings.warn(msg)\n"
     ]
    },
    {
     "data": {
      "image/png": "[encoded data removed]",
      "text/plain": [
       "<Figure size 864x864 with 1 Axes>"
      ]
     },
     "metadata": {},
     "output_type": "display_data"
    }
   ],
   "source": [
    "fig, ax = plt.subplots(figsize=(12,12))\n",
    "plantas_gdf.plot(color='cyan',ax=ax,  alpha=0.4)\n",
    "ax.ticklabel_format(style='plain')\n",
    "ax.set_title('layer cliped')\n",
    "cx.add_basemap(ax, source=cx.providers.CartoDB.Voyager)\n",
    "plt.tight_layout()\n",
    "plt.show()"
   ]
  },
  {
   "cell_type": "code",
   "execution_count": 24,
   "id": "8d8142d1",
   "metadata": {},
   "outputs": [],
   "source": [
    "export_geojson = '../data/GIS/intermedios/plant_location.geojson'\n",
    "plantas_gdf.to_file(export_geojson, driver='GeoJSON')"
   ]
  },
  {
   "cell_type": "code",
   "execution_count": null,
   "id": "a5b6ac96",
   "metadata": {},
   "outputs": [],
   "source": []
  },
  {
   "cell_type": "code",
   "execution_count": null,
   "id": "f40be6db",
   "metadata": {},
   "outputs": [],
   "source": []
  }
 ],
 "metadata": {
  "kernelspec": {
   "display_name": "Python 3.8.12 ('risk_assess')",
   "language": "python",
   "name": "python3"
  },
  "language_info": {
   "codemirror_mode": {
    "name": "ipython",
    "version": 3
   },
   "file_extension": ".py",
   "mimetype": "text/x-python",
   "name": "python",
   "nbconvert_exporter": "python",
   "pygments_lexer": "ipython3",
   "version": "3.8.12"
  },
  "vscode": {
   "interpreter": {
    "hash": "dfb29a92caac195ffe13cc7ed6e877665023cae98347040b90a1df7bef0a6cfd"
   }
  }
 },
 "nbformat": 4,
 "nbformat_minor": 5
}

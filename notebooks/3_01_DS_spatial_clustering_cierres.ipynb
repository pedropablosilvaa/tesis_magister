{
 "cells": [
  {
   "cell_type": "markdown",
   "metadata": {},
   "source": [
    "# Analisis de posibilidad de join entre datos sernapesca"
   ]
  },
  {
   "cell_type": "markdown",
   "metadata": {},
   "source": [
    "### Import libreries"
   ]
  },
  {
   "cell_type": "code",
   "execution_count": 15,
   "metadata": {},
   "outputs": [],
   "source": [
    "import logging\n",
    "import subprocess\n",
    "import os   \n",
    "import pandas as pd\n",
    "import seaborn as sns"
   ]
  },
  {
   "cell_type": "code",
   "execution_count": 16,
   "metadata": {},
   "outputs": [
    {
     "name": "stdout",
     "output_type": "stream",
     "text": [
      "CPU times: total: 41.9 s\n",
      "Wall time: 41.9 s\n"
     ]
    }
   ],
   "source": [
    "%%time\n",
    "reporte_plantas_raw = pd.read_excel(\"../data/datos_sernapesca/Reporte de Plantas.xlsx\")\n",
    "ingresos_raw = pd.read_excel(\"../data/datos_sernapesca/Ingresos 2021-2022.xlsx\")\n",
    "RNA_raw = pd.read_excel(\"../data/datos_sernapesca/RNA.xlsx\")"
   ]
  },
  {
   "cell_type": "markdown",
   "metadata": {},
   "source": [
    "### Filtrando por región y tipo de producto"
   ]
  },
  {
   "cell_type": "code",
   "execution_count": 17,
   "metadata": {},
   "outputs": [],
   "source": [
    "# Se filtra por region, no es necesario hacer filtro por producto ya que solo se encuentra \n",
    "# info disponible para moluscos\n",
    "reporte_plantas_filtered = reporte_plantas_raw[(reporte_plantas_raw['Región Bodega'] == 'X REGION') |\n",
    "                                        (reporte_plantas_raw['Región Agente'] == 'X REGION')]\n",
    "\n",
    "# Se filtra sólo por tipo de especie = molusco, ya que este dataset ya era sólo de la décima región\n",
    "ingresos_filtered = ingresos_raw[ingresos_raw['Tipo Especie'] == 'MOLUSCOS']\n",
    "\n",
    "# El registro nacional de acuicultura de sernapesca (RNA) se encuentra para todo chile, por lo que se filtra\n",
    "# para la décima región. También se filtra por aquellos centros que se encuentran inscritos.\n",
    "RNA_filtered = RNA_raw[(RNA_raw['Región'] == 10) & (RNA_raw['Categoria'] == 'INSCRITO')]\n"
   ]
  },
  {
   "cell_type": "code",
   "execution_count": 18,
   "metadata": {},
   "outputs": [
    {
     "name": "stdout",
     "output_type": "stream",
     "text": [
      "El dataset de reportes filtrado tiene una forma (52011, 35), \n",
      "        mientras que el de ingresos es de la forma (7998, 22) y \n",
      "        el de RNA es de (2338, 18)\n"
     ]
    }
   ],
   "source": [
    "shape_reportes =  reporte_plantas_filtered.shape\n",
    "shape_ingresos =  ingresos_filtered.shape\n",
    "shape_RNA =  RNA_filtered.shape\n",
    "print(f'''El dataset de reportes filtrado tiene una forma {shape_reportes}, \n",
    "        mientras que el de ingresos es de la forma {shape_ingresos} y \n",
    "        el de RNA es de {shape_RNA}''')"
   ]
  },
  {
   "cell_type": "markdown",
   "metadata": {},
   "source": [
    "Se tienen 3 datasets y queremos saber si es que es posible hacer join entre los 3. Para esto y en primera instancia es necesario definir los campos que podrían ser utilizados para el join. \n",
    "\n",
    "* Por parte de la tabla de ingresos, código de agente parece ser una buena opción y también código del último proovedor.\n",
    "\n",
    "* Para el caso de la tabla de reportes, existe el codigo de centro y el codigo de origen, los cuales podrían servir.\n",
    "\n",
    "* Finalmente la tabbla de RNA contiene el código del centro de cultivo acuícola."
   ]
  },
  {
   "cell_type": "code",
   "execution_count": 23,
   "metadata": {},
   "outputs": [],
   "source": [
    "#ingresos_filtered\n",
    "\n",
    "RNA_list_CCAA = RNA_filtered['Codigo Centro'].unique().tolist()\n",
    "reporte_plantas_list_origen = reporte_plantas_filtered['Código Origen'].unique().tolist()"
   ]
  },
  {
   "cell_type": "code",
   "execution_count": 51,
   "metadata": {},
   "outputs": [],
   "source": [
    "results = {}\n",
    "for i in RNA_list_CCAA:\n",
    "    results[i] = reporte_plantas_list_origen.count(i) "
   ]
  },
  {
   "cell_type": "code",
   "execution_count": 52,
   "metadata": {},
   "outputs": [
    {
     "data": {
      "text/html": [
       "<div>\n",
       "<style scoped>\n",
       "    .dataframe tbody tr th:only-of-type {\n",
       "        vertical-align: middle;\n",
       "    }\n",
       "\n",
       "    .dataframe tbody tr th {\n",
       "        vertical-align: top;\n",
       "    }\n",
       "\n",
       "    .dataframe thead th {\n",
       "        text-align: right;\n",
       "    }\n",
       "</style>\n",
       "<table border=\"1\" class=\"dataframe\">\n",
       "  <thead>\n",
       "    <tr style=\"text-align: right;\">\n",
       "      <th></th>\n",
       "      <th>count</th>\n",
       "    </tr>\n",
       "  </thead>\n",
       "  <tbody>\n",
       "    <tr>\n",
       "      <th>100022</th>\n",
       "      <td>1</td>\n",
       "    </tr>\n",
       "    <tr>\n",
       "      <th>100242</th>\n",
       "      <td>1</td>\n",
       "    </tr>\n",
       "    <tr>\n",
       "      <th>100339</th>\n",
       "      <td>1</td>\n",
       "    </tr>\n",
       "    <tr>\n",
       "      <th>101000</th>\n",
       "      <td>1</td>\n",
       "    </tr>\n",
       "    <tr>\n",
       "      <th>101011</th>\n",
       "      <td>1</td>\n",
       "    </tr>\n",
       "    <tr>\n",
       "      <th>...</th>\n",
       "      <td>...</td>\n",
       "    </tr>\n",
       "    <tr>\n",
       "      <th>104342</th>\n",
       "      <td>1</td>\n",
       "    </tr>\n",
       "    <tr>\n",
       "      <th>104347</th>\n",
       "      <td>1</td>\n",
       "    </tr>\n",
       "    <tr>\n",
       "      <th>104349</th>\n",
       "      <td>1</td>\n",
       "    </tr>\n",
       "    <tr>\n",
       "      <th>104366</th>\n",
       "      <td>1</td>\n",
       "    </tr>\n",
       "    <tr>\n",
       "      <th>104392</th>\n",
       "      <td>1</td>\n",
       "    </tr>\n",
       "  </tbody>\n",
       "</table>\n",
       "<p>615 rows × 1 columns</p>\n",
       "</div>"
      ],
      "text/plain": [
       "        count\n",
       "100022      1\n",
       "100242      1\n",
       "100339      1\n",
       "101000      1\n",
       "101011      1\n",
       "...       ...\n",
       "104342      1\n",
       "104347      1\n",
       "104349      1\n",
       "104366      1\n",
       "104392      1\n",
       "\n",
       "[615 rows x 1 columns]"
      ]
     },
     "execution_count": 52,
     "metadata": {},
     "output_type": "execute_result"
    }
   ],
   "source": [
    "df_RNA_reporte_plantas = pd.DataFrame.from_dict(results,orient='index', columns=['count'])\n",
    "#type(df_RNA_reporte_plantas['count'])\n",
    "ccaa_match_with_reporte = df_RNA_reporte_plantas[df_RNA_reporte_plantas['count'] > 0]\n",
    "ccaa_match_with_reporte\n"
   ]
  },
  {
   "cell_type": "code",
   "execution_count": null,
   "metadata": {},
   "outputs": [],
   "source": []
  }
 ],
 "metadata": {
  "kernelspec": {
   "display_name": "Python 3.8.13 ('risk_assess')",
   "language": "python",
   "name": "python3"
  },
  "language_info": {
   "codemirror_mode": {
    "name": "ipython",
    "version": 3
   },
   "file_extension": ".py",
   "mimetype": "text/x-python",
   "name": "python",
   "nbconvert_exporter": "python",
   "pygments_lexer": "ipython3",
   "version": "3.8.13"
  },
  "orig_nbformat": 4,
  "vscode": {
   "interpreter": {
    "hash": "c27c728eb10a1be93e8222696e6e8d9f6f35a8d04ffe7fbebfed48cbbbf55747"
   }
  }
 },
 "nbformat": 4,
 "nbformat_minor": 2
}

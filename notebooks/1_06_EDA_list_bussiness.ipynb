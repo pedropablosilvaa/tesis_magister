{
 "cells": [
  {
   "cell_type": "markdown",
   "id": "a60e1b16",
   "metadata": {},
   "source": [
    "# EDA para información entregada por Sernapesca"
   ]
  },
  {
   "cell_type": "markdown",
   "id": "4e74951c",
   "metadata": {},
   "source": [
    "#### Introducción\n",
    "Este Noteboopk corresponde al análisis exploratorio del archivo creado llamado \"bussiness location\", el cual contiene información de empresas del SSI, como la cantidad de trabajadores, ubicacion de casa matriz y oficinas, entre otros.\n",
    " \n",
    "Resumen:\n",
    "* Tiene una dimensión de (5402 rows x 36 )\n",
    "* Este archivo es una tabla con la lista de empresas inscritas en el SII, entrega información de la cantidad de trabajadores de dicha empresa y también de su ubicación (de aquellos que pudieron ser georreferenciados aka %XX).\n",
    "* Es solo para la Región de Los Lagos."
   ]
  },
  {
   "cell_type": "markdown",
   "id": "96430312",
   "metadata": {},
   "source": [
    "### Import libreries"
   ]
  },
  {
   "cell_type": "code",
   "execution_count": 1,
   "id": "ae17ab06",
   "metadata": {},
   "outputs": [],
   "source": [
    "import logging\n",
    "import subprocess\n",
    "import os   \n",
    "import pandas as pd\n",
    "import seaborn as sns\n",
    "import geopandas as gpd\n",
    "import folium\n",
    "import matplotlib.pyplot as plt\n",
    "import contextily as cx"
   ]
  },
  {
   "cell_type": "markdown",
   "id": "22c8d822",
   "metadata": {},
   "source": [
    "### Reading file \"Ubicación de plantas\""
   ]
  },
  {
   "cell_type": "code",
   "execution_count": 3,
   "id": "dacd2257",
   "metadata": {},
   "outputs": [
    {
     "name": "stdout",
     "output_type": "stream",
     "text": [
      "CPU times: user 62.4 ms, sys: 184 µs, total: 62.6 ms\n",
      "Wall time: 75.7 ms\n"
     ]
    }
   ],
   "source": [
    "%%time\n",
    "business_location = pd.read_csv(\"../data/sii/business_location_filtered.csv\")"
   ]
  },
  {
   "cell_type": "code",
   "execution_count": 4,
   "id": "d3961d4c",
   "metadata": {},
   "outputs": [
    {
     "data": {
      "text/plain": [
       "(5402, 36)"
      ]
     },
     "execution_count": 4,
     "metadata": {},
     "output_type": "execute_result"
    }
   ],
   "source": [
    "business_location.shape"
   ]
  },
  {
   "cell_type": "code",
   "execution_count": 5,
   "id": "43b4281c",
   "metadata": {},
   "outputs": [
    {
     "data": {
      "text/html": [
       "<div>\n",
       "<style scoped>\n",
       "    .dataframe tbody tr th:only-of-type {\n",
       "        vertical-align: middle;\n",
       "    }\n",
       "\n",
       "    .dataframe tbody tr th {\n",
       "        vertical-align: top;\n",
       "    }\n",
       "\n",
       "    .dataframe thead th {\n",
       "        text-align: right;\n",
       "    }\n",
       "</style>\n",
       "<table border=\"1\" class=\"dataframe\">\n",
       "  <thead>\n",
       "    <tr style=\"text-align: right;\">\n",
       "      <th></th>\n",
       "      <th>Unnamed: 0</th>\n",
       "      <th>Unnamed: 0.1</th>\n",
       "      <th>Año comercial</th>\n",
       "      <th>RUT</th>\n",
       "      <th>DV</th>\n",
       "      <th>Razón social</th>\n",
       "      <th>Tramo según ventas</th>\n",
       "      <th>Número de trabajadores dependientes informados</th>\n",
       "      <th>Fecha inicio de actividades vigente</th>\n",
       "      <th>Fecha término de giro</th>\n",
       "      <th>...</th>\n",
       "      <th>Calle</th>\n",
       "      <th>Numero</th>\n",
       "      <th>Bloque</th>\n",
       "      <th>Departamento</th>\n",
       "      <th>Villa Poblacion</th>\n",
       "      <th>Ciudad</th>\n",
       "      <th>Comuna_r</th>\n",
       "      <th>Region</th>\n",
       "      <th>lon</th>\n",
       "      <th>lat</th>\n",
       "    </tr>\n",
       "  </thead>\n",
       "  <tbody>\n",
       "    <tr>\n",
       "      <th>0</th>\n",
       "      <td>3</td>\n",
       "      <td>237</td>\n",
       "      <td>2020</td>\n",
       "      <td>50249790</td>\n",
       "      <td>1</td>\n",
       "      <td>CHAVEZ ALMONACID RUBEN Y OTRA</td>\n",
       "      <td>1</td>\n",
       "      <td>0</td>\n",
       "      <td>1993-01-01</td>\n",
       "      <td>NaN</td>\n",
       "      <td>...</td>\n",
       "      <td>SANTA MARIA</td>\n",
       "      <td>752</td>\n",
       "      <td>NaN</td>\n",
       "      <td>NaN</td>\n",
       "      <td>NaN</td>\n",
       "      <td>NaN</td>\n",
       "      <td>PUERTO MONTT</td>\n",
       "      <td>X REGION LOS LAGOS</td>\n",
       "      <td>-72.951894</td>\n",
       "      <td>-41.470164</td>\n",
       "    </tr>\n",
       "    <tr>\n",
       "      <th>1</th>\n",
       "      <td>13</td>\n",
       "      <td>480</td>\n",
       "      <td>2020</td>\n",
       "      <td>50494660</td>\n",
       "      <td>6</td>\n",
       "      <td>HEIN MARTINEZ XIMENA PATRICIA Y OTRO</td>\n",
       "      <td>4</td>\n",
       "      <td>1</td>\n",
       "      <td>1993-01-01</td>\n",
       "      <td>NaN</td>\n",
       "      <td>...</td>\n",
       "      <td>SECTOR LA VEGA</td>\n",
       "      <td>NaN</td>\n",
       "      <td>NaN</td>\n",
       "      <td>NaN</td>\n",
       "      <td>NUEVA BRAUNAU</td>\n",
       "      <td>PUERTO VARAS</td>\n",
       "      <td>PUERTO VARAS</td>\n",
       "      <td>X REGION LOS LAGOS</td>\n",
       "      <td>0.000000</td>\n",
       "      <td>0.000000</td>\n",
       "    </tr>\n",
       "    <tr>\n",
       "      <th>2</th>\n",
       "      <td>14</td>\n",
       "      <td>480</td>\n",
       "      <td>2020</td>\n",
       "      <td>50494660</td>\n",
       "      <td>6</td>\n",
       "      <td>HEIN MARTINEZ XIMENA PATRICIA Y OTRO</td>\n",
       "      <td>4</td>\n",
       "      <td>1</td>\n",
       "      <td>1993-01-01</td>\n",
       "      <td>NaN</td>\n",
       "      <td>...</td>\n",
       "      <td>LA VEGA</td>\n",
       "      <td>S/N</td>\n",
       "      <td>NaN</td>\n",
       "      <td>NaN</td>\n",
       "      <td>NUEVA BRAUNAU</td>\n",
       "      <td>PUERTO VARAS</td>\n",
       "      <td>PUERTO VARAS</td>\n",
       "      <td>X REGION LOS LAGOS</td>\n",
       "      <td>0.000000</td>\n",
       "      <td>0.000000</td>\n",
       "    </tr>\n",
       "    <tr>\n",
       "      <th>3</th>\n",
       "      <td>23</td>\n",
       "      <td>647</td>\n",
       "      <td>2020</td>\n",
       "      <td>50652570</td>\n",
       "      <td>5</td>\n",
       "      <td>BERGER WESTERMAYER MARIA EMA Y OTRA</td>\n",
       "      <td>2</td>\n",
       "      <td>0</td>\n",
       "      <td>1993-10-01</td>\n",
       "      <td>NaN</td>\n",
       "      <td>...</td>\n",
       "      <td>PORTALES</td>\n",
       "      <td>1040</td>\n",
       "      <td>NaN</td>\n",
       "      <td>NaN</td>\n",
       "      <td>NaN</td>\n",
       "      <td>NaN</td>\n",
       "      <td>PUERTO MONTT</td>\n",
       "      <td>X REGION LOS LAGOS</td>\n",
       "      <td>-72.950678</td>\n",
       "      <td>-41.477231</td>\n",
       "    </tr>\n",
       "    <tr>\n",
       "      <th>4</th>\n",
       "      <td>24</td>\n",
       "      <td>672</td>\n",
       "      <td>2020</td>\n",
       "      <td>50681090</td>\n",
       "      <td>6</td>\n",
       "      <td>HENRIQUEZ MANCILLA GASTON LEONARDO Y OTRA</td>\n",
       "      <td>1</td>\n",
       "      <td>0</td>\n",
       "      <td>1994-04-05</td>\n",
       "      <td>NaN</td>\n",
       "      <td>...</td>\n",
       "      <td>SN LUIS POTOSI</td>\n",
       "      <td>32</td>\n",
       "      <td>NaN</td>\n",
       "      <td>NaN</td>\n",
       "      <td>ANAHUAC</td>\n",
       "      <td>NaN</td>\n",
       "      <td>PUERTO MONTT</td>\n",
       "      <td>X REGION LOS LAGOS</td>\n",
       "      <td>-72.976299</td>\n",
       "      <td>-41.485734</td>\n",
       "    </tr>\n",
       "  </tbody>\n",
       "</table>\n",
       "<p>5 rows × 36 columns</p>\n",
       "</div>"
      ],
      "text/plain": [
       "   Unnamed: 0  Unnamed: 0.1  Año comercial       RUT DV  \\\n",
       "0           3           237           2020  50249790  1   \n",
       "1          13           480           2020  50494660  6   \n",
       "2          14           480           2020  50494660  6   \n",
       "3          23           647           2020  50652570  5   \n",
       "4          24           672           2020  50681090  6   \n",
       "\n",
       "                                Razón social  Tramo según ventas  \\\n",
       "0              CHAVEZ ALMONACID RUBEN Y OTRA                   1   \n",
       "1       HEIN MARTINEZ XIMENA PATRICIA Y OTRO                   4   \n",
       "2       HEIN MARTINEZ XIMENA PATRICIA Y OTRO                   4   \n",
       "3        BERGER WESTERMAYER MARIA EMA Y OTRA                   2   \n",
       "4  HENRIQUEZ MANCILLA GASTON LEONARDO Y OTRA                   1   \n",
       "\n",
       "   Número de trabajadores dependientes informados  \\\n",
       "0                                               0   \n",
       "1                                               1   \n",
       "2                                               1   \n",
       "3                                               0   \n",
       "4                                               0   \n",
       "\n",
       "  Fecha inicio de actividades vigente Fecha término de giro  ...  \\\n",
       "0                          1993-01-01                   NaN  ...   \n",
       "1                          1993-01-01                   NaN  ...   \n",
       "2                          1993-01-01                   NaN  ...   \n",
       "3                          1993-10-01                   NaN  ...   \n",
       "4                          1994-04-05                   NaN  ...   \n",
       "\n",
       "            Calle  Numero Bloque Departamento  Villa Poblacion        Ciudad  \\\n",
       "0     SANTA MARIA     752    NaN          NaN              NaN           NaN   \n",
       "1  SECTOR LA VEGA     NaN    NaN          NaN    NUEVA BRAUNAU  PUERTO VARAS   \n",
       "2         LA VEGA     S/N    NaN          NaN    NUEVA BRAUNAU  PUERTO VARAS   \n",
       "3        PORTALES    1040    NaN          NaN              NaN           NaN   \n",
       "4  SN LUIS POTOSI      32    NaN          NaN          ANAHUAC           NaN   \n",
       "\n",
       "       Comuna_r              Region        lon        lat  \n",
       "0  PUERTO MONTT  X REGION LOS LAGOS -72.951894 -41.470164  \n",
       "1  PUERTO VARAS  X REGION LOS LAGOS   0.000000   0.000000  \n",
       "2  PUERTO VARAS  X REGION LOS LAGOS   0.000000   0.000000  \n",
       "3  PUERTO MONTT  X REGION LOS LAGOS -72.950678 -41.477231  \n",
       "4  PUERTO MONTT  X REGION LOS LAGOS -72.976299 -41.485734  \n",
       "\n",
       "[5 rows x 36 columns]"
      ]
     },
     "execution_count": 5,
     "metadata": {},
     "output_type": "execute_result"
    }
   ],
   "source": [
    "business_location.head()"
   ]
  },
  {
   "cell_type": "code",
   "execution_count": 6,
   "id": "a94c684c",
   "metadata": {},
   "outputs": [
    {
     "data": {
      "text/plain": [
       "['Unnamed: 0',\n",
       " 'Unnamed: 0.1',\n",
       " 'Año comercial',\n",
       " 'RUT',\n",
       " 'DV',\n",
       " 'Razón social',\n",
       " 'Tramo según ventas',\n",
       " 'Número de trabajadores dependientes informados',\n",
       " 'Fecha inicio de actividades vigente',\n",
       " 'Fecha término de giro',\n",
       " 'Fecha primera inscripción de actividades',\n",
       " 'Tipo término de giro',\n",
       " 'Tipo de contribuyente',\n",
       " 'Subtipo de contribuyente',\n",
       " 'Tramo capital propio positivo',\n",
       " 'Tramo capital propio negativo',\n",
       " 'Rubro económico',\n",
       " 'Subrubro económico',\n",
       " 'Actividad económica',\n",
       " 'Región',\n",
       " 'Provincia',\n",
       " 'Comuna_l',\n",
       " 'Dv',\n",
       " 'Vigencia',\n",
       " 'Fecha',\n",
       " 'Tipo Direccion',\n",
       " 'Calle',\n",
       " 'Numero',\n",
       " 'Bloque',\n",
       " 'Departamento',\n",
       " 'Villa Poblacion',\n",
       " 'Ciudad',\n",
       " 'Comuna_r',\n",
       " 'Region',\n",
       " 'lon',\n",
       " 'lat']"
      ]
     },
     "execution_count": 6,
     "metadata": {},
     "output_type": "execute_result"
    }
   ],
   "source": [
    "business_location.columns.to_list()"
   ]
  },
  {
   "cell_type": "code",
   "execution_count": 7,
   "id": "1bea8212",
   "metadata": {},
   "outputs": [
    {
     "data": {
      "text/plain": [
       "<bound method DataFrame.info of       Unnamed: 0  Unnamed: 0.1  Año comercial       RUT DV  \\\n",
       "0              3           237           2020  50249790  1   \n",
       "1             13           480           2020  50494660  6   \n",
       "2             14           480           2020  50494660  6   \n",
       "3             23           647           2020  50652570  5   \n",
       "4             24           672           2020  50681090  6   \n",
       "...          ...           ...            ...       ... ..   \n",
       "5397       34950        676590           2020  99577720  7   \n",
       "5398       34954        676829           2020  99584000  6   \n",
       "5399       34958        677093           2020  99591560  K   \n",
       "5400       34968        677284           2020  99597250  6   \n",
       "5401       34969        677284           2020  99597250  6   \n",
       "\n",
       "                                           Razón social  Tramo según ventas  \\\n",
       "0                         CHAVEZ ALMONACID RUBEN Y OTRA                   1   \n",
       "1                  HEIN MARTINEZ XIMENA PATRICIA Y OTRO                   4   \n",
       "2                  HEIN MARTINEZ XIMENA PATRICIA Y OTRO                   4   \n",
       "3                   BERGER WESTERMAYER MARIA EMA Y OTRA                   2   \n",
       "4             HENRIQUEZ MANCILLA GASTON LEONARDO Y OTRA                   1   \n",
       "...                                                 ...                 ...   \n",
       "5397                             NAVIERA ORCA CHILE S A                  11   \n",
       "5398                      BILLUND AQUACULTURE CHILE S A                  11   \n",
       "5399                               CULTIVOS CURAHUE S A                   7   \n",
       "5400  OPERACIONES INTEGRALES ISLA GRANDE SOCIEDAD AN...                   9   \n",
       "5401  OPERACIONES INTEGRALES ISLA GRANDE SOCIEDAD AN...                   9   \n",
       "\n",
       "      Número de trabajadores dependientes informados  \\\n",
       "0                                                  0   \n",
       "1                                                  1   \n",
       "2                                                  1   \n",
       "3                                                  0   \n",
       "4                                                  0   \n",
       "...                                              ...   \n",
       "5397                                             102   \n",
       "5398                                              99   \n",
       "5399                                              22   \n",
       "5400                                             497   \n",
       "5401                                             497   \n",
       "\n",
       "     Fecha inicio de actividades vigente Fecha término de giro  ...  \\\n",
       "0                             1993-01-01                   NaN  ...   \n",
       "1                             1993-01-01                   NaN  ...   \n",
       "2                             1993-01-01                   NaN  ...   \n",
       "3                             1993-10-01                   NaN  ...   \n",
       "4                             1994-04-05                   NaN  ...   \n",
       "...                                  ...                   ...  ...   \n",
       "5397                          2004-12-13                   NaN  ...   \n",
       "5398                          2005-02-07                   NaN  ...   \n",
       "5399                          2005-04-25                   NaN  ...   \n",
       "5400                          2005-07-18                   NaN  ...   \n",
       "5401                          2005-07-18                   NaN  ...   \n",
       "\n",
       "                          Calle  Numero Bloque Departamento  \\\n",
       "0                   SANTA MARIA     752    NaN          NaN   \n",
       "1                SECTOR LA VEGA     NaN    NaN          NaN   \n",
       "2                       LA VEGA     S/N    NaN          NaN   \n",
       "3                      PORTALES    1040    NaN          NaN   \n",
       "4                SN LUIS POTOSI      32    NaN          NaN   \n",
       "...                         ...     ...    ...          ...   \n",
       "5397             CAM CHINQUIHUE  LM 8.5    NaN         B 32   \n",
       "5398  BERNARDINO PQUE SN ANDRES    1994    NaN          NaN   \n",
       "5399       SECTOR CURAHUE RURAL     S/N    NaN          NaN   \n",
       "5400                    KLENNER     349    NaN          NaN   \n",
       "5401                 RUTA 5 SUR    2053    NaN          NaN   \n",
       "\n",
       "         Villa Poblacion        Ciudad      Comuna_r              Region  \\\n",
       "0                    NaN           NaN  PUERTO MONTT  X REGION LOS LAGOS   \n",
       "1          NUEVA BRAUNAU  PUERTO VARAS  PUERTO VARAS  X REGION LOS LAGOS   \n",
       "2          NUEVA BRAUNAU  PUERTO VARAS  PUERTO VARAS  X REGION LOS LAGOS   \n",
       "3                    NaN           NaN  PUERTO MONTT  X REGION LOS LAGOS   \n",
       "4                ANAHUAC           NaN  PUERTO MONTT  X REGION LOS LAGOS   \n",
       "...                  ...           ...           ...                 ...   \n",
       "5397  CONDOMINIO DE AGUA  PUERTO MONTT  PUERTO MONTT  X REGION LOS LAGOS   \n",
       "5398                 NaN     PTO MONTT  PUERTO MONTT  X REGION LOS LAGOS   \n",
       "5399         LA ESTANCIA        CASTRO        CASTRO  X REGION LOS LAGOS   \n",
       "5400                 NaN  PUERTO VARAS  PUERTO VARAS  X REGION LOS LAGOS   \n",
       "5401                 NaN        CASTRO        CASTRO  X REGION LOS LAGOS   \n",
       "\n",
       "            lon        lat  \n",
       "0    -72.951894 -41.470164  \n",
       "1      0.000000   0.000000  \n",
       "2      0.000000   0.000000  \n",
       "3    -72.950678 -41.477231  \n",
       "4    -72.976299 -41.485734  \n",
       "...         ...        ...  \n",
       "5397   0.000000   0.000000  \n",
       "5398 -72.972751 -41.463815  \n",
       "5399   0.000000   0.000000  \n",
       "5400 -72.983703 -41.314247  \n",
       "5401 -73.770590 -42.489436  \n",
       "\n",
       "[5402 rows x 36 columns]>"
      ]
     },
     "execution_count": 7,
     "metadata": {},
     "output_type": "execute_result"
    }
   ],
   "source": [
    "business_location.info"
   ]
  },
  {
   "cell_type": "code",
   "execution_count": 8,
   "id": "b9d2996b",
   "metadata": {},
   "outputs": [
    {
     "data": {
      "text/html": [
       "<div>\n",
       "<style scoped>\n",
       "    .dataframe tbody tr th:only-of-type {\n",
       "        vertical-align: middle;\n",
       "    }\n",
       "\n",
       "    .dataframe tbody tr th {\n",
       "        vertical-align: top;\n",
       "    }\n",
       "\n",
       "    .dataframe thead th {\n",
       "        text-align: right;\n",
       "    }\n",
       "</style>\n",
       "<table border=\"1\" class=\"dataframe\">\n",
       "  <thead>\n",
       "    <tr style=\"text-align: right;\">\n",
       "      <th></th>\n",
       "      <th>Unnamed: 0</th>\n",
       "      <th>Unnamed: 0.1</th>\n",
       "      <th>Año comercial</th>\n",
       "      <th>RUT</th>\n",
       "      <th>Tramo según ventas</th>\n",
       "      <th>Número de trabajadores dependientes informados</th>\n",
       "      <th>Tramo capital propio positivo</th>\n",
       "      <th>Tramo capital propio negativo</th>\n",
       "      <th>lon</th>\n",
       "      <th>lat</th>\n",
       "    </tr>\n",
       "  </thead>\n",
       "  <tbody>\n",
       "    <tr>\n",
       "      <th>count</th>\n",
       "      <td>5402.000000</td>\n",
       "      <td>5402.000000</td>\n",
       "      <td>5402.0</td>\n",
       "      <td>5.402000e+03</td>\n",
       "      <td>5402.000000</td>\n",
       "      <td>5402.000000</td>\n",
       "      <td>2591.000000</td>\n",
       "      <td>1626.000000</td>\n",
       "      <td>5402.000000</td>\n",
       "      <td>5402.000000</td>\n",
       "    </tr>\n",
       "    <tr>\n",
       "      <th>mean</th>\n",
       "      <td>18828.593669</td>\n",
       "      <td>364495.731026</td>\n",
       "      <td>2020.0</td>\n",
       "      <td>7.794957e+07</td>\n",
       "      <td>4.968160</td>\n",
       "      <td>118.076638</td>\n",
       "      <td>7.334620</td>\n",
       "      <td>6.466790</td>\n",
       "      <td>-42.150218</td>\n",
       "      <td>-23.959370</td>\n",
       "    </tr>\n",
       "    <tr>\n",
       "      <th>std</th>\n",
       "      <td>10310.091711</td>\n",
       "      <td>203623.491677</td>\n",
       "      <td>0.0</td>\n",
       "      <td>5.781931e+06</td>\n",
       "      <td>3.461282</td>\n",
       "      <td>458.518843</td>\n",
       "      <td>2.548289</td>\n",
       "      <td>2.648972</td>\n",
       "      <td>36.134362</td>\n",
       "      <td>20.544703</td>\n",
       "    </tr>\n",
       "    <tr>\n",
       "      <th>min</th>\n",
       "      <td>3.000000</td>\n",
       "      <td>237.000000</td>\n",
       "      <td>2020.0</td>\n",
       "      <td>5.024979e+07</td>\n",
       "      <td>1.000000</td>\n",
       "      <td>0.000000</td>\n",
       "      <td>1.000000</td>\n",
       "      <td>1.000000</td>\n",
       "      <td>-74.120765</td>\n",
       "      <td>-43.619039</td>\n",
       "    </tr>\n",
       "    <tr>\n",
       "      <th>25%</th>\n",
       "      <td>9877.500000</td>\n",
       "      <td>188168.250000</td>\n",
       "      <td>2020.0</td>\n",
       "      <td>7.641885e+07</td>\n",
       "      <td>2.000000</td>\n",
       "      <td>0.000000</td>\n",
       "      <td>5.000000</td>\n",
       "      <td>5.000000</td>\n",
       "      <td>-73.001498</td>\n",
       "      <td>-41.471322</td>\n",
       "    </tr>\n",
       "    <tr>\n",
       "      <th>50%</th>\n",
       "      <td>18836.500000</td>\n",
       "      <td>360227.000000</td>\n",
       "      <td>2020.0</td>\n",
       "      <td>7.683614e+07</td>\n",
       "      <td>4.000000</td>\n",
       "      <td>1.000000</td>\n",
       "      <td>8.000000</td>\n",
       "      <td>7.000000</td>\n",
       "      <td>-72.912248</td>\n",
       "      <td>-40.949551</td>\n",
       "    </tr>\n",
       "    <tr>\n",
       "      <th>75%</th>\n",
       "      <td>28079.750000</td>\n",
       "      <td>551714.000000</td>\n",
       "      <td>2020.0</td>\n",
       "      <td>7.717102e+07</td>\n",
       "      <td>7.000000</td>\n",
       "      <td>10.000000</td>\n",
       "      <td>10.000000</td>\n",
       "      <td>9.000000</td>\n",
       "      <td>0.000000</td>\n",
       "      <td>0.000000</td>\n",
       "    </tr>\n",
       "    <tr>\n",
       "      <th>max</th>\n",
       "      <td>34969.000000</td>\n",
       "      <td>677284.000000</td>\n",
       "      <td>2020.0</td>\n",
       "      <td>9.959725e+07</td>\n",
       "      <td>13.000000</td>\n",
       "      <td>3462.000000</td>\n",
       "      <td>10.000000</td>\n",
       "      <td>10.000000</td>\n",
       "      <td>0.000000</td>\n",
       "      <td>0.000000</td>\n",
       "    </tr>\n",
       "  </tbody>\n",
       "</table>\n",
       "</div>"
      ],
      "text/plain": [
       "         Unnamed: 0   Unnamed: 0.1  Año comercial           RUT  \\\n",
       "count   5402.000000    5402.000000         5402.0  5.402000e+03   \n",
       "mean   18828.593669  364495.731026         2020.0  7.794957e+07   \n",
       "std    10310.091711  203623.491677            0.0  5.781931e+06   \n",
       "min        3.000000     237.000000         2020.0  5.024979e+07   \n",
       "25%     9877.500000  188168.250000         2020.0  7.641885e+07   \n",
       "50%    18836.500000  360227.000000         2020.0  7.683614e+07   \n",
       "75%    28079.750000  551714.000000         2020.0  7.717102e+07   \n",
       "max    34969.000000  677284.000000         2020.0  9.959725e+07   \n",
       "\n",
       "       Tramo según ventas  Número de trabajadores dependientes informados  \\\n",
       "count         5402.000000                                     5402.000000   \n",
       "mean             4.968160                                      118.076638   \n",
       "std              3.461282                                      458.518843   \n",
       "min              1.000000                                        0.000000   \n",
       "25%              2.000000                                        0.000000   \n",
       "50%              4.000000                                        1.000000   \n",
       "75%              7.000000                                       10.000000   \n",
       "max             13.000000                                     3462.000000   \n",
       "\n",
       "       Tramo capital propio positivo  Tramo capital propio negativo  \\\n",
       "count                    2591.000000                    1626.000000   \n",
       "mean                        7.334620                       6.466790   \n",
       "std                         2.548289                       2.648972   \n",
       "min                         1.000000                       1.000000   \n",
       "25%                         5.000000                       5.000000   \n",
       "50%                         8.000000                       7.000000   \n",
       "75%                        10.000000                       9.000000   \n",
       "max                        10.000000                      10.000000   \n",
       "\n",
       "               lon          lat  \n",
       "count  5402.000000  5402.000000  \n",
       "mean    -42.150218   -23.959370  \n",
       "std      36.134362    20.544703  \n",
       "min     -74.120765   -43.619039  \n",
       "25%     -73.001498   -41.471322  \n",
       "50%     -72.912248   -40.949551  \n",
       "75%       0.000000     0.000000  \n",
       "max       0.000000     0.000000  "
      ]
     },
     "execution_count": 8,
     "metadata": {},
     "output_type": "execute_result"
    }
   ],
   "source": [
    "business_location.describe()"
   ]
  },
  {
   "cell_type": "code",
   "execution_count": 9,
   "id": "67da7e7e",
   "metadata": {},
   "outputs": [
    {
     "data": {
      "text/plain": [
       "0"
      ]
     },
     "execution_count": 9,
     "metadata": {},
     "output_type": "execute_result"
    }
   ],
   "source": [
    "business_location.duplicated().sum()"
   ]
  },
  {
   "cell_type": "code",
   "execution_count": 10,
   "id": "69876068",
   "metadata": {},
   "outputs": [
    {
     "data": {
      "text/plain": [
       "Unnamed: 0                                           0\n",
       "Unnamed: 0.1                                         0\n",
       "Año comercial                                        0\n",
       "RUT                                                  0\n",
       "DV                                                   0\n",
       "Razón social                                         0\n",
       "Tramo según ventas                                   0\n",
       "Número de trabajadores dependientes informados       0\n",
       "Fecha inicio de actividades vigente                 25\n",
       "Fecha término de giro                             5376\n",
       "Fecha primera inscripción de actividades             0\n",
       "Tipo término de giro                              5376\n",
       "Tipo de contribuyente                                0\n",
       "Subtipo de contribuyente                             0\n",
       "Tramo capital propio positivo                     2811\n",
       "Tramo capital propio negativo                     3776\n",
       "Rubro económico                                      0\n",
       "Subrubro económico                                   0\n",
       "Actividad económica                                  0\n",
       "Región                                               0\n",
       "Provincia                                            0\n",
       "Comuna_l                                             0\n",
       "Dv                                                  11\n",
       "Vigencia                                            11\n",
       "Fecha                                               11\n",
       "Tipo Direccion                                      11\n",
       "Calle                                               11\n",
       "Numero                                             818\n",
       "Bloque                                            5214\n",
       "Departamento                                      4761\n",
       "Villa Poblacion                                   3297\n",
       "Ciudad                                             676\n",
       "Comuna_r                                            11\n",
       "Region                                              11\n",
       "lon                                                  0\n",
       "lat                                                  0\n",
       "dtype: int64"
      ]
     },
     "execution_count": 10,
     "metadata": {},
     "output_type": "execute_result"
    }
   ],
   "source": [
    "business_location.isnull().sum()"
   ]
  },
  {
   "cell_type": "code",
   "execution_count": 11,
   "id": "bd26b2f3",
   "metadata": {},
   "outputs": [
    {
     "data": {
      "text/plain": [
       "Unnamed: 0                                          int64\n",
       "Unnamed: 0.1                                        int64\n",
       "Año comercial                                       int64\n",
       "RUT                                                 int64\n",
       "DV                                                 object\n",
       "Razón social                                       object\n",
       "Tramo según ventas                                  int64\n",
       "Número de trabajadores dependientes informados      int64\n",
       "Fecha inicio de actividades vigente                object\n",
       "Fecha término de giro                              object\n",
       "Fecha primera inscripción de actividades           object\n",
       "Tipo término de giro                               object\n",
       "Tipo de contribuyente                              object\n",
       "Subtipo de contribuyente                           object\n",
       "Tramo capital propio positivo                     float64\n",
       "Tramo capital propio negativo                     float64\n",
       "Rubro económico                                    object\n",
       "Subrubro económico                                 object\n",
       "Actividad económica                                object\n",
       "Región                                             object\n",
       "Provincia                                          object\n",
       "Comuna_l                                           object\n",
       "Dv                                                 object\n",
       "Vigencia                                           object\n",
       "Fecha                                              object\n",
       "Tipo Direccion                                     object\n",
       "Calle                                              object\n",
       "Numero                                             object\n",
       "Bloque                                             object\n",
       "Departamento                                       object\n",
       "Villa Poblacion                                    object\n",
       "Ciudad                                             object\n",
       "Comuna_r                                           object\n",
       "Region                                             object\n",
       "lon                                               float64\n",
       "lat                                               float64\n",
       "dtype: object"
      ]
     },
     "execution_count": 11,
     "metadata": {},
     "output_type": "execute_result"
    }
   ],
   "source": [
    "business_location.dtypes"
   ]
  },
  {
   "cell_type": "code",
   "execution_count": 12,
   "id": "062fa6ae",
   "metadata": {},
   "outputs": [
    {
     "data": {
      "text/plain": [
       "['Unnamed: 0',\n",
       " 'Unnamed: 0.1',\n",
       " 'Año comercial',\n",
       " 'RUT',\n",
       " 'DV',\n",
       " 'Razón social',\n",
       " 'Tramo según ventas',\n",
       " 'Número de trabajadores dependientes informados',\n",
       " 'Fecha inicio de actividades vigente',\n",
       " 'Fecha término de giro',\n",
       " 'Fecha primera inscripción de actividades',\n",
       " 'Tipo término de giro',\n",
       " 'Tipo de contribuyente',\n",
       " 'Subtipo de contribuyente',\n",
       " 'Tramo capital propio positivo',\n",
       " 'Tramo capital propio negativo',\n",
       " 'Rubro económico',\n",
       " 'Subrubro económico',\n",
       " 'Actividad económica',\n",
       " 'Región',\n",
       " 'Provincia',\n",
       " 'Comuna_l',\n",
       " 'Dv',\n",
       " 'Vigencia',\n",
       " 'Fecha',\n",
       " 'Tipo Direccion',\n",
       " 'Calle',\n",
       " 'Numero',\n",
       " 'Bloque',\n",
       " 'Departamento',\n",
       " 'Villa Poblacion',\n",
       " 'Ciudad',\n",
       " 'Comuna_r',\n",
       " 'Region',\n",
       " 'lon',\n",
       " 'lat']"
      ]
     },
     "execution_count": 12,
     "metadata": {},
     "output_type": "execute_result"
    }
   ],
   "source": [
    "business_location.columns.to_list()"
   ]
  },
  {
   "cell_type": "code",
   "execution_count": 19,
   "id": "59e500e6",
   "metadata": {},
   "outputs": [
    {
     "data": {
      "text/plain": [
       "207"
      ]
     },
     "execution_count": 19,
     "metadata": {},
     "output_type": "execute_result"
    }
   ],
   "source": [
    "business_location['Cd_Planta'].nunique()"
   ]
  },
  {
   "cell_type": "code",
   "execution_count": 15,
   "id": "259adce8",
   "metadata": {},
   "outputs": [
    {
     "data": {
      "text/plain": [
       "['Puerto Montt',\n",
       " 'Calbuco',\n",
       " 'Ancud',\n",
       " 'Castro',\n",
       " 'Quellon',\n",
       " 'Pto. Montt',\n",
       " 'Puerto Varas',\n",
       " 'Quemchi',\n",
       " 'Llanquihue',\n",
       " 'Chonchi',\n",
       " 'Dalcahue',\n",
       " 'Quellón',\n",
       " 'Palena',\n",
       " 'Maullin',\n",
       " 'Maullín',\n",
       " 'Carelmapu',\n",
       " 'Queilen',\n",
       " 'Las Quemas',\n",
       " 'Puerto Octay',\n",
       " 'Chaulinec',\n",
       " 'Puyehue',\n",
       " 'Osorno',\n",
       " 'Muermos',\n",
       " 'Contao']"
      ]
     },
     "execution_count": 15,
     "metadata": {},
     "output_type": "execute_result"
    }
   ],
   "source": [
    "#plants_location['Especie'].unique().tolist()\n",
    "plants_location['Ciudad_'].unique().tolist()"
   ]
  },
  {
   "cell_type": "code",
   "execution_count": 17,
   "id": "30f5bf3b",
   "metadata": {},
   "outputs": [
    {
     "data": {
      "image/png": "[encoded data removed]",
      "text/plain": [
       "<Figure size 1800x576 with 1 Axes>"
      ]
     },
     "metadata": {},
     "output_type": "display_data"
    }
   ],
   "source": [
    "def count_clases(df, column_name):\n",
    "    sns.set_theme(style=\"darkgrid\")\n",
    "    ax = sns.countplot(y=column_name, data=df)\n",
    "    sns.set(rc = {'figure.figsize':(25,8)})\n",
    "    #for item in ax.get_xticklabels():\n",
    "    #    item.set_rotation(90)\n",
    "\n",
    "count_clases(plants_location,'Ciudad_')"
   ]
  },
  {
   "cell_type": "code",
   "execution_count": 51,
   "id": "7d03304b",
   "metadata": {},
   "outputs": [],
   "source": [
    "plants_location = plants_location[plants_location['X'].notna()]\n",
    "plants_location = plants_location[plants_location['Y'].notna()]\n",
    "plantas_gdf = gpd.GeoDataFrame(\n",
    "    plants_location, geometry=gpd.points_from_xy(plants_location.Y, plants_location.X))\n"
   ]
  },
  {
   "cell_type": "code",
   "execution_count": 59,
   "id": "c438f5db",
   "metadata": {},
   "outputs": [
    {
     "name": "stderr",
     "output_type": "stream",
     "text": [
      "/home/pedro/miniconda3/envs/risk_assess/lib/python3.8/site-packages/contextily/tile.py:581: UserWarning: The inferred zoom level of 26 is not valid for the current tile provider (valid zooms: 0 - 20).\n",
      "  warnings.warn(msg)\n"
     ]
    },
    {
     "data": {
      "image/png": "[encoded data removed]",
      "text/plain": [
       "<Figure size 864x864 with 1 Axes>"
      ]
     },
     "metadata": {},
     "output_type": "display_data"
    }
   ],
   "source": [
    "fig, ax = plt.subplots(figsize=(12,12))\n",
    "plantas_gdf.plot(color='cyan',ax=ax,  alpha=0.4)\n",
    "ax.ticklabel_format(style='plain')\n",
    "ax.set_title('layer cliped')\n",
    "cx.add_basemap(ax, source=cx.providers.CartoDB.Voyager)\n",
    "plt.tight_layout()\n",
    "plt.show()"
   ]
  },
  {
   "cell_type": "code",
   "execution_count": 60,
   "id": "8d8142d1",
   "metadata": {},
   "outputs": [
    {
     "ename": "DriverError",
     "evalue": "Failed to create directory ../data/GIS/intermedios/plantas_gdf.geojson for shapefile datastore.",
     "output_type": "error",
     "traceback": [
      "\u001b[0;31m---------------------------------------------------------------------------\u001b[0m",
      "\u001b[0;31mCPLE_AppDefinedError\u001b[0m                      Traceback (most recent call last)",
      "\u001b[0;32mfiona/_shim.pyx\u001b[0m in \u001b[0;36mfiona._shim.gdal_create\u001b[0;34m()\u001b[0m\n",
      "\u001b[0;32mfiona/_err.pyx\u001b[0m in \u001b[0;36mfiona._err.exc_wrap_pointer\u001b[0;34m()\u001b[0m\n",
      "\u001b[0;31mCPLE_AppDefinedError\u001b[0m: Failed to create directory ../data/GIS/intermedios/plantas_gdf.geojson for shapefile datastore.",
      "\nDuring handling of the above exception, another exception occurred:\n",
      "\u001b[0;31mDriverError\u001b[0m                               Traceback (most recent call last)",
      "\u001b[0;32m/tmp/ipykernel_652711/2053596231.py\u001b[0m in \u001b[0;36m<module>\u001b[0;34m\u001b[0m\n\u001b[1;32m      1\u001b[0m \u001b[0mexport_geojson\u001b[0m \u001b[0;34m=\u001b[0m \u001b[0;34m'../data/GIS/intermedios/plantas_gdf.geojson'\u001b[0m\u001b[0;34m\u001b[0m\u001b[0;34m\u001b[0m\u001b[0m\n\u001b[0;32m----> 2\u001b[0;31m \u001b[0mplantas_gdf\u001b[0m\u001b[0;34m.\u001b[0m\u001b[0mto_file\u001b[0m\u001b[0;34m(\u001b[0m\u001b[0mexport_geojson\u001b[0m\u001b[0;34m)\u001b[0m\u001b[0;34m\u001b[0m\u001b[0;34m\u001b[0m\u001b[0m\n\u001b[0m",
      "\u001b[0;32m~/miniconda3/envs/risk_assess/lib/python3.8/site-packages/geopandas/geodataframe.py\u001b[0m in \u001b[0;36mto_file\u001b[0;34m(self, filename, driver, schema, index, **kwargs)\u001b[0m\n\u001b[1;32m   1084\u001b[0m         \u001b[0;32mfrom\u001b[0m \u001b[0mgeopandas\u001b[0m\u001b[0;34m.\u001b[0m\u001b[0mio\u001b[0m\u001b[0;34m.\u001b[0m\u001b[0mfile\u001b[0m \u001b[0;32mimport\u001b[0m \u001b[0m_to_file\u001b[0m\u001b[0;34m\u001b[0m\u001b[0;34m\u001b[0m\u001b[0m\n\u001b[1;32m   1085\u001b[0m \u001b[0;34m\u001b[0m\u001b[0m\n\u001b[0;32m-> 1086\u001b[0;31m         \u001b[0m_to_file\u001b[0m\u001b[0;34m(\u001b[0m\u001b[0mself\u001b[0m\u001b[0;34m,\u001b[0m \u001b[0mfilename\u001b[0m\u001b[0;34m,\u001b[0m \u001b[0mdriver\u001b[0m\u001b[0;34m,\u001b[0m \u001b[0mschema\u001b[0m\u001b[0;34m,\u001b[0m \u001b[0mindex\u001b[0m\u001b[0;34m,\u001b[0m \u001b[0;34m**\u001b[0m\u001b[0mkwargs\u001b[0m\u001b[0;34m)\u001b[0m\u001b[0;34m\u001b[0m\u001b[0;34m\u001b[0m\u001b[0m\n\u001b[0m\u001b[1;32m   1087\u001b[0m \u001b[0;34m\u001b[0m\u001b[0m\n\u001b[1;32m   1088\u001b[0m     \u001b[0;32mdef\u001b[0m \u001b[0mset_crs\u001b[0m\u001b[0;34m(\u001b[0m\u001b[0mself\u001b[0m\u001b[0;34m,\u001b[0m \u001b[0mcrs\u001b[0m\u001b[0;34m=\u001b[0m\u001b[0;32mNone\u001b[0m\u001b[0;34m,\u001b[0m \u001b[0mepsg\u001b[0m\u001b[0;34m=\u001b[0m\u001b[0;32mNone\u001b[0m\u001b[0;34m,\u001b[0m \u001b[0minplace\u001b[0m\u001b[0;34m=\u001b[0m\u001b[0;32mFalse\u001b[0m\u001b[0;34m,\u001b[0m \u001b[0mallow_override\u001b[0m\u001b[0;34m=\u001b[0m\u001b[0;32mFalse\u001b[0m\u001b[0;34m)\u001b[0m\u001b[0;34m:\u001b[0m\u001b[0;34m\u001b[0m\u001b[0;34m\u001b[0m\u001b[0m\n",
      "\u001b[0;32m~/miniconda3/envs/risk_assess/lib/python3.8/site-packages/geopandas/io/file.py\u001b[0m in \u001b[0;36m_to_file\u001b[0;34m(df, filename, driver, schema, index, mode, crs, **kwargs)\u001b[0m\n\u001b[1;32m    325\u001b[0m         \u001b[0;32melif\u001b[0m \u001b[0mcrs\u001b[0m\u001b[0;34m:\u001b[0m\u001b[0;34m\u001b[0m\u001b[0;34m\u001b[0m\u001b[0m\n\u001b[1;32m    326\u001b[0m             \u001b[0mcrs_wkt\u001b[0m \u001b[0;34m=\u001b[0m \u001b[0mcrs\u001b[0m\u001b[0;34m.\u001b[0m\u001b[0mto_wkt\u001b[0m\u001b[0;34m(\u001b[0m\u001b[0;34m\"WKT1_GDAL\"\u001b[0m\u001b[0;34m)\u001b[0m\u001b[0;34m\u001b[0m\u001b[0;34m\u001b[0m\u001b[0m\n\u001b[0;32m--> 327\u001b[0;31m         with fiona.open(\n\u001b[0m\u001b[1;32m    328\u001b[0m             \u001b[0mfilename\u001b[0m\u001b[0;34m,\u001b[0m \u001b[0mmode\u001b[0m\u001b[0;34m=\u001b[0m\u001b[0mmode\u001b[0m\u001b[0;34m,\u001b[0m \u001b[0mdriver\u001b[0m\u001b[0;34m=\u001b[0m\u001b[0mdriver\u001b[0m\u001b[0;34m,\u001b[0m \u001b[0mcrs_wkt\u001b[0m\u001b[0;34m=\u001b[0m\u001b[0mcrs_wkt\u001b[0m\u001b[0;34m,\u001b[0m \u001b[0mschema\u001b[0m\u001b[0;34m=\u001b[0m\u001b[0mschema\u001b[0m\u001b[0;34m,\u001b[0m \u001b[0;34m**\u001b[0m\u001b[0mkwargs\u001b[0m\u001b[0;34m\u001b[0m\u001b[0;34m\u001b[0m\u001b[0m\n\u001b[1;32m    329\u001b[0m         ) as colxn:\n",
      "\u001b[0;32m~/miniconda3/envs/risk_assess/lib/python3.8/site-packages/fiona/env.py\u001b[0m in \u001b[0;36mwrapper\u001b[0;34m(*args, **kwargs)\u001b[0m\n\u001b[1;32m    396\u001b[0m     \u001b[0;32mdef\u001b[0m \u001b[0mwrapper\u001b[0m\u001b[0;34m(\u001b[0m\u001b[0;34m*\u001b[0m\u001b[0margs\u001b[0m\u001b[0;34m,\u001b[0m \u001b[0;34m**\u001b[0m\u001b[0mkwargs\u001b[0m\u001b[0;34m)\u001b[0m\u001b[0;34m:\u001b[0m\u001b[0;34m\u001b[0m\u001b[0;34m\u001b[0m\u001b[0m\n\u001b[1;32m    397\u001b[0m         \u001b[0;32mif\u001b[0m \u001b[0mlocal\u001b[0m\u001b[0;34m.\u001b[0m\u001b[0m_env\u001b[0m\u001b[0;34m:\u001b[0m\u001b[0;34m\u001b[0m\u001b[0;34m\u001b[0m\u001b[0m\n\u001b[0;32m--> 398\u001b[0;31m             \u001b[0;32mreturn\u001b[0m \u001b[0mf\u001b[0m\u001b[0;34m(\u001b[0m\u001b[0;34m*\u001b[0m\u001b[0margs\u001b[0m\u001b[0;34m,\u001b[0m \u001b[0;34m**\u001b[0m\u001b[0mkwargs\u001b[0m\u001b[0;34m)\u001b[0m\u001b[0;34m\u001b[0m\u001b[0;34m\u001b[0m\u001b[0m\n\u001b[0m\u001b[1;32m    399\u001b[0m         \u001b[0;32melse\u001b[0m\u001b[0;34m:\u001b[0m\u001b[0;34m\u001b[0m\u001b[0;34m\u001b[0m\u001b[0m\n\u001b[1;32m    400\u001b[0m             \u001b[0;32mif\u001b[0m \u001b[0misinstance\u001b[0m\u001b[0;34m(\u001b[0m\u001b[0margs\u001b[0m\u001b[0;34m[\u001b[0m\u001b[0;36m0\u001b[0m\u001b[0;34m]\u001b[0m\u001b[0;34m,\u001b[0m \u001b[0mstr\u001b[0m\u001b[0;34m)\u001b[0m\u001b[0;34m:\u001b[0m\u001b[0;34m\u001b[0m\u001b[0;34m\u001b[0m\u001b[0m\n",
      "\u001b[0;32m~/miniconda3/envs/risk_assess/lib/python3.8/site-packages/fiona/__init__.py\u001b[0m in \u001b[0;36mopen\u001b[0;34m(fp, mode, driver, schema, crs, encoding, layer, vfs, enabled_drivers, crs_wkt, **kwargs)\u001b[0m\n\u001b[1;32m    260\u001b[0m             \u001b[0;32melse\u001b[0m\u001b[0;34m:\u001b[0m\u001b[0;34m\u001b[0m\u001b[0;34m\u001b[0m\u001b[0m\n\u001b[1;32m    261\u001b[0m                 \u001b[0mthis_schema\u001b[0m \u001b[0;34m=\u001b[0m \u001b[0;32mNone\u001b[0m\u001b[0;34m\u001b[0m\u001b[0;34m\u001b[0m\u001b[0m\n\u001b[0;32m--> 262\u001b[0;31m             c = Collection(path, mode, crs=crs, driver=driver, schema=this_schema,\n\u001b[0m\u001b[1;32m    263\u001b[0m                            \u001b[0mencoding\u001b[0m\u001b[0;34m=\u001b[0m\u001b[0mencoding\u001b[0m\u001b[0;34m,\u001b[0m \u001b[0mlayer\u001b[0m\u001b[0;34m=\u001b[0m\u001b[0mlayer\u001b[0m\u001b[0;34m,\u001b[0m \u001b[0menabled_drivers\u001b[0m\u001b[0;34m=\u001b[0m\u001b[0menabled_drivers\u001b[0m\u001b[0;34m,\u001b[0m \u001b[0mcrs_wkt\u001b[0m\u001b[0;34m=\u001b[0m\u001b[0mcrs_wkt\u001b[0m\u001b[0;34m,\u001b[0m\u001b[0;34m\u001b[0m\u001b[0;34m\u001b[0m\u001b[0m\n\u001b[1;32m    264\u001b[0m                            **kwargs)\n",
      "\u001b[0;32m~/miniconda3/envs/risk_assess/lib/python3.8/site-packages/fiona/collection.py\u001b[0m in \u001b[0;36m__init__\u001b[0;34m(self, path, mode, driver, schema, crs, encoding, layer, vsi, archive, enabled_drivers, crs_wkt, ignore_fields, ignore_geometry, **kwargs)\u001b[0m\n\u001b[1;32m    155\u001b[0m             \u001b[0;32melif\u001b[0m \u001b[0mself\u001b[0m\u001b[0;34m.\u001b[0m\u001b[0mmode\u001b[0m \u001b[0;32min\u001b[0m \u001b[0;34m(\u001b[0m\u001b[0;34m'a'\u001b[0m\u001b[0;34m,\u001b[0m \u001b[0;34m'w'\u001b[0m\u001b[0;34m)\u001b[0m\u001b[0;34m:\u001b[0m\u001b[0;34m\u001b[0m\u001b[0;34m\u001b[0m\u001b[0m\n\u001b[1;32m    156\u001b[0m                 \u001b[0mself\u001b[0m\u001b[0;34m.\u001b[0m\u001b[0msession\u001b[0m \u001b[0;34m=\u001b[0m \u001b[0mWritingSession\u001b[0m\u001b[0;34m(\u001b[0m\u001b[0;34m)\u001b[0m\u001b[0;34m\u001b[0m\u001b[0;34m\u001b[0m\u001b[0m\n\u001b[0;32m--> 157\u001b[0;31m                 \u001b[0mself\u001b[0m\u001b[0;34m.\u001b[0m\u001b[0msession\u001b[0m\u001b[0;34m.\u001b[0m\u001b[0mstart\u001b[0m\u001b[0;34m(\u001b[0m\u001b[0mself\u001b[0m\u001b[0;34m,\u001b[0m \u001b[0;34m**\u001b[0m\u001b[0mkwargs\u001b[0m\u001b[0;34m)\u001b[0m\u001b[0;34m\u001b[0m\u001b[0;34m\u001b[0m\u001b[0m\n\u001b[0m\u001b[1;32m    158\u001b[0m         \u001b[0;32mexcept\u001b[0m \u001b[0mIOError\u001b[0m\u001b[0;34m:\u001b[0m\u001b[0;34m\u001b[0m\u001b[0;34m\u001b[0m\u001b[0m\n\u001b[1;32m    159\u001b[0m             \u001b[0mself\u001b[0m\u001b[0;34m.\u001b[0m\u001b[0msession\u001b[0m \u001b[0;34m=\u001b[0m \u001b[0;32mNone\u001b[0m\u001b[0;34m\u001b[0m\u001b[0;34m\u001b[0m\u001b[0m\n",
      "\u001b[0;32mfiona/ogrext.pyx\u001b[0m in \u001b[0;36mfiona.ogrext.WritingSession.start\u001b[0;34m()\u001b[0m\n",
      "\u001b[0;32mfiona/_shim.pyx\u001b[0m in \u001b[0;36mfiona._shim.gdal_create\u001b[0;34m()\u001b[0m\n",
      "\u001b[0;31mDriverError\u001b[0m: Failed to create directory ../data/GIS/intermedios/plantas_gdf.geojson for shapefile datastore."
     ]
    }
   ],
   "source": [
    "export_geojson = '../data/GIS/intermedios/plantas_gdf.geojson'\n",
    "plantas_gdf.to_file(export_geojson)"
   ]
  }
 ],
 "metadata": {
  "kernelspec": {
   "display_name": "Python 3.8.12 ('risk_assess')",
   "language": "python",
   "name": "python3"
  },
  "language_info": {
   "codemirror_mode": {
    "name": "ipython",
    "version": 3
   },
   "file_extension": ".py",
   "mimetype": "text/x-python",
   "name": "python",
   "nbconvert_exporter": "python",
   "pygments_lexer": "ipython3",
   "version": "3.8.12"
  },
  "vscode": {
   "interpreter": {
    "hash": "dfb29a92caac195ffe13cc7ed6e877665023cae98347040b90a1df7bef0a6cfd"
   }
  }
 },
 "nbformat": 4,
 "nbformat_minor": 5
}

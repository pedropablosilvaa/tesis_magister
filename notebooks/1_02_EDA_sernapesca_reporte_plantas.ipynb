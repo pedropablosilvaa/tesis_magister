{
 "cells": [
  {
   "cell_type": "markdown",
   "id": "a60e1b16",
   "metadata": {},
   "source": [
    "# EDA para información entregada por Sernapesca"
   ]
  },
  {
   "cell_type": "markdown",
   "id": "4e74951c",
   "metadata": {},
   "source": [
    "#### Introducción\n",
    "Este Noteboopk corresponde al análisis exploratorio del archivo enviado por sernapesca llamado \"Reporte de Plantas.xlsx\", el cual es extraido desde una platadorma interna, la cual no es la ya conocida Reporteador. \n",
    " \n",
    "Resumen:\n",
    "* Tiene una dimensión de (54211, 35).\n",
    "* Este archivo es una tabla con los ingresos a las plantas, entrega información de los centros de cultivo de origen.\n",
    "* Es para la III, IV, V, RM, VIII, IX, X, XIV\n",
    "* Sólo para las especies de Molusco."
   ]
  },
  {
   "cell_type": "markdown",
   "id": "96430312",
   "metadata": {},
   "source": [
    "### Import libreries"
   ]
  },
  {
   "cell_type": "code",
   "execution_count": 2,
   "id": "ae17ab06",
   "metadata": {},
   "outputs": [],
   "source": [
    "import logging\n",
    "import subprocess\n",
    "import os   \n",
    "import pandas as pd\n",
    "import seaborn as sns"
   ]
  },
  {
   "cell_type": "markdown",
   "id": "22c8d822",
   "metadata": {},
   "source": [
    "### Reading file \"Ingresos\""
   ]
  },
  {
   "cell_type": "code",
   "execution_count": 3,
   "id": "dacd2257",
   "metadata": {},
   "outputs": [
    {
     "name": "stdout",
     "output_type": "stream",
     "text": [
      "CPU times: total: 28.3 s\n",
      "Wall time: 28.9 s\n"
     ]
    }
   ],
   "source": [
    "%%time\n",
    "reporte_plantas_raw = pd.read_excel(\"../data/datos_nelson/Reporte de Plantas.xlsx\")"
   ]
  },
  {
   "cell_type": "code",
   "execution_count": 4,
   "id": "ad41c0e5",
   "metadata": {},
   "outputs": [
    {
     "data": {
      "text/plain": [
       "(54211, 35)"
      ]
     },
     "execution_count": 4,
     "metadata": {},
     "output_type": "execute_result"
    }
   ],
   "source": [
    "reporte_plantas_raw.shape"
   ]
  },
  {
   "cell_type": "code",
   "execution_count": 5,
   "id": "43b4281c",
   "metadata": {},
   "outputs": [
    {
     "data": {
      "text/html": [
       "<div>\n",
       "<style scoped>\n",
       "    .dataframe tbody tr th:only-of-type {\n",
       "        vertical-align: middle;\n",
       "    }\n",
       "\n",
       "    .dataframe tbody tr th {\n",
       "        vertical-align: top;\n",
       "    }\n",
       "\n",
       "    .dataframe thead th {\n",
       "        text-align: right;\n",
       "    }\n",
       "</style>\n",
       "<table border=\"1\" class=\"dataframe\">\n",
       "  <thead>\n",
       "    <tr style=\"text-align: right;\">\n",
       "      <th></th>\n",
       "      <th>Año Declaración</th>\n",
       "      <th>Mes Declaración</th>\n",
       "      <th>Región Agente</th>\n",
       "      <th>Tipo Agente</th>\n",
       "      <th>Código Agente</th>\n",
       "      <th>Nombre Agente</th>\n",
       "      <th>Fecha Declaración</th>\n",
       "      <th>Nº Declaración</th>\n",
       "      <th>idStock</th>\n",
       "      <th>Tipo Item</th>\n",
       "      <th>...</th>\n",
       "      <th>utilizado</th>\n",
       "      <th>Toneladas Rest</th>\n",
       "      <th>Unidades Rest</th>\n",
       "      <th>Tipo Declaración</th>\n",
       "      <th>idBodega</th>\n",
       "      <th>Nombre Bodega</th>\n",
       "      <th>Tipo Bodega</th>\n",
       "      <th>Dirección Bodega</th>\n",
       "      <th>Ciudad Bodega</th>\n",
       "      <th>Región Bodega</th>\n",
       "    </tr>\n",
       "  </thead>\n",
       "  <tbody>\n",
       "    <tr>\n",
       "      <th>0</th>\n",
       "      <td>2021</td>\n",
       "      <td>ene.</td>\n",
       "      <td>III REGION</td>\n",
       "      <td>Planta</td>\n",
       "      <td>3061</td>\n",
       "      <td>CAMANCHACA S.A.</td>\n",
       "      <td>2021-01-19</td>\n",
       "      <td>3607070</td>\n",
       "      <td>4412221</td>\n",
       "      <td>ESP</td>\n",
       "      <td>...</td>\n",
       "      <td>-1</td>\n",
       "      <td>0.0</td>\n",
       "      <td>0</td>\n",
       "      <td>Planta Abastecimiento</td>\n",
       "      <td>1980</td>\n",
       "      <td>RMP</td>\n",
       "      <td>PLANTA</td>\n",
       "      <td>Diego de Almeyda 1003, Caldera\\n</td>\n",
       "      <td>Caldera</td>\n",
       "      <td>III REGION</td>\n",
       "    </tr>\n",
       "    <tr>\n",
       "      <th>1</th>\n",
       "      <td>2021</td>\n",
       "      <td>ene.</td>\n",
       "      <td>III REGION</td>\n",
       "      <td>Planta</td>\n",
       "      <td>3061</td>\n",
       "      <td>CAMANCHACA S.A.</td>\n",
       "      <td>2021-01-19</td>\n",
       "      <td>3607070</td>\n",
       "      <td>4412222</td>\n",
       "      <td>ESP</td>\n",
       "      <td>...</td>\n",
       "      <td>-1</td>\n",
       "      <td>0.0</td>\n",
       "      <td>0</td>\n",
       "      <td>Planta Abastecimiento</td>\n",
       "      <td>1980</td>\n",
       "      <td>RMP</td>\n",
       "      <td>PLANTA</td>\n",
       "      <td>Diego de Almeyda 1003, Caldera\\n</td>\n",
       "      <td>Caldera</td>\n",
       "      <td>III REGION</td>\n",
       "    </tr>\n",
       "    <tr>\n",
       "      <th>2</th>\n",
       "      <td>2021</td>\n",
       "      <td>ene.</td>\n",
       "      <td>III REGION</td>\n",
       "      <td>Planta</td>\n",
       "      <td>3061</td>\n",
       "      <td>CAMANCHACA S.A.</td>\n",
       "      <td>2021-01-19</td>\n",
       "      <td>3607070</td>\n",
       "      <td>4412223</td>\n",
       "      <td>ESP</td>\n",
       "      <td>...</td>\n",
       "      <td>-1</td>\n",
       "      <td>0.0</td>\n",
       "      <td>0</td>\n",
       "      <td>Planta Abastecimiento</td>\n",
       "      <td>1980</td>\n",
       "      <td>RMP</td>\n",
       "      <td>PLANTA</td>\n",
       "      <td>Diego de Almeyda 1003, Caldera\\n</td>\n",
       "      <td>Caldera</td>\n",
       "      <td>III REGION</td>\n",
       "    </tr>\n",
       "    <tr>\n",
       "      <th>3</th>\n",
       "      <td>2021</td>\n",
       "      <td>ene.</td>\n",
       "      <td>III REGION</td>\n",
       "      <td>Planta</td>\n",
       "      <td>3061</td>\n",
       "      <td>CAMANCHACA S.A.</td>\n",
       "      <td>2021-01-19</td>\n",
       "      <td>3607071</td>\n",
       "      <td>4412225</td>\n",
       "      <td>ESP</td>\n",
       "      <td>...</td>\n",
       "      <td>-1</td>\n",
       "      <td>0.0</td>\n",
       "      <td>0</td>\n",
       "      <td>Planta Abastecimiento</td>\n",
       "      <td>1980</td>\n",
       "      <td>RMP</td>\n",
       "      <td>PLANTA</td>\n",
       "      <td>Diego de Almeyda 1003, Caldera\\n</td>\n",
       "      <td>Caldera</td>\n",
       "      <td>III REGION</td>\n",
       "    </tr>\n",
       "    <tr>\n",
       "      <th>4</th>\n",
       "      <td>2021</td>\n",
       "      <td>ene.</td>\n",
       "      <td>III REGION</td>\n",
       "      <td>Planta</td>\n",
       "      <td>3061</td>\n",
       "      <td>CAMANCHACA S.A.</td>\n",
       "      <td>2021-01-19</td>\n",
       "      <td>3607071</td>\n",
       "      <td>4412226</td>\n",
       "      <td>ESP</td>\n",
       "      <td>...</td>\n",
       "      <td>-1</td>\n",
       "      <td>0.0</td>\n",
       "      <td>0</td>\n",
       "      <td>Planta Abastecimiento</td>\n",
       "      <td>1980</td>\n",
       "      <td>RMP</td>\n",
       "      <td>PLANTA</td>\n",
       "      <td>Diego de Almeyda 1003, Caldera\\n</td>\n",
       "      <td>Caldera</td>\n",
       "      <td>III REGION</td>\n",
       "    </tr>\n",
       "  </tbody>\n",
       "</table>\n",
       "<p>5 rows × 35 columns</p>\n",
       "</div>"
      ],
      "text/plain": [
       "   Año Declaración Mes Declaración Región Agente Tipo Agente  Código Agente  \\\n",
       "0             2021            ene.    III REGION      Planta           3061   \n",
       "1             2021            ene.    III REGION      Planta           3061   \n",
       "2             2021            ene.    III REGION      Planta           3061   \n",
       "3             2021            ene.    III REGION      Planta           3061   \n",
       "4             2021            ene.    III REGION      Planta           3061   \n",
       "\n",
       "     Nombre Agente Fecha Declaración  Nº Declaración  idStock Tipo Item  ...  \\\n",
       "0  CAMANCHACA S.A.        2021-01-19         3607070  4412221       ESP  ...   \n",
       "1  CAMANCHACA S.A.        2021-01-19         3607070  4412222       ESP  ...   \n",
       "2  CAMANCHACA S.A.        2021-01-19         3607070  4412223       ESP  ...   \n",
       "3  CAMANCHACA S.A.        2021-01-19         3607071  4412225       ESP  ...   \n",
       "4  CAMANCHACA S.A.        2021-01-19         3607071  4412226       ESP  ...   \n",
       "\n",
       "   utilizado Toneladas Rest Unidades Rest       Tipo Declaración idBodega  \\\n",
       "0         -1            0.0             0  Planta Abastecimiento     1980   \n",
       "1         -1            0.0             0  Planta Abastecimiento     1980   \n",
       "2         -1            0.0             0  Planta Abastecimiento     1980   \n",
       "3         -1            0.0             0  Planta Abastecimiento     1980   \n",
       "4         -1            0.0             0  Planta Abastecimiento     1980   \n",
       "\n",
       "   Nombre Bodega Tipo Bodega                  Dirección Bodega Ciudad Bodega  \\\n",
       "0            RMP      PLANTA  Diego de Almeyda 1003, Caldera\\n       Caldera   \n",
       "1            RMP      PLANTA  Diego de Almeyda 1003, Caldera\\n       Caldera   \n",
       "2            RMP      PLANTA  Diego de Almeyda 1003, Caldera\\n       Caldera   \n",
       "3            RMP      PLANTA  Diego de Almeyda 1003, Caldera\\n       Caldera   \n",
       "4            RMP      PLANTA  Diego de Almeyda 1003, Caldera\\n       Caldera   \n",
       "\n",
       "   Región Bodega  \n",
       "0     III REGION  \n",
       "1     III REGION  \n",
       "2     III REGION  \n",
       "3     III REGION  \n",
       "4     III REGION  \n",
       "\n",
       "[5 rows x 35 columns]"
      ]
     },
     "execution_count": 5,
     "metadata": {},
     "output_type": "execute_result"
    }
   ],
   "source": [
    "reporte_plantas_raw.head()"
   ]
  },
  {
   "cell_type": "code",
   "execution_count": 6,
   "id": "a94c684c",
   "metadata": {},
   "outputs": [
    {
     "data": {
      "text/plain": [
       "['Año Declaración',\n",
       " 'Mes Declaración',\n",
       " 'Región Agente',\n",
       " 'Tipo Agente',\n",
       " 'Código Agente',\n",
       " 'Nombre Agente',\n",
       " 'Fecha Declaración',\n",
       " 'Nº Declaración',\n",
       " 'idStock',\n",
       " 'Tipo Item',\n",
       " 'Código Item',\n",
       " 'Nombre Item',\n",
       " 'Fecha Item',\n",
       " 'Estado Recurso',\n",
       " 'Tipo Origen',\n",
       " 'Código Origen',\n",
       " 'Nombre Origen',\n",
       " 'Folio Origen',\n",
       " 'Tipo Ult. Proveedor',\n",
       " 'Código Ult. Proveedor',\n",
       " 'Nombre Ult. Proveedor',\n",
       " 'Folio Ult. Proveedor',\n",
       " 'Fecha Ult. Proveedor',\n",
       " 'Toneladas Abastecidas',\n",
       " 'Unidades Abastecidas',\n",
       " 'utilizado',\n",
       " 'Toneladas Rest',\n",
       " 'Unidades Rest',\n",
       " 'Tipo Declaración',\n",
       " 'idBodega',\n",
       " 'Nombre Bodega',\n",
       " 'Tipo Bodega',\n",
       " 'Dirección Bodega',\n",
       " 'Ciudad Bodega',\n",
       " 'Región Bodega']"
      ]
     },
     "execution_count": 6,
     "metadata": {},
     "output_type": "execute_result"
    }
   ],
   "source": [
    "reporte_plantas_raw.columns.to_list()"
   ]
  },
  {
   "cell_type": "code",
   "execution_count": 7,
   "id": "1bea8212",
   "metadata": {},
   "outputs": [
    {
     "data": {
      "text/plain": [
       "<bound method DataFrame.info of        Año Declaración Mes Declaración         Región Agente Tipo Agente  \\\n",
       "0                 2021            ene.            III REGION      Planta   \n",
       "1                 2021            ene.            III REGION      Planta   \n",
       "2                 2021            ene.            III REGION      Planta   \n",
       "3                 2021            ene.            III REGION      Planta   \n",
       "4                 2021            ene.            III REGION      Planta   \n",
       "...                ...             ...                   ...         ...   \n",
       "54206             2022            jun.  REGION METROPOLITANA      Planta   \n",
       "54207             2022            jun.  REGION METROPOLITANA      Planta   \n",
       "54208             2022            jun.  REGION METROPOLITANA      Planta   \n",
       "54209             2022            jun.  REGION METROPOLITANA      Planta   \n",
       "54210             2021            jun.            XIV REGION      Planta   \n",
       "\n",
       "       Código Agente                                      Nombre Agente  \\\n",
       "0               3061                                    CAMANCHACA S.A.   \n",
       "1               3061                                    CAMANCHACA S.A.   \n",
       "2               3061                                    CAMANCHACA S.A.   \n",
       "3               3061                                    CAMANCHACA S.A.   \n",
       "4               3061                                    CAMANCHACA S.A.   \n",
       "...              ...                                                ...   \n",
       "54206          13170                  ACUITEC SOLUCIONES ACUATICAS LTDA   \n",
       "54207          13170                  ACUITEC SOLUCIONES ACUATICAS LTDA   \n",
       "54208          13170                  ACUITEC SOLUCIONES ACUATICAS LTDA   \n",
       "54209          13170                  ACUITEC SOLUCIONES ACUATICAS LTDA   \n",
       "54210          14004  FED. PROV. DE PESC. ART., BUZOS MARISC., ALG. ...   \n",
       "\n",
       "      Fecha Declaración  Nº Declaración  idStock Tipo Item  ...  utilizado  \\\n",
       "0            2021-01-19         3607070  4412221       ESP  ...         -1   \n",
       "1            2021-01-19         3607070  4412222       ESP  ...         -1   \n",
       "2            2021-01-19         3607070  4412223       ESP  ...         -1   \n",
       "3            2021-01-19         3607071  4412225       ESP  ...         -1   \n",
       "4            2021-01-19         3607071  4412226       ESP  ...         -1   \n",
       "...                 ...             ...      ...       ...  ...        ...   \n",
       "54206        2022-06-07         3912518  6573097       ESP  ...         -1   \n",
       "54207        2022-06-11         3915785  6598926       ESP  ...         -1   \n",
       "54208        2022-06-15         3918006  6614781       ESP  ...         -1   \n",
       "54209        2022-06-17         3919662  6626920       ESP  ...         -1   \n",
       "54210        2021-06-29         3707774  5137919       ESP  ...         -1   \n",
       "\n",
       "      Toneladas Rest Unidades Rest       Tipo Declaración idBodega  \\\n",
       "0                0.0             0  Planta Abastecimiento     1980   \n",
       "1                0.0             0  Planta Abastecimiento     1980   \n",
       "2                0.0             0  Planta Abastecimiento     1980   \n",
       "3                0.0             0  Planta Abastecimiento     1980   \n",
       "4                0.0             0  Planta Abastecimiento     1980   \n",
       "...              ...           ...                    ...      ...   \n",
       "54206            0.0             -  Planta Abastecimiento     3542   \n",
       "54207            0.0             -  Planta Abastecimiento     3542   \n",
       "54208            0.0             -  Planta Abastecimiento     3542   \n",
       "54209            0.0             -  Planta Abastecimiento     3542   \n",
       "54210            0.0             -  Planta Abastecimiento      393   \n",
       "\n",
       "              Nombre Bodega  Tipo Bodega                  Dirección Bodega  \\\n",
       "0                       RMP       PLANTA  Diego de Almeyda 1003, Caldera\\n   \n",
       "1                       RMP       PLANTA  Diego de Almeyda 1003, Caldera\\n   \n",
       "2                       RMP       PLANTA  Diego de Almeyda 1003, Caldera\\n   \n",
       "3                       RMP       PLANTA  Diego de Almeyda 1003, Caldera\\n   \n",
       "4                       RMP       PLANTA  Diego de Almeyda 1003, Caldera\\n   \n",
       "...                     ...          ...                               ...   \n",
       "54206  DELICIAS DE ALTA MAR  FRIGORIFICO            CALLE ANDES 2111, STGO   \n",
       "54207  DELICIAS DE ALTA MAR  FRIGORIFICO            CALLE ANDES 2111, STGO   \n",
       "54208  DELICIAS DE ALTA MAR  FRIGORIFICO            CALLE ANDES 2111, STGO   \n",
       "54209  DELICIAS DE ALTA MAR  FRIGORIFICO            CALLE ANDES 2111, STGO   \n",
       "54210             CAMARA 18  FRIGORIFICO        Caleta Niebla S/N Valdivia   \n",
       "\n",
       "      Ciudad Bodega         Región Bodega  \n",
       "0           Caldera            III REGION  \n",
       "1           Caldera            III REGION  \n",
       "2           Caldera            III REGION  \n",
       "3           Caldera            III REGION  \n",
       "4           Caldera            III REGION  \n",
       "...             ...                   ...  \n",
       "54206      Santiago  REGION METROPOLITANA  \n",
       "54207      Santiago  REGION METROPOLITANA  \n",
       "54208      Santiago  REGION METROPOLITANA  \n",
       "54209      Santiago  REGION METROPOLITANA  \n",
       "54210      Valdivia            XIV REGION  \n",
       "\n",
       "[54211 rows x 35 columns]>"
      ]
     },
     "execution_count": 7,
     "metadata": {},
     "output_type": "execute_result"
    }
   ],
   "source": [
    "reporte_plantas_raw.info"
   ]
  },
  {
   "cell_type": "code",
   "execution_count": 8,
   "id": "b9d2996b",
   "metadata": {},
   "outputs": [
    {
     "data": {
      "text/html": [
       "<div>\n",
       "<style scoped>\n",
       "    .dataframe tbody tr th:only-of-type {\n",
       "        vertical-align: middle;\n",
       "    }\n",
       "\n",
       "    .dataframe tbody tr th {\n",
       "        vertical-align: top;\n",
       "    }\n",
       "\n",
       "    .dataframe thead th {\n",
       "        text-align: right;\n",
       "    }\n",
       "</style>\n",
       "<table border=\"1\" class=\"dataframe\">\n",
       "  <thead>\n",
       "    <tr style=\"text-align: right;\">\n",
       "      <th></th>\n",
       "      <th>Año Declaración</th>\n",
       "      <th>Código Agente</th>\n",
       "      <th>Nº Declaración</th>\n",
       "      <th>idStock</th>\n",
       "      <th>Código Item</th>\n",
       "      <th>Código Origen</th>\n",
       "      <th>Folio Origen</th>\n",
       "      <th>Código Ult. Proveedor</th>\n",
       "      <th>Folio Ult. Proveedor</th>\n",
       "      <th>Toneladas Abastecidas</th>\n",
       "      <th>Unidades Abastecidas</th>\n",
       "      <th>Toneladas Rest</th>\n",
       "      <th>idBodega</th>\n",
       "    </tr>\n",
       "  </thead>\n",
       "  <tbody>\n",
       "    <tr>\n",
       "      <th>count</th>\n",
       "      <td>54211.000000</td>\n",
       "      <td>54211.000000</td>\n",
       "      <td>5.421100e+04</td>\n",
       "      <td>5.421100e+04</td>\n",
       "      <td>54211.000000</td>\n",
       "      <td>54211.000000</td>\n",
       "      <td>5.421100e+04</td>\n",
       "      <td>54211.000000</td>\n",
       "      <td>5.421100e+04</td>\n",
       "      <td>54211.000000</td>\n",
       "      <td>54211.000000</td>\n",
       "      <td>54211.000000</td>\n",
       "      <td>54211.000000</td>\n",
       "    </tr>\n",
       "    <tr>\n",
       "      <th>mean</th>\n",
       "      <td>2021.390954</td>\n",
       "      <td>10553.460276</td>\n",
       "      <td>3.758622e+06</td>\n",
       "      <td>5.492582e+06</td>\n",
       "      <td>430.770692</td>\n",
       "      <td>101613.924683</td>\n",
       "      <td>6.968702e+05</td>\n",
       "      <td>73688.623748</td>\n",
       "      <td>1.212061e+06</td>\n",
       "      <td>12.567038</td>\n",
       "      <td>220.313294</td>\n",
       "      <td>0.306546</td>\n",
       "      <td>2908.368855</td>\n",
       "    </tr>\n",
       "    <tr>\n",
       "      <th>std</th>\n",
       "      <td>0.487969</td>\n",
       "      <td>1123.627020</td>\n",
       "      <td>9.948752e+04</td>\n",
       "      <td>7.026123e+05</td>\n",
       "      <td>4.475930</td>\n",
       "      <td>10554.387008</td>\n",
       "      <td>8.370285e+04</td>\n",
       "      <td>44532.792420</td>\n",
       "      <td>8.294345e+05</td>\n",
       "      <td>6.870604</td>\n",
       "      <td>1660.490364</td>\n",
       "      <td>1.404914</td>\n",
       "      <td>475.163295</td>\n",
       "    </tr>\n",
       "    <tr>\n",
       "      <th>min</th>\n",
       "      <td>2021.000000</td>\n",
       "      <td>3061.000000</td>\n",
       "      <td>3.597585e+06</td>\n",
       "      <td>4.344185e+06</td>\n",
       "      <td>425.000000</td>\n",
       "      <td>30052.000000</td>\n",
       "      <td>1.606080e+05</td>\n",
       "      <td>498.000000</td>\n",
       "      <td>2.204530e+05</td>\n",
       "      <td>0.001000</td>\n",
       "      <td>0.000000</td>\n",
       "      <td>0.000000</td>\n",
       "      <td>347.000000</td>\n",
       "    </tr>\n",
       "    <tr>\n",
       "      <th>25%</th>\n",
       "      <td>2021.000000</td>\n",
       "      <td>10671.000000</td>\n",
       "      <td>3.672702e+06</td>\n",
       "      <td>4.885706e+06</td>\n",
       "      <td>430.000000</td>\n",
       "      <td>102389.000000</td>\n",
       "      <td>6.558465e+05</td>\n",
       "      <td>6794.000000</td>\n",
       "      <td>6.630885e+05</td>\n",
       "      <td>10.000000</td>\n",
       "      <td>0.000000</td>\n",
       "      <td>0.000000</td>\n",
       "      <td>2719.000000</td>\n",
       "    </tr>\n",
       "    <tr>\n",
       "      <th>50%</th>\n",
       "      <td>2021.000000</td>\n",
       "      <td>10752.000000</td>\n",
       "      <td>3.735151e+06</td>\n",
       "      <td>5.336157e+06</td>\n",
       "      <td>430.000000</td>\n",
       "      <td>103334.000000</td>\n",
       "      <td>6.798220e+05</td>\n",
       "      <td>102515.000000</td>\n",
       "      <td>6.987030e+05</td>\n",
       "      <td>10.835000</td>\n",
       "      <td>0.000000</td>\n",
       "      <td>0.000000</td>\n",
       "      <td>2750.000000</td>\n",
       "    </tr>\n",
       "    <tr>\n",
       "      <th>75%</th>\n",
       "      <td>2022.000000</td>\n",
       "      <td>10774.000000</td>\n",
       "      <td>3.849761e+06</td>\n",
       "      <td>6.135358e+06</td>\n",
       "      <td>430.000000</td>\n",
       "      <td>103765.000000</td>\n",
       "      <td>7.021245e+05</td>\n",
       "      <td>103652.000000</td>\n",
       "      <td>2.149322e+06</td>\n",
       "      <td>12.550000</td>\n",
       "      <td>0.000000</td>\n",
       "      <td>0.000000</td>\n",
       "      <td>2869.000000</td>\n",
       "    </tr>\n",
       "    <tr>\n",
       "      <th>max</th>\n",
       "      <td>2022.000000</td>\n",
       "      <td>14004.000000</td>\n",
       "      <td>3.923734e+06</td>\n",
       "      <td>6.654844e+06</td>\n",
       "      <td>457.000000</td>\n",
       "      <td>814014.000000</td>\n",
       "      <td>1.025508e+06</td>\n",
       "      <td>814014.000000</td>\n",
       "      <td>6.236651e+06</td>\n",
       "      <td>88.750000</td>\n",
       "      <td>55000.000000</td>\n",
       "      <td>60.370000</td>\n",
       "      <td>4278.000000</td>\n",
       "    </tr>\n",
       "  </tbody>\n",
       "</table>\n",
       "</div>"
      ],
      "text/plain": [
       "       Año Declaración  Código Agente  Nº Declaración       idStock  \\\n",
       "count     54211.000000   54211.000000    5.421100e+04  5.421100e+04   \n",
       "mean       2021.390954   10553.460276    3.758622e+06  5.492582e+06   \n",
       "std           0.487969    1123.627020    9.948752e+04  7.026123e+05   \n",
       "min        2021.000000    3061.000000    3.597585e+06  4.344185e+06   \n",
       "25%        2021.000000   10671.000000    3.672702e+06  4.885706e+06   \n",
       "50%        2021.000000   10752.000000    3.735151e+06  5.336157e+06   \n",
       "75%        2022.000000   10774.000000    3.849761e+06  6.135358e+06   \n",
       "max        2022.000000   14004.000000    3.923734e+06  6.654844e+06   \n",
       "\n",
       "        Código Item  Código Origen  Folio Origen  Código Ult. Proveedor  \\\n",
       "count  54211.000000   54211.000000  5.421100e+04           54211.000000   \n",
       "mean     430.770692  101613.924683  6.968702e+05           73688.623748   \n",
       "std        4.475930   10554.387008  8.370285e+04           44532.792420   \n",
       "min      425.000000   30052.000000  1.606080e+05             498.000000   \n",
       "25%      430.000000  102389.000000  6.558465e+05            6794.000000   \n",
       "50%      430.000000  103334.000000  6.798220e+05          102515.000000   \n",
       "75%      430.000000  103765.000000  7.021245e+05          103652.000000   \n",
       "max      457.000000  814014.000000  1.025508e+06          814014.000000   \n",
       "\n",
       "       Folio Ult. Proveedor  Toneladas Abastecidas  Unidades Abastecidas  \\\n",
       "count          5.421100e+04           54211.000000          54211.000000   \n",
       "mean           1.212061e+06              12.567038            220.313294   \n",
       "std            8.294345e+05               6.870604           1660.490364   \n",
       "min            2.204530e+05               0.001000              0.000000   \n",
       "25%            6.630885e+05              10.000000              0.000000   \n",
       "50%            6.987030e+05              10.835000              0.000000   \n",
       "75%            2.149322e+06              12.550000              0.000000   \n",
       "max            6.236651e+06              88.750000          55000.000000   \n",
       "\n",
       "       Toneladas Rest      idBodega  \n",
       "count    54211.000000  54211.000000  \n",
       "mean         0.306546   2908.368855  \n",
       "std          1.404914    475.163295  \n",
       "min          0.000000    347.000000  \n",
       "25%          0.000000   2719.000000  \n",
       "50%          0.000000   2750.000000  \n",
       "75%          0.000000   2869.000000  \n",
       "max         60.370000   4278.000000  "
      ]
     },
     "execution_count": 8,
     "metadata": {},
     "output_type": "execute_result"
    }
   ],
   "source": [
    "reporte_plantas_raw.describe()"
   ]
  },
  {
   "cell_type": "code",
   "execution_count": 9,
   "id": "67da7e7e",
   "metadata": {},
   "outputs": [
    {
     "data": {
      "text/plain": [
       "0"
      ]
     },
     "execution_count": 9,
     "metadata": {},
     "output_type": "execute_result"
    }
   ],
   "source": [
    "reporte_plantas_raw.duplicated().sum()"
   ]
  },
  {
   "cell_type": "code",
   "execution_count": 10,
   "id": "69876068",
   "metadata": {},
   "outputs": [
    {
     "data": {
      "text/plain": [
       "Año Declaración          0\n",
       "Mes Declaración          0\n",
       "Región Agente            0\n",
       "Tipo Agente              0\n",
       "Código Agente            0\n",
       "Nombre Agente            0\n",
       "Fecha Declaración        0\n",
       "Nº Declaración           0\n",
       "idStock                  0\n",
       "Tipo Item                0\n",
       "Código Item              0\n",
       "Nombre Item              0\n",
       "Fecha Item               0\n",
       "Estado Recurso           0\n",
       "Tipo Origen              0\n",
       "Código Origen            0\n",
       "Nombre Origen            0\n",
       "Folio Origen             0\n",
       "Tipo Ult. Proveedor      0\n",
       "Código Ult. Proveedor    0\n",
       "Nombre Ult. Proveedor    0\n",
       "Folio Ult. Proveedor     0\n",
       "Fecha Ult. Proveedor     0\n",
       "Toneladas Abastecidas    0\n",
       "Unidades Abastecidas     0\n",
       "utilizado                0\n",
       "Toneladas Rest           0\n",
       "Unidades Rest            0\n",
       "Tipo Declaración         0\n",
       "idBodega                 0\n",
       "Nombre Bodega            0\n",
       "Tipo Bodega              0\n",
       "Dirección Bodega         0\n",
       "Ciudad Bodega            0\n",
       "Región Bodega            0\n",
       "dtype: int64"
      ]
     },
     "execution_count": 10,
     "metadata": {},
     "output_type": "execute_result"
    }
   ],
   "source": [
    "reporte_plantas_raw.isnull().sum()"
   ]
  },
  {
   "cell_type": "code",
   "execution_count": 11,
   "id": "bd26b2f3",
   "metadata": {},
   "outputs": [
    {
     "data": {
      "text/plain": [
       "Año Declaración                   int64\n",
       "Mes Declaración                  object\n",
       "Región Agente                    object\n",
       "Tipo Agente                      object\n",
       "Código Agente                     int64\n",
       "Nombre Agente                    object\n",
       "Fecha Declaración        datetime64[ns]\n",
       "Nº Declaración                    int64\n",
       "idStock                           int64\n",
       "Tipo Item                        object\n",
       "Código Item                       int64\n",
       "Nombre Item                      object\n",
       "Fecha Item               datetime64[ns]\n",
       "Estado Recurso                   object\n",
       "Tipo Origen                      object\n",
       "Código Origen                     int64\n",
       "Nombre Origen                    object\n",
       "Folio Origen                      int64\n",
       "Tipo Ult. Proveedor              object\n",
       "Código Ult. Proveedor             int64\n",
       "Nombre Ult. Proveedor            object\n",
       "Folio Ult. Proveedor              int64\n",
       "Fecha Ult. Proveedor     datetime64[ns]\n",
       "Toneladas Abastecidas           float64\n",
       "Unidades Abastecidas              int64\n",
       "utilizado                        object\n",
       "Toneladas Rest                  float64\n",
       "Unidades Rest                    object\n",
       "Tipo Declaración                 object\n",
       "idBodega                          int64\n",
       "Nombre Bodega                    object\n",
       "Tipo Bodega                      object\n",
       "Dirección Bodega                 object\n",
       "Ciudad Bodega                    object\n",
       "Región Bodega                    object\n",
       "dtype: object"
      ]
     },
     "execution_count": 11,
     "metadata": {},
     "output_type": "execute_result"
    }
   ],
   "source": [
    "reporte_plantas_raw.dtypes"
   ]
  },
  {
   "cell_type": "code",
   "execution_count": 42,
   "id": "c744b432",
   "metadata": {},
   "outputs": [
    {
     "data": {
      "text/plain": [
       "53"
      ]
     },
     "execution_count": 42,
     "metadata": {},
     "output_type": "execute_result"
    }
   ],
   "source": [
    "reporte_plantas_raw['Código Agente'].nunique()"
   ]
  },
  {
   "cell_type": "code",
   "execution_count": 17,
   "id": "259adce8",
   "metadata": {},
   "outputs": [
    {
     "data": {
      "text/plain": [
       "['III REGION',\n",
       " 'IV REGION',\n",
       " 'V REGION',\n",
       " 'VIII REGION',\n",
       " 'IX REGION',\n",
       " 'X REGION',\n",
       " 'REGION METROPOLITANA',\n",
       " 'XIV REGION']"
      ]
     },
     "execution_count": 17,
     "metadata": {},
     "output_type": "execute_result"
    }
   ],
   "source": [
    "#reporte_plantas_raw['Tipo Item'].unique().tolist()\n",
    "#reporte_plantas_raw['Tipo Origen'].unique().tolist()\n",
    "reporte_plantas_raw['Región Bodega'].unique().tolist()\n",
    "#reporte_plantas_raw['Región Agente'].unique().tolist()"
   ]
  },
  {
   "cell_type": "code",
   "execution_count": 20,
   "id": "30f5bf3b",
   "metadata": {},
   "outputs": [
    {
     "data": {
      "image/png": "[encoded data removed]",
      "text/plain": [
       "<Figure size 2500x800 with 1 Axes>"
      ]
     },
     "metadata": {},
     "output_type": "display_data"
    }
   ],
   "source": [
    "def count_clases(column_name):\n",
    "    sns.set_theme(style=\"darkgrid\")\n",
    "    ax = sns.countplot(y=column_name, data=reporte_plantas_raw)\n",
    "    sns.set(rc = {'figure.figsize':(25,8)})\n",
    "    #for item in ax.get_xticklabels():\n",
    "    #    item.set_rotation(90)\n",
    "\n",
    "count_clases('Región Bodega')"
   ]
  },
  {
   "cell_type": "code",
   "execution_count": 23,
   "id": "b2509794",
   "metadata": {},
   "outputs": [
    {
     "data": {
      "image/png": "[encoded data removed]",
      "text/plain": [
       "<Figure size 2500x800 with 1 Axes>"
      ]
     },
     "metadata": {},
     "output_type": "display_data"
    }
   ],
   "source": [
    "count_clases('Región Agente')"
   ]
  },
  {
   "cell_type": "code",
   "execution_count": 25,
   "id": "45357a26",
   "metadata": {},
   "outputs": [
    {
     "data": {
      "image/png": "[encoded data removed]",
      "text/plain": [
       "<Figure size 2500x800 with 1 Axes>"
      ]
     },
     "metadata": {},
     "output_type": "display_data"
    }
   ],
   "source": [
    "count_clases('Nombre Item')"
   ]
  },
  {
   "cell_type": "code",
   "execution_count": 30,
   "id": "deb83a5c",
   "metadata": {},
   "outputs": [
    {
     "data": {
      "image/png": "[encoded data removed]",
      "text/plain": [
       "<Figure size 2500x800 with 1 Axes>"
      ]
     },
     "metadata": {},
     "output_type": "display_data"
    }
   ],
   "source": [
    "count_clases('Tipo Ult. Proveedor')"
   ]
  },
  {
   "cell_type": "code",
   "execution_count": 35,
   "id": "4b30a768",
   "metadata": {},
   "outputs": [
    {
     "data": {
      "image/png": "[encoded data removed]",
      "text/plain": [
       "<Figure size 2500x800 with 1 Axes>"
      ]
     },
     "metadata": {},
     "output_type": "display_data"
    }
   ],
   "source": [
    "count_clases('Tipo Bodega')"
   ]
  },
  {
   "cell_type": "code",
   "execution_count": 58,
   "id": "5886e9e4",
   "metadata": {},
   "outputs": [
    {
     "data": {
      "text/plain": [
       "['Declarar Existencias de Especies de Cultivo con Aut. Movimiento',\n",
       " 'Declarar Existencias de Especies de Cultivo por Importación o  Autoabastecimiento',\n",
       " 'Ingresos por diferencia',\n",
       " 'Otros',\n",
       " 'Centro de Cultivo',\n",
       " 'Área de Manejo',\n",
       " 'Comercializadora']"
      ]
     },
     "execution_count": 58,
     "metadata": {},
     "output_type": "execute_result"
    }
   ],
   "source": [
    "reporte_plantas_raw['Origen'].unique().tolist()"
   ]
  },
  {
   "cell_type": "code",
   "execution_count": 76,
   "id": "b320cab5",
   "metadata": {},
   "outputs": [
    {
     "name": "stdout",
     "output_type": "stream",
     "text": [
      "En total existen 1211 lugares de ingresos y 935 lugares de origen \n"
     ]
    }
   ],
   "source": [
    "#len(reporte_plantas_raw)\n",
    "q_centros_ingresos = len(reporte_plantas_raw['Codigo Centro'].unique().tolist())\n",
    "q_centros_origen = len(reporte_plantas_raw['Cod. Origen'].unique().tolist())\n",
    "print(f'En total existen {q_centros_ingresos} lugares de ingresos y {q_centros_origen} lugares de origen ' )"
   ]
  }
 ],
 "metadata": {
  "kernelspec": {
   "display_name": "Python 3 (ipykernel)",
   "language": "python",
   "name": "python3"
  },
  "language_info": {
   "codemirror_mode": {
    "name": "ipython",
    "version": 3
   },
   "file_extension": ".py",
   "mimetype": "text/x-python",
   "name": "python",
   "nbconvert_exporter": "python",
   "pygments_lexer": "ipython3",
   "version": "3.8.13"
  },
  "vscode": {
   "interpreter": {
    "hash": "c27c728eb10a1be93e8222696e6e8d9f6f35a8d04ffe7fbebfed48cbbbf55747"
   }
  }
 },
 "nbformat": 4,
 "nbformat_minor": 5
}

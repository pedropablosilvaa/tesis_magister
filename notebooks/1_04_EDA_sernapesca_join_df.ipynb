{
 "cells": [
  {
   "cell_type": "markdown",
   "metadata": {},
   "source": [
    "# Analisis de posibilidad de join entre datos sernapesca"
   ]
  },
  {
   "cell_type": "markdown",
   "metadata": {},
   "source": [
    "### Import libreries"
   ]
  },
  {
   "cell_type": "code",
   "execution_count": 2,
   "metadata": {},
   "outputs": [],
   "source": [
    "import logging\n",
    "import subprocess\n",
    "import os   \n",
    "import pandas as pd\n",
    "import seaborn as sns"
   ]
  },
  {
   "cell_type": "code",
   "execution_count": 3,
   "metadata": {},
   "outputs": [
    {
     "name": "stdout",
     "output_type": "stream",
     "text": [
      "CPU times: total: 44.2 s\n",
      "Wall time: 44.5 s\n"
     ]
    }
   ],
   "source": [
    "%%time\n",
    "reporte_plantas_raw = pd.read_excel(\"../data/datos_nelson/Reporte de Plantas.xlsx\")\n",
    "ingresos_raw = pd.read_excel(\"../data/datos_nelson/Ingresos 2021-2022.xlsx\")\n",
    "RNA_raw = pd.read_excel(\"../data/datos_nelson/RNA.xlsx\")"
   ]
  },
  {
   "cell_type": "markdown",
   "metadata": {},
   "source": [
    "### Filtrando por región y tipo de producto"
   ]
  },
  {
   "cell_type": "code",
   "execution_count": 4,
   "metadata": {},
   "outputs": [],
   "source": [
    "# Se filtra por region, no es necesario hacer filtro por producto ya que solo se encuentra \n",
    "# info disponible para moluscos\n",
    "report_plantas_filtered = reporte_plantas_raw[(reporte_plantas_raw['Región Bodega'] == 'X REGION') |\n",
    "                                        (reporte_plantas_raw['Región Agente'] == 'X REGION')]\n",
    "\n",
    "# Se filtra sólo por tipo de especie = molusco, ya que este dataset ya era sólo de la décima región\n",
    "ingresos_filtered = ingresos_raw[ingresos_raw['Tipo Especie'] == 'MOLUSCOS']\n",
    "\n",
    "# El registro nacional de acuicultura de sernapesca (RNA) se encuentra para todo chile, por lo que se filtra\n",
    "# para la décima región.\n",
    "RNA_filtered = RNA_raw[RNA_raw['Región'] == 10]\n"
   ]
  },
  {
   "cell_type": "code",
   "execution_count": 7,
   "metadata": {},
   "outputs": [
    {
     "name": "stdout",
     "output_type": "stream",
     "text": [
      "El dataset de reportes filtrado tiene una forma (52011, 35), mientras que el de ingresos es de la forma (7998, 22) y el de RNA es de (3665, 18)\n"
     ]
    }
   ],
   "source": [
    "shape_reportes =  report_plantas_filtered.shape\n",
    "shape_ingresos =  ingresos_filtered.shape\n",
    "shape_RNA =  RNA_filtered.shape\n",
    "print(f'El dataset de reportes filtrado tiene una forma {shape_reportes}, mientras que el de ingresos es de la forma {shape_ingresos} y el de RNA es de {shape_RNA}')"
   ]
  },
  {
   "cell_type": "code",
   "execution_count": null,
   "metadata": {},
   "outputs": [],
   "source": []
  },
  {
   "cell_type": "markdown",
   "metadata": {},
   "source": [
    "Se tienen 3 datasets y queremos saber si es que es posible hacer join entre los 3. Para esto y en primera instancia es necesario definir los campos que podrían ser utilizados para el join. \n",
    "\n",
    "* Para el caso de la tabla de reportes, existe el codigo de centro y el codigo de origen, los cuales podrían servir.\n",
    "\n",
    "* Por parte de la tabla de ingresos, código de agente parece ser una buena opción y también código del último proovedor.\n",
    "\n",
    "* Finalmente la tabbla de RNA contiene el código del centro de cultivo acuícola."
   ]
  },
  {
   "cell_type": "code",
   "execution_count": null,
   "metadata": {},
   "outputs": [],
   "source": [
    "DataFrame.join"
   ]
  }
 ],
 "metadata": {
  "kernelspec": {
   "display_name": "Python 3.8.13 ('risk_assess')",
   "language": "python",
   "name": "python3"
  },
  "language_info": {
   "codemirror_mode": {
    "name": "ipython",
    "version": 3
   },
   "file_extension": ".py",
   "mimetype": "text/x-python",
   "name": "python",
   "nbconvert_exporter": "python",
   "pygments_lexer": "ipython3",
   "version": "3.8.13"
  },
  "orig_nbformat": 4,
  "vscode": {
   "interpreter": {
    "hash": "c27c728eb10a1be93e8222696e6e8d9f6f35a8d04ffe7fbebfed48cbbbf55747"
   }
  }
 },
 "nbformat": 4,
 "nbformat_minor": 2
}

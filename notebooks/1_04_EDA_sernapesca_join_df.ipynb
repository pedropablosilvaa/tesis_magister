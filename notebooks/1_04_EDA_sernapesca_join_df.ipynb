{
 "cells": [
  {
   "cell_type": "markdown",
   "metadata": {},
   "source": [
    "# Analisis de posibilidad de join entre datos sernapesca"
   ]
  },
  {
   "cell_type": "markdown",
   "metadata": {},
   "source": [
    "#### Introducción\n",
    "Este Noteboopk corresponde al análisis exploratorio del archivo enviado por sernapesca llamado \"Reporte de Plantas.xlsx\", el cual es extraido desde una platadorma interna, la cual no es la ya conocida Reporteador. \n",
    " \n",
    "Resumen:\n",
    "* Tiene una"
   ]
  },
  {
   "cell_type": "markdown",
   "metadata": {},
   "source": [
    "### Import libreries"
   ]
  },
  {
   "cell_type": "code",
   "execution_count": 3,
   "metadata": {},
   "outputs": [],
   "source": [
    "import logging\n",
    "import subprocess\n",
    "import os   \n",
    "import pandas as pd\n",
    "import seaborn as sns"
   ]
  },
  {
   "cell_type": "code",
   "execution_count": null,
   "metadata": {},
   "outputs": [],
   "source": [
    "reporte_plantas_raw = pd.read_excel(\"../data/datos_nelson/Reporte de Plantas.xlsx\")\n",
    "reporte_plantas_raw = pd.read_excel(\"../data/datos_nelson/Reporte de Plantas.xlsx\")\n",
    "reporte_plantas_raw = pd.read_excel(\"../data/datos_nelson/Reporte de Plantas.xlsx\")"
   ]
  }
 ],
 "metadata": {
  "kernelspec": {
   "display_name": "Python 3.8.13 ('risk_assess')",
   "language": "python",
   "name": "python3"
  },
  "language_info": {
   "codemirror_mode": {
    "name": "ipython",
    "version": 3
   },
   "file_extension": ".py",
   "mimetype": "text/x-python",
   "name": "python",
   "nbconvert_exporter": "python",
   "pygments_lexer": "ipython3",
   "version": "3.8.13"
  },
  "orig_nbformat": 4,
  "vscode": {
   "interpreter": {
    "hash": "c27c728eb10a1be93e8222696e6e8d9f6f35a8d04ffe7fbebfed48cbbbf55747"
   }
  }
 },
 "nbformat": 4,
 "nbformat_minor": 2
}

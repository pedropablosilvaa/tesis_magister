{
 "cells": [
  {
   "cell_type": "markdown",
   "id": "a60e1b16",
   "metadata": {},
   "source": [
    "# EDA para información entregada por Sernapesca"
   ]
  },
  {
   "cell_type": "markdown",
   "id": "c8323573",
   "metadata": {},
   "source": [
    "#### Introducción\n",
    "Este Notebook corresponde al análisis exploratorio del archivo enviado por sernapesca llamado \"RNA.xlsx\", el cual es extraido desde una platadorma interna denominada Reporteador. \n",
    " \n",
    "Resumen:\n",
    "* Tiene una dimensión de (5765, 18).\n",
    "* Este archivo es una tabla con de los centros de cultivos.\n",
    "* Es para las regiones 1, 15, 2, 3, 4, 5, 6, 7, 8, 16, 9, 14, 10, 11, 12, 13\n",
    "* Sólo distintos tipos de cultivos."
   ]
  },
  {
   "cell_type": "markdown",
   "id": "96430312",
   "metadata": {},
   "source": [
    "### Import libreries"
   ]
  },
  {
   "cell_type": "code",
   "execution_count": 5,
   "id": "ae17ab06",
   "metadata": {},
   "outputs": [],
   "source": [
    "import logging\n",
    "import subprocess\n",
    "import os   \n",
    "import pandas as pd\n",
    "import seaborn as sns"
   ]
  },
  {
   "cell_type": "markdown",
   "id": "22c8d822",
   "metadata": {},
   "source": [
    "### Reading file \"Ingresos\""
   ]
  },
  {
   "cell_type": "code",
   "execution_count": 8,
   "id": "dacd2257",
   "metadata": {},
   "outputs": [
    {
     "name": "stdout",
     "output_type": "stream",
     "text": [
      "CPU times: total: 1.86 s\n",
      "Wall time: 1.9 s\n"
     ]
    }
   ],
   "source": [
    "%%time\n",
    "RNA_raw = pd.read_excel(\"../data/datos_nelson/RNA.XLSX\")"
   ]
  },
  {
   "cell_type": "code",
   "execution_count": 10,
   "id": "14ddf05d",
   "metadata": {},
   "outputs": [
    {
     "data": {
      "text/plain": [
       "(5765, 18)"
      ]
     },
     "execution_count": 10,
     "metadata": {},
     "output_type": "execute_result"
    }
   ],
   "source": [
    "RNA_raw.shape"
   ]
  },
  {
   "cell_type": "code",
   "execution_count": 9,
   "id": "43b4281c",
   "metadata": {},
   "outputs": [
    {
     "data": {
      "text/html": [
       "<div>\n",
       "<style scoped>\n",
       "    .dataframe tbody tr th:only-of-type {\n",
       "        vertical-align: middle;\n",
       "    }\n",
       "\n",
       "    .dataframe tbody tr th {\n",
       "        vertical-align: top;\n",
       "    }\n",
       "\n",
       "    .dataframe thead th {\n",
       "        text-align: right;\n",
       "    }\n",
       "</style>\n",
       "<table border=\"1\" class=\"dataframe\">\n",
       "  <thead>\n",
       "    <tr style=\"text-align: right;\">\n",
       "      <th></th>\n",
       "      <th>Región</th>\n",
       "      <th>Sector</th>\n",
       "      <th>Nm_Provincia</th>\n",
       "      <th>Comuna Centro</th>\n",
       "      <th>Nombre Area</th>\n",
       "      <th>Codigo Centro</th>\n",
       "      <th>Nombre Centro</th>\n",
       "      <th>Categoria</th>\n",
       "      <th>N° Folio RNA</th>\n",
       "      <th>Rut</th>\n",
       "      <th>Propietario</th>\n",
       "      <th>Dirección</th>\n",
       "      <th>Comuna Propietario</th>\n",
       "      <th>Tipo Cultivo</th>\n",
       "      <th>Cuerpo de Agua</th>\n",
       "      <th>Latitud</th>\n",
       "      <th>Longitud</th>\n",
       "      <th>Tipo Propietario</th>\n",
       "    </tr>\n",
       "  </thead>\n",
       "  <tbody>\n",
       "    <tr>\n",
       "      <th>0</th>\n",
       "      <td>1</td>\n",
       "      <td>CALETA SARMENIA</td>\n",
       "      <td>Iquique</td>\n",
       "      <td>Iquique</td>\n",
       "      <td>NaN</td>\n",
       "      <td>10001</td>\n",
       "      <td>SARMENIA CULTIVOS MARINOS LTDA</td>\n",
       "      <td>INSCRITO</td>\n",
       "      <td>8.0</td>\n",
       "      <td>89785000-1</td>\n",
       "      <td>SARMENIA CULTIVOS MARINOS LTDA.</td>\n",
       "      <td>ZEGERS N° 249</td>\n",
       "      <td>Iquique</td>\n",
       "      <td>CERRADO</td>\n",
       "      <td></td>\n",
       "      <td>20.469542</td>\n",
       "      <td>70.160902</td>\n",
       "      <td>Empresa</td>\n",
       "    </tr>\n",
       "    <tr>\n",
       "      <th>1</th>\n",
       "      <td>1</td>\n",
       "      <td>CALETA CHIPANA</td>\n",
       "      <td>Iquique</td>\n",
       "      <td>Iquique</td>\n",
       "      <td>NaN</td>\n",
       "      <td>10002</td>\n",
       "      <td>*</td>\n",
       "      <td>EN TRAMITE</td>\n",
       "      <td>NaN</td>\n",
       "      <td>89785000-1</td>\n",
       "      <td>SARMENIA CULTIVOS MARINOS LTDA.</td>\n",
       "      <td>ZEGERS N° 249</td>\n",
       "      <td>Iquique</td>\n",
       "      <td>CERRADO</td>\n",
       "      <td>NaN</td>\n",
       "      <td>21.341667</td>\n",
       "      <td>70.088889</td>\n",
       "      <td>Empresa</td>\n",
       "    </tr>\n",
       "    <tr>\n",
       "      <th>2</th>\n",
       "      <td>1</td>\n",
       "      <td>CALETA BAJO MOLLE</td>\n",
       "      <td>Iquique</td>\n",
       "      <td>Iquique</td>\n",
       "      <td>NaN</td>\n",
       "      <td>10005</td>\n",
       "      <td>FUNDACION  ALMIRANTE CARLOS CONDELL</td>\n",
       "      <td>INSCRITO</td>\n",
       "      <td>1.0</td>\n",
       "      <td>71142500-4</td>\n",
       "      <td>FUNDACION ALMIRANTE CARLOS CONDELL</td>\n",
       "      <td>JUAN GUILLERMOS N° 40</td>\n",
       "      <td>Chonchi</td>\n",
       "      <td>CERRADO</td>\n",
       "      <td></td>\n",
       "      <td>20.283333</td>\n",
       "      <td>70.150000</td>\n",
       "      <td>Fundacion</td>\n",
       "    </tr>\n",
       "    <tr>\n",
       "      <th>3</th>\n",
       "      <td>1</td>\n",
       "      <td>CAMPUS HUAYQUIQUE</td>\n",
       "      <td>Iquique</td>\n",
       "      <td>Iquique</td>\n",
       "      <td>NaN</td>\n",
       "      <td>10009</td>\n",
       "      <td>*</td>\n",
       "      <td>CADUCADO</td>\n",
       "      <td>NaN</td>\n",
       "      <td>70777500-9</td>\n",
       "      <td>UNIVERSIDAD ARTURO PRAT</td>\n",
       "      <td>AV. ARTURM PRAT N° 2120</td>\n",
       "      <td>Iquique</td>\n",
       "      <td>CERRADO</td>\n",
       "      <td>NaN</td>\n",
       "      <td>NaN</td>\n",
       "      <td>NaN</td>\n",
       "      <td>Universidad</td>\n",
       "    </tr>\n",
       "    <tr>\n",
       "      <th>4</th>\n",
       "      <td>15</td>\n",
       "      <td>CALETA QUIANE</td>\n",
       "      <td>Arica</td>\n",
       "      <td>Arica</td>\n",
       "      <td>NaN</td>\n",
       "      <td>10010</td>\n",
       "      <td>*</td>\n",
       "      <td>CADUCADO</td>\n",
       "      <td>NaN</td>\n",
       "      <td>96534690-2</td>\n",
       "      <td>NOVAMAR S.A.</td>\n",
       "      <td>BARROS ARANA 2440</td>\n",
       "      <td>Arica</td>\n",
       "      <td>HATCHERY</td>\n",
       "      <td>NaN</td>\n",
       "      <td>NaN</td>\n",
       "      <td>NaN</td>\n",
       "      <td>Empresa</td>\n",
       "    </tr>\n",
       "  </tbody>\n",
       "</table>\n",
       "</div>"
      ],
      "text/plain": [
       "   Región             Sector Nm_Provincia Comuna Centro Nombre Area  \\\n",
       "0       1    CALETA SARMENIA      Iquique       Iquique         NaN   \n",
       "1       1     CALETA CHIPANA      Iquique       Iquique         NaN   \n",
       "2       1  CALETA BAJO MOLLE      Iquique       Iquique         NaN   \n",
       "3       1  CAMPUS HUAYQUIQUE      Iquique       Iquique         NaN   \n",
       "4      15      CALETA QUIANE        Arica         Arica         NaN   \n",
       "\n",
       "   Codigo Centro                        Nombre Centro   Categoria  \\\n",
       "0          10001       SARMENIA CULTIVOS MARINOS LTDA    INSCRITO   \n",
       "1          10002                                    *  EN TRAMITE   \n",
       "2          10005  FUNDACION  ALMIRANTE CARLOS CONDELL    INSCRITO   \n",
       "3          10009                                    *    CADUCADO   \n",
       "4          10010                                    *    CADUCADO   \n",
       "\n",
       "   N° Folio RNA         Rut                         Propietario  \\\n",
       "0           8.0  89785000-1     SARMENIA CULTIVOS MARINOS LTDA.   \n",
       "1           NaN  89785000-1     SARMENIA CULTIVOS MARINOS LTDA.   \n",
       "2           1.0  71142500-4  FUNDACION ALMIRANTE CARLOS CONDELL   \n",
       "3           NaN  70777500-9             UNIVERSIDAD ARTURO PRAT   \n",
       "4           NaN  96534690-2                        NOVAMAR S.A.   \n",
       "\n",
       "                  Dirección Comuna Propietario Tipo Cultivo Cuerpo de Agua  \\\n",
       "0             ZEGERS N° 249            Iquique      CERRADO                  \n",
       "1             ZEGERS N° 249            Iquique      CERRADO            NaN   \n",
       "2     JUAN GUILLERMOS N° 40            Chonchi      CERRADO                  \n",
       "3  AV. ARTURM PRAT N° 2120             Iquique      CERRADO            NaN   \n",
       "4         BARROS ARANA 2440              Arica     HATCHERY            NaN   \n",
       "\n",
       "     Latitud   Longitud Tipo Propietario  \n",
       "0  20.469542  70.160902          Empresa  \n",
       "1  21.341667  70.088889          Empresa  \n",
       "2  20.283333  70.150000        Fundacion  \n",
       "3        NaN        NaN      Universidad  \n",
       "4        NaN        NaN          Empresa  "
      ]
     },
     "execution_count": 9,
     "metadata": {},
     "output_type": "execute_result"
    }
   ],
   "source": [
    "RNA_raw.head()"
   ]
  },
  {
   "cell_type": "code",
   "execution_count": 11,
   "id": "a94c684c",
   "metadata": {},
   "outputs": [
    {
     "data": {
      "text/plain": [
       "['Región',\n",
       " 'Sector',\n",
       " 'Nm_Provincia',\n",
       " 'Comuna Centro',\n",
       " 'Nombre Area',\n",
       " 'Codigo Centro',\n",
       " 'Nombre Centro',\n",
       " 'Categoria',\n",
       " 'N° Folio RNA',\n",
       " 'Rut',\n",
       " 'Propietario',\n",
       " 'Dirección',\n",
       " 'Comuna Propietario',\n",
       " 'Tipo Cultivo',\n",
       " 'Cuerpo de Agua',\n",
       " 'Latitud',\n",
       " 'Longitud',\n",
       " 'Tipo Propietario']"
      ]
     },
     "execution_count": 11,
     "metadata": {},
     "output_type": "execute_result"
    }
   ],
   "source": [
    "RNA_raw.columns.to_list()"
   ]
  },
  {
   "cell_type": "code",
   "execution_count": 12,
   "id": "1bea8212",
   "metadata": {},
   "outputs": [
    {
     "data": {
      "text/plain": [
       "<bound method DataFrame.info of       Región                                       Sector     Nm_Provincia  \\\n",
       "0          1                              CALETA SARMENIA          Iquique   \n",
       "1          1                               CALETA CHIPANA          Iquique   \n",
       "2          1                            CALETA BAJO MOLLE          Iquique   \n",
       "3          1                            CAMPUS HUAYQUIQUE          Iquique   \n",
       "4         15                                CALETA QUIANE            Arica   \n",
       "...      ...                                          ...              ...   \n",
       "5760      11                       AMERB MENINEA SECTOR A            Aysén   \n",
       "5761      11           SENO GALA AL SUR DE PINS. MELIMOYU            Aysén   \n",
       "5762      14  SEC. PTO. RANQUIL, AL E. DE PTA. EL MANZANO         Valdivia   \n",
       "5763      14                        AAMERB PUNTA ÑUMPULLI         Valdivia   \n",
       "5764      99                              NO IDENTIFICADO  No Identificado   \n",
       "\n",
       "        Comuna Centro Nombre Area  Codigo Centro  \\\n",
       "0             Iquique         NaN          10001   \n",
       "1             Iquique         NaN          10002   \n",
       "2             Iquique         NaN          10005   \n",
       "3             Iquique         NaN          10009   \n",
       "4               Arica         NaN          10010   \n",
       "...               ...         ...            ...   \n",
       "5760            Aysén         NaN         811047   \n",
       "5761            Aysén         NaN         811051   \n",
       "5762           Corral         NaN         814011   \n",
       "5763         Valdivia         NaN         814014   \n",
       "5764  No Identificado         NaN         999999   \n",
       "\n",
       "                            Nombre Centro   Categoria  N° Folio RNA  \\\n",
       "0          SARMENIA CULTIVOS MARINOS LTDA    INSCRITO           8.0   \n",
       "1                                       *  EN TRAMITE           NaN   \n",
       "2     FUNDACION  ALMIRANTE CARLOS CONDELL    INSCRITO           1.0   \n",
       "3                                       *    CADUCADO           NaN   \n",
       "4                                       *    CADUCADO           NaN   \n",
       "...                                   ...         ...           ...   \n",
       "5760              AAMERB MENINEA SECTOR A    INSCRITO           0.0   \n",
       "5761                  GRUPO GALA SECTOR C    INSCRITO           0.0   \n",
       "5762           NIEBLA, REGIÓN DE LOS RÍOS    INSCRITO           0.0   \n",
       "5763               AEAMERB PUNTA ÑUMPULLI    INSCRITO           0.0   \n",
       "5764                                    *  EN TRAMITE           NaN   \n",
       "\n",
       "             Rut                                        Propietario  \\\n",
       "0     89785000-1                    SARMENIA CULTIVOS MARINOS LTDA.   \n",
       "1     89785000-1                    SARMENIA CULTIVOS MARINOS LTDA.   \n",
       "2     71142500-4                 FUNDACION ALMIRANTE CARLOS CONDELL   \n",
       "3     70777500-9                            UNIVERSIDAD ARTURO PRAT   \n",
       "4     96534690-2                                       NOVAMAR S.A.   \n",
       "...          ...                                                ...   \n",
       "5760  65186950-1  STI PESCA ARTESANAL, BUZOS MARISCADORES \"NUEVA...   \n",
       "5761  65771830-0  COOP. DE PESC. ART. BZS. MARI. Y REC. O. DE PU...   \n",
       "5762  72441200-9  S.T.I. PESC. ARTS. BZS. MAR. Y RECL. PROD. MAR...   \n",
       "5763  72533900-3  STI BUZOS MARISCADORES, PESCADORES ARTESANALES...   \n",
       "5764  11111111-1                                    NO IDENTIFICADO   \n",
       "\n",
       "                                 Dirección Comuna Propietario Tipo Cultivo  \\\n",
       "0                            ZEGERS N° 249            Iquique      CERRADO   \n",
       "1                            ZEGERS N° 249            Iquique      CERRADO   \n",
       "2                    JUAN GUILLERMOS N° 40            Chonchi      CERRADO   \n",
       "3                 AV. ARTURM PRAT N° 2120             Iquique      CERRADO   \n",
       "4                        BARROS ARANA 2440              Arica     HATCHERY   \n",
       "...                                    ...                ...          ...   \n",
       "5760  MANUEL RODRIGUEZ S/N, PUERTO AGUIIRE              Aysén       AAMERB   \n",
       "5761                      PUERTO GALA S/N              Cisnes       AAMERB   \n",
       "5762                      CALETA HUIRO S/N             Corral      AEAMERB   \n",
       "5763     COSTANERA S/N, CALETA LOS MOLINOS           Valdivia      AEAMERB   \n",
       "5764                       NO IDENTIFICADO    No Identificado      CERRADO   \n",
       "\n",
       "     Cuerpo de Agua    Latitud   Longitud Tipo Propietario  \n",
       "0                    20.469542  70.160902          Empresa  \n",
       "1               NaN  21.341667  70.088889          Empresa  \n",
       "2                    20.283333  70.150000        Fundacion  \n",
       "3               NaN        NaN        NaN      Universidad  \n",
       "4               NaN        NaN        NaN          Empresa  \n",
       "...             ...        ...        ...              ...  \n",
       "5760            NaN  45.291184  73.604176        Sindicato  \n",
       "5761            NaN  44.197891  73.227545      Desconocido  \n",
       "5762            NaN  39.955525  73.626180        Sindicato  \n",
       "5763            NaN  39.845372  73.406310        Sindicato  \n",
       "5764            NaN        NaN        NaN      Desconocido  \n",
       "\n",
       "[5765 rows x 18 columns]>"
      ]
     },
     "execution_count": 12,
     "metadata": {},
     "output_type": "execute_result"
    }
   ],
   "source": [
    "RNA_raw.info"
   ]
  },
  {
   "cell_type": "code",
   "execution_count": 13,
   "id": "b9d2996b",
   "metadata": {},
   "outputs": [
    {
     "data": {
      "text/html": [
       "<div>\n",
       "<style scoped>\n",
       "    .dataframe tbody tr th:only-of-type {\n",
       "        vertical-align: middle;\n",
       "    }\n",
       "\n",
       "    .dataframe tbody tr th {\n",
       "        vertical-align: top;\n",
       "    }\n",
       "\n",
       "    .dataframe thead th {\n",
       "        text-align: right;\n",
       "    }\n",
       "</style>\n",
       "<table border=\"1\" class=\"dataframe\">\n",
       "  <thead>\n",
       "    <tr style=\"text-align: right;\">\n",
       "      <th></th>\n",
       "      <th>Región</th>\n",
       "      <th>Codigo Centro</th>\n",
       "      <th>N° Folio RNA</th>\n",
       "      <th>Latitud</th>\n",
       "      <th>Longitud</th>\n",
       "    </tr>\n",
       "  </thead>\n",
       "  <tbody>\n",
       "    <tr>\n",
       "      <th>count</th>\n",
       "      <td>5765.000000</td>\n",
       "      <td>5765.000000</td>\n",
       "      <td>5018.000000</td>\n",
       "      <td>5037.000000</td>\n",
       "      <td>5037.000000</td>\n",
       "    </tr>\n",
       "    <tr>\n",
       "      <th>mean</th>\n",
       "      <td>9.845447</td>\n",
       "      <td>117066.634692</td>\n",
       "      <td>14835.302112</td>\n",
       "      <td>40.213616</td>\n",
       "      <td>70.607165</td>\n",
       "    </tr>\n",
       "    <tr>\n",
       "      <th>std</th>\n",
       "      <td>2.688078</td>\n",
       "      <td>97416.645008</td>\n",
       "      <td>10059.928464</td>\n",
       "      <td>8.995552</td>\n",
       "      <td>13.298593</td>\n",
       "    </tr>\n",
       "    <tr>\n",
       "      <th>min</th>\n",
       "      <td>1.000000</td>\n",
       "      <td>10001.000000</td>\n",
       "      <td>0.000000</td>\n",
       "      <td>0.000000</td>\n",
       "      <td>0.000000</td>\n",
       "    </tr>\n",
       "    <tr>\n",
       "      <th>25%</th>\n",
       "      <td>10.000000</td>\n",
       "      <td>101074.000000</td>\n",
       "      <td>5004.250000</td>\n",
       "      <td>41.585569</td>\n",
       "      <td>72.682544</td>\n",
       "    </tr>\n",
       "    <tr>\n",
       "      <th>50%</th>\n",
       "      <td>10.000000</td>\n",
       "      <td>102864.000000</td>\n",
       "      <td>20760.500000</td>\n",
       "      <td>42.124206</td>\n",
       "      <td>73.418914</td>\n",
       "    </tr>\n",
       "    <tr>\n",
       "      <th>75%</th>\n",
       "      <td>10.000000</td>\n",
       "      <td>104402.000000</td>\n",
       "      <td>22746.750000</td>\n",
       "      <td>43.122178</td>\n",
       "      <td>73.630681</td>\n",
       "    </tr>\n",
       "    <tr>\n",
       "      <th>max</th>\n",
       "      <td>99.000000</td>\n",
       "      <td>999999.000000</td>\n",
       "      <td>248851.000000</td>\n",
       "      <td>55.061439</td>\n",
       "      <td>74.687447</td>\n",
       "    </tr>\n",
       "  </tbody>\n",
       "</table>\n",
       "</div>"
      ],
      "text/plain": [
       "            Región  Codigo Centro   N° Folio RNA      Latitud     Longitud\n",
       "count  5765.000000    5765.000000    5018.000000  5037.000000  5037.000000\n",
       "mean      9.845447  117066.634692   14835.302112    40.213616    70.607165\n",
       "std       2.688078   97416.645008   10059.928464     8.995552    13.298593\n",
       "min       1.000000   10001.000000       0.000000     0.000000     0.000000\n",
       "25%      10.000000  101074.000000    5004.250000    41.585569    72.682544\n",
       "50%      10.000000  102864.000000   20760.500000    42.124206    73.418914\n",
       "75%      10.000000  104402.000000   22746.750000    43.122178    73.630681\n",
       "max      99.000000  999999.000000  248851.000000    55.061439    74.687447"
      ]
     },
     "execution_count": 13,
     "metadata": {},
     "output_type": "execute_result"
    }
   ],
   "source": [
    "RNA_raw.describe()"
   ]
  },
  {
   "cell_type": "code",
   "execution_count": 14,
   "id": "67da7e7e",
   "metadata": {},
   "outputs": [
    {
     "data": {
      "text/plain": [
       "0"
      ]
     },
     "execution_count": 14,
     "metadata": {},
     "output_type": "execute_result"
    }
   ],
   "source": [
    "RNA_raw.duplicated().sum()"
   ]
  },
  {
   "cell_type": "code",
   "execution_count": 15,
   "id": "69876068",
   "metadata": {},
   "outputs": [
    {
     "data": {
      "text/plain": [
       "Región                   0\n",
       "Sector                   7\n",
       "Nm_Provincia             0\n",
       "Comuna Centro            0\n",
       "Nombre Area           4236\n",
       "Codigo Centro            0\n",
       "Nombre Centro           50\n",
       "Categoria                0\n",
       "N° Folio RNA           747\n",
       "Rut                      0\n",
       "Propietario              0\n",
       "Dirección                1\n",
       "Comuna Propietario       1\n",
       "Tipo Cultivo             0\n",
       "Cuerpo de Agua        4040\n",
       "Latitud                728\n",
       "Longitud               728\n",
       "Tipo Propietario         0\n",
       "dtype: int64"
      ]
     },
     "execution_count": 15,
     "metadata": {},
     "output_type": "execute_result"
    }
   ],
   "source": [
    "RNA_raw.isnull().sum()"
   ]
  },
  {
   "cell_type": "code",
   "execution_count": 16,
   "id": "bd26b2f3",
   "metadata": {},
   "outputs": [
    {
     "data": {
      "text/plain": [
       "Región                  int64\n",
       "Sector                 object\n",
       "Nm_Provincia           object\n",
       "Comuna Centro          object\n",
       "Nombre Area            object\n",
       "Codigo Centro           int64\n",
       "Nombre Centro          object\n",
       "Categoria              object\n",
       "N° Folio RNA          float64\n",
       "Rut                    object\n",
       "Propietario            object\n",
       "Dirección              object\n",
       "Comuna Propietario     object\n",
       "Tipo Cultivo           object\n",
       "Cuerpo de Agua         object\n",
       "Latitud               float64\n",
       "Longitud              float64\n",
       "Tipo Propietario       object\n",
       "dtype: object"
      ]
     },
     "execution_count": 16,
     "metadata": {},
     "output_type": "execute_result"
    }
   ],
   "source": [
    "RNA_raw.dtypes"
   ]
  },
  {
   "cell_type": "code",
   "execution_count": 19,
   "id": "062fa6ae",
   "metadata": {},
   "outputs": [
    {
     "data": {
      "text/plain": [
       "5765"
      ]
     },
     "execution_count": 19,
     "metadata": {},
     "output_type": "execute_result"
    }
   ],
   "source": [
    "RNA_raw['Codigo Centro'].nunique()"
   ]
  },
  {
   "cell_type": "code",
   "execution_count": 26,
   "id": "259adce8",
   "metadata": {},
   "outputs": [
    {
     "data": {
      "text/plain": [
       "[1, 15, 2, 3, 4, 5, 6, 7, 8, 16, 9, 14, 10, 11, 99, 12, 13]"
      ]
     },
     "execution_count": 26,
     "metadata": {},
     "output_type": "execute_result"
    }
   ],
   "source": [
    "#RNA_raw['Categoria'].unique().tolist()\n",
    "#RNA_raw['Tipo Propietario'].unique().tolist()\n",
    "RNA_raw['Región'].unique().tolist()\n",
    "\n",
    "#RNA_raw['Tipo Cultivo'].unique().tolist()\n",
    "\n"
   ]
  },
  {
   "cell_type": "code",
   "execution_count": 27,
   "id": "30f5bf3b",
   "metadata": {},
   "outputs": [
    {
     "data": {
      "image/png": "[encoded data removed]",
      "text/plain": [
       "<Figure size 640x480 with 1 Axes>"
      ]
     },
     "metadata": {},
     "output_type": "display_data"
    }
   ],
   "source": [
    "def count_clases(column_name):\n",
    "    sns.set_theme(style=\"darkgrid\")\n",
    "    ax = sns.countplot(y=column_name, data=RNA_raw)\n",
    "    sns.set(rc = {'figure.figsize':(25,8)})\n",
    "    #for item in ax.get_xticklabels():\n",
    "    #    item.set_rotation(90)\n",
    "\n",
    "count_clases('Región')"
   ]
  },
  {
   "cell_type": "code",
   "execution_count": 28,
   "id": "b2509794",
   "metadata": {},
   "outputs": [
    {
     "data": {
      "image/png": "[encoded data removed]",
      "text/plain": [
       "<Figure size 2500x800 with 1 Axes>"
      ]
     },
     "metadata": {},
     "output_type": "display_data"
    }
   ],
   "source": [
    "count_clases('Tipo Cultivo')"
   ]
  },
  {
   "cell_type": "code",
   "execution_count": 29,
   "id": "1a1920f6",
   "metadata": {},
   "outputs": [
    {
     "data": {
      "image/png": "[encoded data removed]",
      "text/plain": [
       "<Figure size 2500x800 with 1 Axes>"
      ]
     },
     "metadata": {},
     "output_type": "display_data"
    }
   ],
   "source": [
    "count_clases('Categoria')"
   ]
  },
  {
   "cell_type": "code",
   "execution_count": 58,
   "id": "5886e9e4",
   "metadata": {},
   "outputs": [
    {
     "data": {
      "text/plain": [
       "['Declarar Existencias de Especies de Cultivo con Aut. Movimiento',\n",
       " 'Declarar Existencias de Especies de Cultivo por Importación o  Autoabastecimiento',\n",
       " 'Ingresos por diferencia',\n",
       " 'Otros',\n",
       " 'Centro de Cultivo',\n",
       " 'Área de Manejo',\n",
       " 'Comercializadora']"
      ]
     },
     "execution_count": 58,
     "metadata": {},
     "output_type": "execute_result"
    }
   ],
   "source": [
    "RNA_raw['Origen'].unique().tolist()"
   ]
  },
  {
   "cell_type": "code",
   "execution_count": 59,
   "id": "cad767b6",
   "metadata": {},
   "outputs": [
    {
     "data": {
      "text/html": [
       "<div>\n",
       "<style scoped>\n",
       "    .dataframe tbody tr th:only-of-type {\n",
       "        vertical-align: middle;\n",
       "    }\n",
       "\n",
       "    .dataframe tbody tr th {\n",
       "        vertical-align: top;\n",
       "    }\n",
       "\n",
       "    .dataframe thead th {\n",
       "        text-align: right;\n",
       "    }\n",
       "</style>\n",
       "<table border=\"1\" class=\"dataframe\">\n",
       "  <thead>\n",
       "    <tr style=\"text-align: right;\">\n",
       "      <th></th>\n",
       "      <th>ACS</th>\n",
       "      <th>Codigo Centro</th>\n",
       "      <th>Propietario</th>\n",
       "      <th>Nombre Sector</th>\n",
       "      <th>Tipo Cultivo</th>\n",
       "      <th>Tipo Agua</th>\n",
       "      <th>Año</th>\n",
       "      <th>Mes</th>\n",
       "      <th>Región</th>\n",
       "      <th>Provincia</th>\n",
       "      <th>...</th>\n",
       "      <th>Cod. Especie</th>\n",
       "      <th>Especie</th>\n",
       "      <th>Etapa</th>\n",
       "      <th>Unidades</th>\n",
       "      <th>Kilos</th>\n",
       "      <th>Origen</th>\n",
       "      <th>Cod. Origen</th>\n",
       "      <th>Nombre Origen</th>\n",
       "      <th>Tipo Especie</th>\n",
       "      <th>Sistema Ingreso</th>\n",
       "    </tr>\n",
       "  </thead>\n",
       "  <tbody>\n",
       "    <tr>\n",
       "      <th>0</th>\n",
       "      <td>modif descanso 2</td>\n",
       "      <td>500014</td>\n",
       "      <td>RIO DULCE S.A.</td>\n",
       "      <td>SAN ANTONIO, SEIS SECTORES</td>\n",
       "      <td>ACOPIO FLOTANTE</td>\n",
       "      <td>Mar</td>\n",
       "      <td>2021</td>\n",
       "      <td>1</td>\n",
       "      <td>10</td>\n",
       "      <td>Chiloé</td>\n",
       "      <td>...</td>\n",
       "      <td>311</td>\n",
       "      <td>TRUCHA ARCOIRIS</td>\n",
       "      <td>ADULTOS</td>\n",
       "      <td>24146.0</td>\n",
       "      <td>82555.0</td>\n",
       "      <td>Declarar Existencias de Especies de Cultivo co...</td>\n",
       "      <td>120191.0</td>\n",
       "      <td>AUSTRALIS MAR S.A.</td>\n",
       "      <td>PECES</td>\n",
       "      <td>SIFA</td>\n",
       "    </tr>\n",
       "    <tr>\n",
       "      <th>1</th>\n",
       "      <td>modif descanso 2</td>\n",
       "      <td>500014</td>\n",
       "      <td>RIO DULCE S.A.</td>\n",
       "      <td>SAN ANTONIO, SEIS SECTORES</td>\n",
       "      <td>ACOPIO FLOTANTE</td>\n",
       "      <td>Mar</td>\n",
       "      <td>2021</td>\n",
       "      <td>1</td>\n",
       "      <td>10</td>\n",
       "      <td>Chiloé</td>\n",
       "      <td>...</td>\n",
       "      <td>311</td>\n",
       "      <td>TRUCHA ARCOIRIS</td>\n",
       "      <td>ADULTOS</td>\n",
       "      <td>24172.0</td>\n",
       "      <td>82644.0</td>\n",
       "      <td>Declarar Existencias de Especies de Cultivo co...</td>\n",
       "      <td>120191.0</td>\n",
       "      <td>AUSTRALIS MAR S.A.</td>\n",
       "      <td>PECES</td>\n",
       "      <td>SIFA</td>\n",
       "    </tr>\n",
       "    <tr>\n",
       "      <th>2</th>\n",
       "      <td>modif descanso 2</td>\n",
       "      <td>500014</td>\n",
       "      <td>RIO DULCE S.A.</td>\n",
       "      <td>SAN ANTONIO, SEIS SECTORES</td>\n",
       "      <td>ACOPIO FLOTANTE</td>\n",
       "      <td>Mar</td>\n",
       "      <td>2021</td>\n",
       "      <td>1</td>\n",
       "      <td>10</td>\n",
       "      <td>Chiloé</td>\n",
       "      <td>...</td>\n",
       "      <td>301</td>\n",
       "      <td>SALMON DEL ATLANTICO</td>\n",
       "      <td>ADULTOS</td>\n",
       "      <td>13002.0</td>\n",
       "      <td>87113.0</td>\n",
       "      <td>Declarar Existencias de Especies de Cultivo co...</td>\n",
       "      <td>110340.0</td>\n",
       "      <td>COOKE AQUACULTURE CHILE S.A.</td>\n",
       "      <td>PECES</td>\n",
       "      <td>SIFA</td>\n",
       "    </tr>\n",
       "    <tr>\n",
       "      <th>3</th>\n",
       "      <td>ACS 7</td>\n",
       "      <td>500035</td>\n",
       "      <td>MAINSTREAM CHILE S.A.</td>\n",
       "      <td>PUERTO FERNANDEZ, QUEMCHI</td>\n",
       "      <td>ACOPIO FLOTANTE</td>\n",
       "      <td>Mar</td>\n",
       "      <td>2021</td>\n",
       "      <td>1</td>\n",
       "      <td>10</td>\n",
       "      <td>Chiloé</td>\n",
       "      <td>...</td>\n",
       "      <td>301</td>\n",
       "      <td>SALMON DEL ATLANTICO</td>\n",
       "      <td>ADULTOS</td>\n",
       "      <td>36908.0</td>\n",
       "      <td>235.0</td>\n",
       "      <td>Declarar Existencias de Especies de Cultivo co...</td>\n",
       "      <td>110758.0</td>\n",
       "      <td>CERMAQ CHILE S.A.</td>\n",
       "      <td>PECES</td>\n",
       "      <td>SIFA</td>\n",
       "    </tr>\n",
       "    <tr>\n",
       "      <th>4</th>\n",
       "      <td>ACS 10 B</td>\n",
       "      <td>500019</td>\n",
       "      <td>ANTARFOOD S.A.</td>\n",
       "      <td>CANAL YAL</td>\n",
       "      <td>ACOPIO FLOTANTE</td>\n",
       "      <td>Mar</td>\n",
       "      <td>2021</td>\n",
       "      <td>1</td>\n",
       "      <td>10</td>\n",
       "      <td>Chiloé</td>\n",
       "      <td>...</td>\n",
       "      <td>302</td>\n",
       "      <td>SALMON PLATEADO O COHO</td>\n",
       "      <td>ADULTOS</td>\n",
       "      <td>9084.0</td>\n",
       "      <td>35.0</td>\n",
       "      <td>Declarar Existencias de Especies de Cultivo co...</td>\n",
       "      <td>110591.0</td>\n",
       "      <td>EXPORTADORA LOS FIORDOS LTDA.</td>\n",
       "      <td>PECES</td>\n",
       "      <td>SIFA</td>\n",
       "    </tr>\n",
       "  </tbody>\n",
       "</table>\n",
       "<p>5 rows × 22 columns</p>\n",
       "</div>"
      ],
      "text/plain": [
       "                ACS  Codigo Centro            Propietario  \\\n",
       "0  modif descanso 2         500014         RIO DULCE S.A.   \n",
       "1  modif descanso 2         500014         RIO DULCE S.A.   \n",
       "2  modif descanso 2         500014         RIO DULCE S.A.   \n",
       "3             ACS 7         500035  MAINSTREAM CHILE S.A.   \n",
       "4          ACS 10 B         500019         ANTARFOOD S.A.   \n",
       "\n",
       "                Nombre Sector     Tipo Cultivo Tipo Agua   Año  Mes  Región  \\\n",
       "0  SAN ANTONIO, SEIS SECTORES  ACOPIO FLOTANTE       Mar  2021    1      10   \n",
       "1  SAN ANTONIO, SEIS SECTORES  ACOPIO FLOTANTE       Mar  2021    1      10   \n",
       "2  SAN ANTONIO, SEIS SECTORES  ACOPIO FLOTANTE       Mar  2021    1      10   \n",
       "3   PUERTO FERNANDEZ, QUEMCHI  ACOPIO FLOTANTE       Mar  2021    1      10   \n",
       "4                   CANAL YAL  ACOPIO FLOTANTE       Mar  2021    1      10   \n",
       "\n",
       "  Provincia  ... Cod. Especie                 Especie    Etapa Unidades  \\\n",
       "0    Chiloé  ...          311         TRUCHA ARCOIRIS  ADULTOS  24146.0   \n",
       "1    Chiloé  ...          311         TRUCHA ARCOIRIS  ADULTOS  24172.0   \n",
       "2    Chiloé  ...          301    SALMON DEL ATLANTICO  ADULTOS  13002.0   \n",
       "3    Chiloé  ...          301    SALMON DEL ATLANTICO  ADULTOS  36908.0   \n",
       "4    Chiloé  ...          302  SALMON PLATEADO O COHO  ADULTOS   9084.0   \n",
       "\n",
       "     Kilos                                             Origen  Cod. Origen  \\\n",
       "0  82555.0  Declarar Existencias de Especies de Cultivo co...     120191.0   \n",
       "1  82644.0  Declarar Existencias de Especies de Cultivo co...     120191.0   \n",
       "2  87113.0  Declarar Existencias de Especies de Cultivo co...     110340.0   \n",
       "3    235.0  Declarar Existencias de Especies de Cultivo co...     110758.0   \n",
       "4     35.0  Declarar Existencias de Especies de Cultivo co...     110591.0   \n",
       "\n",
       "                   Nombre Origen  Tipo Especie Sistema Ingreso  \n",
       "0             AUSTRALIS MAR S.A.         PECES            SIFA  \n",
       "1             AUSTRALIS MAR S.A.         PECES            SIFA  \n",
       "2   COOKE AQUACULTURE CHILE S.A.         PECES            SIFA  \n",
       "3              CERMAQ CHILE S.A.         PECES            SIFA  \n",
       "4  EXPORTADORA LOS FIORDOS LTDA.         PECES            SIFA  \n",
       "\n",
       "[5 rows x 22 columns]"
      ]
     },
     "execution_count": 59,
     "metadata": {},
     "output_type": "execute_result"
    }
   ],
   "source": [
    "RNA_raw.head()"
   ]
  },
  {
   "cell_type": "code",
   "execution_count": 76,
   "id": "b320cab5",
   "metadata": {},
   "outputs": [
    {
     "name": "stdout",
     "output_type": "stream",
     "text": [
      "En total existen 1211 lugares de ingresos y 935 lugares de origen \n"
     ]
    }
   ],
   "source": [
    "#len(RNA_raw)\n",
    "q_centros_ingresos = len(RNA_raw['Codigo Centro'].unique().tolist())\n",
    "q_centros_origen = len(RNA_raw['Cod. Origen'].unique().tolist())\n",
    "print(f'En total existen {q_centros_ingresos} lugares de ingresos y {q_centros_origen} lugares de origen ' )"
   ]
  }
 ],
 "metadata": {
  "kernelspec": {
   "display_name": "Python 3 (ipykernel)",
   "language": "python",
   "name": "python3"
  },
  "language_info": {
   "codemirror_mode": {
    "name": "ipython",
    "version": 3
   },
   "file_extension": ".py",
   "mimetype": "text/x-python",
   "name": "python",
   "nbconvert_exporter": "python",
   "pygments_lexer": "ipython3",
   "version": "3.8.13"
  },
  "vscode": {
   "interpreter": {
    "hash": "c27c728eb10a1be93e8222696e6e8d9f6f35a8d04ffe7fbebfed48cbbbf55747"
   }
  }
 },
 "nbformat": 4,
 "nbformat_minor": 5
}

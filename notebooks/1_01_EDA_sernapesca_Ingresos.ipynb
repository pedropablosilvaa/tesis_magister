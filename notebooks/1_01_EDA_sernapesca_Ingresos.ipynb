{
 "cells": [
  {
   "cell_type": "markdown",
   "id": "a60e1b16",
   "metadata": {},
   "source": [
    "# EDA para información entregada por Sernapesca"
   ]
  },
  {
   "cell_type": "markdown",
   "id": "4e74951c",
   "metadata": {},
   "source": [
    "#### Introducción\n",
    "Este Noteboopk corresponde al análisis exploratorio del archivo enviado por sernapesca llamado \"Ingresos 2021-2022.xlsx\", el cual es extraido desde su platadorma interna denominada Reporteador.\n",
    " \n",
    "Resumen:\n",
    "* Tiene una dimensión de (64054, 22)\n",
    "* Este archivo es una tabla con los ingresos a las plantas, entrega información de los centros de cultivo de origen.\n",
    "* Es solo para la Región de Los Lagos.\n",
    "* Tiene una temporalidad mensual que va desde 2021-01-01 hasta el 2022-06-01 con datos para todos los meses.\n",
    "* Tiene varios tipos de especies."
   ]
  },
  {
   "cell_type": "markdown",
   "id": "96430312",
   "metadata": {},
   "source": [
    "### Import libreries"
   ]
  },
  {
   "cell_type": "code",
   "execution_count": 3,
   "id": "ae17ab06",
   "metadata": {},
   "outputs": [],
   "source": [
    "import logging\n",
    "import subprocess\n",
    "import os   \n",
    "import pandas as pd\n",
    "import seaborn as sns"
   ]
  },
  {
   "cell_type": "markdown",
   "id": "22c8d822",
   "metadata": {},
   "source": [
    "### Reading file \"Ingresos\""
   ]
  },
  {
   "cell_type": "code",
   "execution_count": 5,
   "id": "dacd2257",
   "metadata": {},
   "outputs": [
    {
     "name": "stdout",
     "output_type": "stream",
     "text": [
      "CPU times: total: 20.3 s\n",
      "Wall time: 20.6 s\n"
     ]
    }
   ],
   "source": [
    "%%time\n",
    "ingresos_raw = pd.read_excel(\"../data/datos_nelson/Ingresos 2021-2022.xlsx\")"
   ]
  },
  {
   "cell_type": "code",
   "execution_count": 6,
   "id": "d3961d4c",
   "metadata": {},
   "outputs": [
    {
     "data": {
      "text/plain": [
       "(64054, 22)"
      ]
     },
     "execution_count": 6,
     "metadata": {},
     "output_type": "execute_result"
    }
   ],
   "source": [
    "ingresos_raw.shape"
   ]
  },
  {
   "cell_type": "code",
   "execution_count": 7,
   "id": "43b4281c",
   "metadata": {},
   "outputs": [
    {
     "data": {
      "text/html": [
       "<div>\n",
       "<style scoped>\n",
       "    .dataframe tbody tr th:only-of-type {\n",
       "        vertical-align: middle;\n",
       "    }\n",
       "\n",
       "    .dataframe tbody tr th {\n",
       "        vertical-align: top;\n",
       "    }\n",
       "\n",
       "    .dataframe thead th {\n",
       "        text-align: right;\n",
       "    }\n",
       "</style>\n",
       "<table border=\"1\" class=\"dataframe\">\n",
       "  <thead>\n",
       "    <tr style=\"text-align: right;\">\n",
       "      <th></th>\n",
       "      <th>ACS</th>\n",
       "      <th>Codigo Centro</th>\n",
       "      <th>Propietario</th>\n",
       "      <th>Nombre Sector</th>\n",
       "      <th>Tipo Cultivo</th>\n",
       "      <th>Tipo Agua</th>\n",
       "      <th>Año</th>\n",
       "      <th>Mes</th>\n",
       "      <th>Región</th>\n",
       "      <th>Provincia</th>\n",
       "      <th>...</th>\n",
       "      <th>Cod. Especie</th>\n",
       "      <th>Especie</th>\n",
       "      <th>Etapa</th>\n",
       "      <th>Unidades</th>\n",
       "      <th>Kilos</th>\n",
       "      <th>Origen</th>\n",
       "      <th>Cod. Origen</th>\n",
       "      <th>Nombre Origen</th>\n",
       "      <th>Tipo Especie</th>\n",
       "      <th>Sistema Ingreso</th>\n",
       "    </tr>\n",
       "  </thead>\n",
       "  <tbody>\n",
       "    <tr>\n",
       "      <th>0</th>\n",
       "      <td>modif descanso 2</td>\n",
       "      <td>500014</td>\n",
       "      <td>RIO DULCE S.A.</td>\n",
       "      <td>SAN ANTONIO, SEIS SECTORES</td>\n",
       "      <td>ACOPIO FLOTANTE</td>\n",
       "      <td>Mar</td>\n",
       "      <td>2021</td>\n",
       "      <td>1</td>\n",
       "      <td>10</td>\n",
       "      <td>Chiloé</td>\n",
       "      <td>...</td>\n",
       "      <td>311</td>\n",
       "      <td>TRUCHA ARCOIRIS</td>\n",
       "      <td>ADULTOS</td>\n",
       "      <td>24146.0</td>\n",
       "      <td>82555.0</td>\n",
       "      <td>Declarar Existencias de Especies de Cultivo co...</td>\n",
       "      <td>120191.0</td>\n",
       "      <td>AUSTRALIS MAR S.A.</td>\n",
       "      <td>PECES</td>\n",
       "      <td>SIFA</td>\n",
       "    </tr>\n",
       "    <tr>\n",
       "      <th>1</th>\n",
       "      <td>modif descanso 2</td>\n",
       "      <td>500014</td>\n",
       "      <td>RIO DULCE S.A.</td>\n",
       "      <td>SAN ANTONIO, SEIS SECTORES</td>\n",
       "      <td>ACOPIO FLOTANTE</td>\n",
       "      <td>Mar</td>\n",
       "      <td>2021</td>\n",
       "      <td>1</td>\n",
       "      <td>10</td>\n",
       "      <td>Chiloé</td>\n",
       "      <td>...</td>\n",
       "      <td>311</td>\n",
       "      <td>TRUCHA ARCOIRIS</td>\n",
       "      <td>ADULTOS</td>\n",
       "      <td>24172.0</td>\n",
       "      <td>82644.0</td>\n",
       "      <td>Declarar Existencias de Especies de Cultivo co...</td>\n",
       "      <td>120191.0</td>\n",
       "      <td>AUSTRALIS MAR S.A.</td>\n",
       "      <td>PECES</td>\n",
       "      <td>SIFA</td>\n",
       "    </tr>\n",
       "    <tr>\n",
       "      <th>2</th>\n",
       "      <td>modif descanso 2</td>\n",
       "      <td>500014</td>\n",
       "      <td>RIO DULCE S.A.</td>\n",
       "      <td>SAN ANTONIO, SEIS SECTORES</td>\n",
       "      <td>ACOPIO FLOTANTE</td>\n",
       "      <td>Mar</td>\n",
       "      <td>2021</td>\n",
       "      <td>1</td>\n",
       "      <td>10</td>\n",
       "      <td>Chiloé</td>\n",
       "      <td>...</td>\n",
       "      <td>301</td>\n",
       "      <td>SALMON DEL ATLANTICO</td>\n",
       "      <td>ADULTOS</td>\n",
       "      <td>13002.0</td>\n",
       "      <td>87113.0</td>\n",
       "      <td>Declarar Existencias de Especies de Cultivo co...</td>\n",
       "      <td>110340.0</td>\n",
       "      <td>COOKE AQUACULTURE CHILE S.A.</td>\n",
       "      <td>PECES</td>\n",
       "      <td>SIFA</td>\n",
       "    </tr>\n",
       "    <tr>\n",
       "      <th>3</th>\n",
       "      <td>ACS 7</td>\n",
       "      <td>500035</td>\n",
       "      <td>MAINSTREAM CHILE S.A.</td>\n",
       "      <td>PUERTO FERNANDEZ, QUEMCHI</td>\n",
       "      <td>ACOPIO FLOTANTE</td>\n",
       "      <td>Mar</td>\n",
       "      <td>2021</td>\n",
       "      <td>1</td>\n",
       "      <td>10</td>\n",
       "      <td>Chiloé</td>\n",
       "      <td>...</td>\n",
       "      <td>301</td>\n",
       "      <td>SALMON DEL ATLANTICO</td>\n",
       "      <td>ADULTOS</td>\n",
       "      <td>36908.0</td>\n",
       "      <td>235.0</td>\n",
       "      <td>Declarar Existencias de Especies de Cultivo co...</td>\n",
       "      <td>110758.0</td>\n",
       "      <td>CERMAQ CHILE S.A.</td>\n",
       "      <td>PECES</td>\n",
       "      <td>SIFA</td>\n",
       "    </tr>\n",
       "    <tr>\n",
       "      <th>4</th>\n",
       "      <td>ACS 10 B</td>\n",
       "      <td>500019</td>\n",
       "      <td>ANTARFOOD S.A.</td>\n",
       "      <td>CANAL YAL</td>\n",
       "      <td>ACOPIO FLOTANTE</td>\n",
       "      <td>Mar</td>\n",
       "      <td>2021</td>\n",
       "      <td>1</td>\n",
       "      <td>10</td>\n",
       "      <td>Chiloé</td>\n",
       "      <td>...</td>\n",
       "      <td>302</td>\n",
       "      <td>SALMON PLATEADO O COHO</td>\n",
       "      <td>ADULTOS</td>\n",
       "      <td>9084.0</td>\n",
       "      <td>35.0</td>\n",
       "      <td>Declarar Existencias de Especies de Cultivo co...</td>\n",
       "      <td>110591.0</td>\n",
       "      <td>EXPORTADORA LOS FIORDOS LTDA.</td>\n",
       "      <td>PECES</td>\n",
       "      <td>SIFA</td>\n",
       "    </tr>\n",
       "  </tbody>\n",
       "</table>\n",
       "<p>5 rows × 22 columns</p>\n",
       "</div>"
      ],
      "text/plain": [
       "                ACS  Codigo Centro            Propietario  \\\n",
       "0  modif descanso 2         500014         RIO DULCE S.A.   \n",
       "1  modif descanso 2         500014         RIO DULCE S.A.   \n",
       "2  modif descanso 2         500014         RIO DULCE S.A.   \n",
       "3             ACS 7         500035  MAINSTREAM CHILE S.A.   \n",
       "4          ACS 10 B         500019         ANTARFOOD S.A.   \n",
       "\n",
       "                Nombre Sector     Tipo Cultivo Tipo Agua   Año  Mes  Región  \\\n",
       "0  SAN ANTONIO, SEIS SECTORES  ACOPIO FLOTANTE       Mar  2021    1      10   \n",
       "1  SAN ANTONIO, SEIS SECTORES  ACOPIO FLOTANTE       Mar  2021    1      10   \n",
       "2  SAN ANTONIO, SEIS SECTORES  ACOPIO FLOTANTE       Mar  2021    1      10   \n",
       "3   PUERTO FERNANDEZ, QUEMCHI  ACOPIO FLOTANTE       Mar  2021    1      10   \n",
       "4                   CANAL YAL  ACOPIO FLOTANTE       Mar  2021    1      10   \n",
       "\n",
       "  Provincia  ... Cod. Especie                 Especie    Etapa Unidades  \\\n",
       "0    Chiloé  ...          311         TRUCHA ARCOIRIS  ADULTOS  24146.0   \n",
       "1    Chiloé  ...          311         TRUCHA ARCOIRIS  ADULTOS  24172.0   \n",
       "2    Chiloé  ...          301    SALMON DEL ATLANTICO  ADULTOS  13002.0   \n",
       "3    Chiloé  ...          301    SALMON DEL ATLANTICO  ADULTOS  36908.0   \n",
       "4    Chiloé  ...          302  SALMON PLATEADO O COHO  ADULTOS   9084.0   \n",
       "\n",
       "     Kilos                                             Origen  Cod. Origen  \\\n",
       "0  82555.0  Declarar Existencias de Especies de Cultivo co...     120191.0   \n",
       "1  82644.0  Declarar Existencias de Especies de Cultivo co...     120191.0   \n",
       "2  87113.0  Declarar Existencias de Especies de Cultivo co...     110340.0   \n",
       "3    235.0  Declarar Existencias de Especies de Cultivo co...     110758.0   \n",
       "4     35.0  Declarar Existencias de Especies de Cultivo co...     110591.0   \n",
       "\n",
       "                   Nombre Origen  Tipo Especie Sistema Ingreso  \n",
       "0             AUSTRALIS MAR S.A.         PECES            SIFA  \n",
       "1             AUSTRALIS MAR S.A.         PECES            SIFA  \n",
       "2   COOKE AQUACULTURE CHILE S.A.         PECES            SIFA  \n",
       "3              CERMAQ CHILE S.A.         PECES            SIFA  \n",
       "4  EXPORTADORA LOS FIORDOS LTDA.         PECES            SIFA  \n",
       "\n",
       "[5 rows x 22 columns]"
      ]
     },
     "execution_count": 7,
     "metadata": {},
     "output_type": "execute_result"
    }
   ],
   "source": [
    "ingresos_raw.head()"
   ]
  },
  {
   "cell_type": "code",
   "execution_count": 8,
   "id": "a94c684c",
   "metadata": {},
   "outputs": [
    {
     "data": {
      "text/plain": [
       "['ACS',\n",
       " 'Codigo Centro',\n",
       " 'Propietario',\n",
       " 'Nombre Sector',\n",
       " 'Tipo Cultivo',\n",
       " 'Tipo Agua',\n",
       " 'Año',\n",
       " 'Mes',\n",
       " 'Región',\n",
       " 'Provincia',\n",
       " 'Comuna',\n",
       " 'N° Declaración',\n",
       " 'Cod. Especie',\n",
       " 'Especie',\n",
       " 'Etapa',\n",
       " 'Unidades',\n",
       " 'Kilos',\n",
       " 'Origen',\n",
       " 'Cod. Origen',\n",
       " 'Nombre Origen',\n",
       " 'Tipo Especie',\n",
       " 'Sistema Ingreso']"
      ]
     },
     "execution_count": 8,
     "metadata": {},
     "output_type": "execute_result"
    }
   ],
   "source": [
    "ingresos_raw.columns.to_list()"
   ]
  },
  {
   "cell_type": "code",
   "execution_count": 9,
   "id": "1bea8212",
   "metadata": {},
   "outputs": [
    {
     "data": {
      "text/plain": [
       "<bound method DataFrame.info of                     ACS  Codigo Centro  \\\n",
       "0      modif descanso 2         500014   \n",
       "1      modif descanso 2         500014   \n",
       "2      modif descanso 2         500014   \n",
       "3                 ACS 7         500035   \n",
       "4              ACS 10 B         500019   \n",
       "...                 ...            ...   \n",
       "64049               NaN         104092   \n",
       "64050               NaN         104224   \n",
       "64051               NaN         104224   \n",
       "64052               NaN         103610   \n",
       "64053               NaN         104061   \n",
       "\n",
       "                                     Propietario  \\\n",
       "0                                 RIO DULCE S.A.   \n",
       "1                                 RIO DULCE S.A.   \n",
       "2                                 RIO DULCE S.A.   \n",
       "3                          MAINSTREAM CHILE S.A.   \n",
       "4                                 ANTARFOOD S.A.   \n",
       "...                                          ...   \n",
       "64049                  INVERSIONES COIHUIN LTDA.   \n",
       "64050  CENTRO INNNOVACION AQUAINNOVO-BIOMAR S.A.   \n",
       "64051  CENTRO INNNOVACION AQUAINNOVO-BIOMAR S.A.   \n",
       "64052                  SOCIEDAD ACUI CHOLMAR SPA   \n",
       "64053              ALVARADO MUÑOZ GERARDO ANDRES   \n",
       "\n",
       "                                 Nombre Sector     Tipo Cultivo Tipo Agua  \\\n",
       "0                   SAN ANTONIO, SEIS SECTORES  ACOPIO FLOTANTE       Mar   \n",
       "1                   SAN ANTONIO, SEIS SECTORES  ACOPIO FLOTANTE       Mar   \n",
       "2                   SAN ANTONIO, SEIS SECTORES  ACOPIO FLOTANTE       Mar   \n",
       "3                    PUERTO FERNANDEZ, QUEMCHI  ACOPIO FLOTANTE       Mar   \n",
       "4                                    CANAL YAL  ACOPIO FLOTANTE       Mar   \n",
       "...                                        ...              ...       ...   \n",
       "64049          ESTE PUNTA CAPACHO, BAHIA ILQUE          CERRADO       Mar   \n",
       "64050                                    LENCA    INVESTIGACION       Mar   \n",
       "64051                                    LENCA    INVESTIGACION       Mar   \n",
       "64052      CANAL LLANCAHUE, SURESTE ISLA MUTRI          CERRADO       Mar   \n",
       "64053  NORTE SECTOR LA ARENA, CANAL HORNOPIREN          CERRADO       Mar   \n",
       "\n",
       "        Año  Mes  Región   Provincia  ... Cod. Especie  \\\n",
       "0      2021    1      10      Chiloé  ...          311   \n",
       "1      2021    1      10      Chiloé  ...          311   \n",
       "2      2021    1      10      Chiloé  ...          301   \n",
       "3      2021    1      10      Chiloé  ...          301   \n",
       "4      2021    1      10      Chiloé  ...          302   \n",
       "...     ...  ...     ...         ...  ...          ...   \n",
       "64049  2022    6      10  Llanquihue  ...          430   \n",
       "64050  2022    6      10  Llanquihue  ...          301   \n",
       "64051  2022    6      10  Llanquihue  ...          301   \n",
       "64052  2022    6      10      Palena  ...          430   \n",
       "64053  2022    6      10      Palena  ...          430   \n",
       "\n",
       "                      Especie     Etapa Unidades    Kilos  \\\n",
       "0             TRUCHA ARCOIRIS   ADULTOS  24146.0  82555.0   \n",
       "1             TRUCHA ARCOIRIS   ADULTOS  24172.0  82644.0   \n",
       "2        SALMON DEL ATLANTICO   ADULTOS  13002.0  87113.0   \n",
       "3        SALMON DEL ATLANTICO   ADULTOS  36908.0    235.0   \n",
       "4      SALMON PLATEADO O COHO   ADULTOS   9084.0     35.0   \n",
       "...                       ...       ...      ...      ...   \n",
       "64049                 CHORITO  SEMILLAS      NaN  17604.0   \n",
       "64050    SALMON DEL ATLANTICO  ALEVINES   1300.0    130.0   \n",
       "64051    SALMON DEL ATLANTICO  ALEVINES   1400.0     91.0   \n",
       "64052                 CHORITO  SEMILLAS      NaN  96000.0   \n",
       "64053                 CHORITO  SEMILLAS      NaN  20000.0   \n",
       "\n",
       "                                                  Origen  Cod. Origen  \\\n",
       "0      Declarar Existencias de Especies de Cultivo co...     120191.0   \n",
       "1      Declarar Existencias de Especies de Cultivo co...     120191.0   \n",
       "2      Declarar Existencias de Especies de Cultivo co...     110340.0   \n",
       "3      Declarar Existencias de Especies de Cultivo co...     110758.0   \n",
       "4      Declarar Existencias de Especies de Cultivo co...     110591.0   \n",
       "...                                                  ...          ...   \n",
       "64049                                     Área de Manejo      10207.0   \n",
       "64050                                  Centro de Cultivo     101937.0   \n",
       "64051                                  Centro de Cultivo     101937.0   \n",
       "64052                                              Otros          1.0   \n",
       "64053                                   Comercializadora       6111.0   \n",
       "\n",
       "                       Nombre Origen  Tipo Especie Sistema Ingreso  \n",
       "0                 AUSTRALIS MAR S.A.         PECES            SIFA  \n",
       "1                 AUSTRALIS MAR S.A.         PECES            SIFA  \n",
       "2       COOKE AQUACULTURE CHILE S.A.         PECES            SIFA  \n",
       "3                  CERMAQ CHILE S.A.         PECES            SIFA  \n",
       "4      EXPORTADORA LOS FIORDOS LTDA.         PECES            SIFA  \n",
       "...                              ...           ...             ...  \n",
       "64049     Weste Isla Pelada Sector A      MOLUSCOS             COA  \n",
       "64050      PISCICULTURA CODINHUE SPA         PECES             COA  \n",
       "64051      PISCICULTURA CODINHUE SPA         PECES             COA  \n",
       "64052              CAPTACION NATURAL      MOLUSCOS             COA  \n",
       "64053        ACUICOLA HORNOPIREN SpA      MOLUSCOS             COA  \n",
       "\n",
       "[64054 rows x 22 columns]>"
      ]
     },
     "execution_count": 9,
     "metadata": {},
     "output_type": "execute_result"
    }
   ],
   "source": [
    "ingresos_raw.info"
   ]
  },
  {
   "cell_type": "code",
   "execution_count": 10,
   "id": "b9d2996b",
   "metadata": {},
   "outputs": [
    {
     "data": {
      "text/html": [
       "<div>\n",
       "<style scoped>\n",
       "    .dataframe tbody tr th:only-of-type {\n",
       "        vertical-align: middle;\n",
       "    }\n",
       "\n",
       "    .dataframe tbody tr th {\n",
       "        vertical-align: top;\n",
       "    }\n",
       "\n",
       "    .dataframe thead th {\n",
       "        text-align: right;\n",
       "    }\n",
       "</style>\n",
       "<table border=\"1\" class=\"dataframe\">\n",
       "  <thead>\n",
       "    <tr style=\"text-align: right;\">\n",
       "      <th></th>\n",
       "      <th>Codigo Centro</th>\n",
       "      <th>Año</th>\n",
       "      <th>Mes</th>\n",
       "      <th>Región</th>\n",
       "      <th>N° Declaración</th>\n",
       "      <th>Cod. Especie</th>\n",
       "      <th>Unidades</th>\n",
       "      <th>Kilos</th>\n",
       "      <th>Cod. Origen</th>\n",
       "    </tr>\n",
       "  </thead>\n",
       "  <tbody>\n",
       "    <tr>\n",
       "      <th>count</th>\n",
       "      <td>64054.000000</td>\n",
       "      <td>64054.000000</td>\n",
       "      <td>64054.000000</td>\n",
       "      <td>64054.0</td>\n",
       "      <td>6.405400e+04</td>\n",
       "      <td>64054.000000</td>\n",
       "      <td>5.619500e+04</td>\n",
       "      <td>6.405400e+04</td>\n",
       "      <td>63083.000000</td>\n",
       "    </tr>\n",
       "    <tr>\n",
       "      <th>mean</th>\n",
       "      <td>206234.684423</td>\n",
       "      <td>2021.288631</td>\n",
       "      <td>5.426952</td>\n",
       "      <td>10.0</td>\n",
       "      <td>1.272773e+06</td>\n",
       "      <td>313.515300</td>\n",
       "      <td>3.484208e+04</td>\n",
       "      <td>2.398674e+04</td>\n",
       "      <td>94518.350824</td>\n",
       "    </tr>\n",
       "    <tr>\n",
       "      <th>std</th>\n",
       "      <td>174736.900218</td>\n",
       "      <td>0.453130</td>\n",
       "      <td>3.164148</td>\n",
       "      <td>0.0</td>\n",
       "      <td>1.593380e+05</td>\n",
       "      <td>53.348789</td>\n",
       "      <td>2.980422e+05</td>\n",
       "      <td>2.514386e+06</td>\n",
       "      <td>30047.561236</td>\n",
       "    </tr>\n",
       "    <tr>\n",
       "      <th>min</th>\n",
       "      <td>100009.000000</td>\n",
       "      <td>2021.000000</td>\n",
       "      <td>1.000000</td>\n",
       "      <td>10.0</td>\n",
       "      <td>1.606180e+05</td>\n",
       "      <td>122.000000</td>\n",
       "      <td>0.000000e+00</td>\n",
       "      <td>0.000000e+00</td>\n",
       "      <td>1.000000</td>\n",
       "    </tr>\n",
       "    <tr>\n",
       "      <th>25%</th>\n",
       "      <td>101851.000000</td>\n",
       "      <td>2021.000000</td>\n",
       "      <td>3.000000</td>\n",
       "      <td>10.0</td>\n",
       "      <td>1.265793e+06</td>\n",
       "      <td>301.000000</td>\n",
       "      <td>4.010000e+03</td>\n",
       "      <td>6.220000e+02</td>\n",
       "      <td>100205.000000</td>\n",
       "    </tr>\n",
       "    <tr>\n",
       "      <th>50%</th>\n",
       "      <td>103452.000000</td>\n",
       "      <td>2021.000000</td>\n",
       "      <td>5.000000</td>\n",
       "      <td>10.0</td>\n",
       "      <td>1.307780e+06</td>\n",
       "      <td>302.000000</td>\n",
       "      <td>8.881000e+03</td>\n",
       "      <td>1.301000e+03</td>\n",
       "      <td>101866.000000</td>\n",
       "    </tr>\n",
       "    <tr>\n",
       "      <th>75%</th>\n",
       "      <td>500014.000000</td>\n",
       "      <td>2022.000000</td>\n",
       "      <td>8.000000</td>\n",
       "      <td>10.0</td>\n",
       "      <td>1.366037e+06</td>\n",
       "      <td>302.000000</td>\n",
       "      <td>1.680000e+04</td>\n",
       "      <td>9.750000e+03</td>\n",
       "      <td>103941.000000</td>\n",
       "    </tr>\n",
       "    <tr>\n",
       "      <th>max</th>\n",
       "      <td>810276.000000</td>\n",
       "      <td>2022.000000</td>\n",
       "      <td>12.000000</td>\n",
       "      <td>10.0</td>\n",
       "      <td>1.423360e+06</td>\n",
       "      <td>495.000000</td>\n",
       "      <td>4.000000e+07</td>\n",
       "      <td>6.362615e+08</td>\n",
       "      <td>810248.000000</td>\n",
       "    </tr>\n",
       "  </tbody>\n",
       "</table>\n",
       "</div>"
      ],
      "text/plain": [
       "       Codigo Centro           Año           Mes   Región  N° Declaración  \\\n",
       "count   64054.000000  64054.000000  64054.000000  64054.0    6.405400e+04   \n",
       "mean   206234.684423   2021.288631      5.426952     10.0    1.272773e+06   \n",
       "std    174736.900218      0.453130      3.164148      0.0    1.593380e+05   \n",
       "min    100009.000000   2021.000000      1.000000     10.0    1.606180e+05   \n",
       "25%    101851.000000   2021.000000      3.000000     10.0    1.265793e+06   \n",
       "50%    103452.000000   2021.000000      5.000000     10.0    1.307780e+06   \n",
       "75%    500014.000000   2022.000000      8.000000     10.0    1.366037e+06   \n",
       "max    810276.000000   2022.000000     12.000000     10.0    1.423360e+06   \n",
       "\n",
       "       Cod. Especie      Unidades         Kilos    Cod. Origen  \n",
       "count  64054.000000  5.619500e+04  6.405400e+04   63083.000000  \n",
       "mean     313.515300  3.484208e+04  2.398674e+04   94518.350824  \n",
       "std       53.348789  2.980422e+05  2.514386e+06   30047.561236  \n",
       "min      122.000000  0.000000e+00  0.000000e+00       1.000000  \n",
       "25%      301.000000  4.010000e+03  6.220000e+02  100205.000000  \n",
       "50%      302.000000  8.881000e+03  1.301000e+03  101866.000000  \n",
       "75%      302.000000  1.680000e+04  9.750000e+03  103941.000000  \n",
       "max      495.000000  4.000000e+07  6.362615e+08  810248.000000  "
      ]
     },
     "execution_count": 10,
     "metadata": {},
     "output_type": "execute_result"
    }
   ],
   "source": [
    "ingresos_raw.describe()"
   ]
  },
  {
   "cell_type": "code",
   "execution_count": 11,
   "id": "67da7e7e",
   "metadata": {},
   "outputs": [
    {
     "data": {
      "text/plain": [
       "3034"
      ]
     },
     "execution_count": 11,
     "metadata": {},
     "output_type": "execute_result"
    }
   ],
   "source": [
    "ingresos_raw.duplicated().sum()"
   ]
  },
  {
   "cell_type": "code",
   "execution_count": 12,
   "id": "69876068",
   "metadata": {},
   "outputs": [
    {
     "data": {
      "text/plain": [
       "ACS                22195\n",
       "Codigo Centro          0\n",
       "Propietario            0\n",
       "Nombre Sector         13\n",
       "Tipo Cultivo           0\n",
       "Tipo Agua              0\n",
       "Año                    0\n",
       "Mes                    0\n",
       "Región                 0\n",
       "Provincia              0\n",
       "Comuna                 0\n",
       "N° Declaración         0\n",
       "Cod. Especie           0\n",
       "Especie                0\n",
       "Etapa                  0\n",
       "Unidades            7859\n",
       "Kilos                  0\n",
       "Origen                 0\n",
       "Cod. Origen          971\n",
       "Nombre Origen        971\n",
       "Tipo Especie           0\n",
       "Sistema Ingreso        0\n",
       "dtype: int64"
      ]
     },
     "execution_count": 12,
     "metadata": {},
     "output_type": "execute_result"
    }
   ],
   "source": [
    "ingresos_raw.isnull().sum()"
   ]
  },
  {
   "cell_type": "code",
   "execution_count": 13,
   "id": "bd26b2f3",
   "metadata": {},
   "outputs": [
    {
     "data": {
      "text/plain": [
       "ACS                 object\n",
       "Codigo Centro        int64\n",
       "Propietario         object\n",
       "Nombre Sector       object\n",
       "Tipo Cultivo        object\n",
       "Tipo Agua           object\n",
       "Año                  int64\n",
       "Mes                  int64\n",
       "Región               int64\n",
       "Provincia           object\n",
       "Comuna              object\n",
       "N° Declaración       int64\n",
       "Cod. Especie         int64\n",
       "Especie             object\n",
       "Etapa               object\n",
       "Unidades           float64\n",
       "Kilos              float64\n",
       "Origen              object\n",
       "Cod. Origen        float64\n",
       "Nombre Origen       object\n",
       "Tipo Especie        object\n",
       "Sistema Ingreso     object\n",
       "dtype: object"
      ]
     },
     "execution_count": 13,
     "metadata": {},
     "output_type": "execute_result"
    }
   ],
   "source": [
    "ingresos_raw.dtypes"
   ]
  },
  {
   "cell_type": "code",
   "execution_count": 14,
   "id": "062fa6ae",
   "metadata": {},
   "outputs": [
    {
     "data": {
      "text/plain": [
       "['ACS',\n",
       " 'Codigo Centro',\n",
       " 'Propietario',\n",
       " 'Nombre Sector',\n",
       " 'Tipo Cultivo',\n",
       " 'Tipo Agua',\n",
       " 'Año',\n",
       " 'Mes',\n",
       " 'Región',\n",
       " 'Provincia',\n",
       " 'Comuna',\n",
       " 'N° Declaración',\n",
       " 'Cod. Especie',\n",
       " 'Especie',\n",
       " 'Etapa',\n",
       " 'Unidades',\n",
       " 'Kilos',\n",
       " 'Origen',\n",
       " 'Cod. Origen',\n",
       " 'Nombre Origen',\n",
       " 'Tipo Especie',\n",
       " 'Sistema Ingreso']"
      ]
     },
     "execution_count": 14,
     "metadata": {},
     "output_type": "execute_result"
    }
   ],
   "source": [
    "ingresos_raw.columns.to_list()"
   ]
  },
  {
   "cell_type": "code",
   "execution_count": 45,
   "id": "ed3a1ab8",
   "metadata": {},
   "outputs": [
    {
     "data": {
      "text/plain": [
       "['2021-01-01',\n",
       " '2021-02-01',\n",
       " '2021-03-01',\n",
       " '2021-04-01',\n",
       " '2021-05-01',\n",
       " '2021-06-01',\n",
       " '2021-07-01',\n",
       " '2021-08-01',\n",
       " '2021-09-01',\n",
       " '2021-10-01',\n",
       " '2021-11-01',\n",
       " '2021-12-01',\n",
       " '2022-01-01',\n",
       " '2022-02-01',\n",
       " '2022-03-01',\n",
       " '2022-04-01',\n",
       " '2022-05-01',\n",
       " '2022-06-01']"
      ]
     },
     "execution_count": 45,
     "metadata": {},
     "output_type": "execute_result"
    }
   ],
   "source": [
    "ingresos_raw['Fecha'] = pd.to_datetime(ingresos_raw['Año'].astype(str) +'/'+ ingresos_raw['Mes'].astype(str), format=\"%Y/%m\")\n",
    "#ingresos_raw['Fecha'].unique().tolist()\n",
    "ingresos_raw['Fecha'].astype(str).unique().tolist()"
   ]
  },
  {
   "cell_type": "code",
   "execution_count": 15,
   "id": "259adce8",
   "metadata": {},
   "outputs": [
    {
     "data": {
      "text/plain": [
       "[10]"
      ]
     },
     "execution_count": 15,
     "metadata": {},
     "output_type": "execute_result"
    }
   ],
   "source": [
    "#ingresos_raw['Especie'].unique().tolist()\n",
    "ingresos_raw['Región'].unique().tolist()"
   ]
  },
  {
   "cell_type": "code",
   "execution_count": 16,
   "id": "30f5bf3b",
   "metadata": {},
   "outputs": [
    {
     "data": {
      "image/png": "[encoded data removed]",
      "text/plain": [
       "<Figure size 640x480 with 1 Axes>"
      ]
     },
     "metadata": {},
     "output_type": "display_data"
    }
   ],
   "source": [
    "def count_clases(df, column_name):\n",
    "    sns.set_theme(style=\"darkgrid\")\n",
    "    ax = sns.countplot(y=column_name, data=df)\n",
    "    sns.set(rc = {'figure.figsize':(25,8)})\n",
    "    #for item in ax.get_xticklabels():\n",
    "    #    item.set_rotation(90)\n",
    "\n",
    "count_clases(ingresos_raw,'Especie')"
   ]
  },
  {
   "cell_type": "code",
   "execution_count": 17,
   "id": "b2509794",
   "metadata": {},
   "outputs": [
    {
     "data": {
      "image/png": "[encoded data removed]",
      "text/plain": [
       "<Figure size 2500x800 with 1 Axes>"
      ]
     },
     "metadata": {},
     "output_type": "display_data"
    }
   ],
   "source": [
    "count_clases(ingresos_raw, 'Tipo Especie')"
   ]
  },
  {
   "cell_type": "code",
   "execution_count": 58,
   "id": "5886e9e4",
   "metadata": {},
   "outputs": [
    {
     "data": {
      "text/plain": [
       "['Declarar Existencias de Especies de Cultivo con Aut. Movimiento',\n",
       " 'Declarar Existencias de Especies de Cultivo por Importación o  Autoabastecimiento',\n",
       " 'Ingresos por diferencia',\n",
       " 'Otros',\n",
       " 'Centro de Cultivo',\n",
       " 'Área de Manejo',\n",
       " 'Comercializadora']"
      ]
     },
     "execution_count": 58,
     "metadata": {},
     "output_type": "execute_result"
    }
   ],
   "source": [
    "ingresos_raw['Origen'].unique().tolist()"
   ]
  },
  {
   "cell_type": "code",
   "execution_count": 18,
   "id": "b320cab5",
   "metadata": {},
   "outputs": [
    {
     "name": "stdout",
     "output_type": "stream",
     "text": [
      "En total existen 1211 lugares de ingresos y 935 lugares de origen \n"
     ]
    }
   ],
   "source": [
    "#len(ingresos_raw)\n",
    "q_centros_ingresos = len(ingresos_raw['Codigo Centro'].unique().tolist())\n",
    "q_centros_origen = len(ingresos_raw['Cod. Origen'].unique().tolist())\n",
    "print(f'En total existen {q_centros_ingresos} lugares de ingresos y {q_centros_origen} lugares de origen ' )"
   ]
  },
  {
   "cell_type": "code",
   "execution_count": 19,
   "id": "d5a5c310",
   "metadata": {},
   "outputs": [],
   "source": [
    "ingresos_moluscos = ingresos_raw[ingresos_raw['Tipo Especie'] == 'MOLUSCOS']"
   ]
  },
  {
   "cell_type": "code",
   "execution_count": 21,
   "id": "f766598e",
   "metadata": {},
   "outputs": [
    {
     "data": {
      "image/png": "[encoded data removed]",
      "text/plain": [
       "<Figure size 2500x800 with 1 Axes>"
      ]
     },
     "metadata": {},
     "output_type": "display_data"
    }
   ],
   "source": [
    "count_clases(ingresos_moluscos, 'Especie')"
   ]
  },
  {
   "cell_type": "code",
   "execution_count": 46,
   "id": "dbbe1754",
   "metadata": {},
   "outputs": [
    {
     "data": {
      "image/png": "[encoded data removed]",
      "text/plain": [
       "<Figure size 2500x800 with 1 Axes>"
      ]
     },
     "metadata": {},
     "output_type": "display_data"
    }
   ],
   "source": [
    "count_clases(ingresos_moluscos, 'Etapa')"
   ]
  }
 ],
 "metadata": {
  "kernelspec": {
   "display_name": "Python 3 (ipykernel)",
   "language": "python",
   "name": "python3"
  },
  "language_info": {
   "codemirror_mode": {
    "name": "ipython",
    "version": 3
   },
   "file_extension": ".py",
   "mimetype": "text/x-python",
   "name": "python",
   "nbconvert_exporter": "python",
   "pygments_lexer": "ipython3",
   "version": "3.8.13"
  },
  "vscode": {
   "interpreter": {
    "hash": "c27c728eb10a1be93e8222696e6e8d9f6f35a8d04ffe7fbebfed48cbbbf55747"
   }
  }
 },
 "nbformat": 4,
 "nbformat_minor": 5
}

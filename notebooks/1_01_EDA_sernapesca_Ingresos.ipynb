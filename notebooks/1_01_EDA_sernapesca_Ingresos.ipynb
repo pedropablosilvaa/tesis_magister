{
 "cells": [
  {
   "cell_type": "markdown",
   "id": "a60e1b16",
   "metadata": {},
   "source": [
    "# EDA para información entregada por Sernapesca"
   ]
  },
  {
   "cell_type": "markdown",
   "id": "4e74951c",
   "metadata": {},
   "source": [
    "#### Introducción\n",
    "Este Noteboopk corresponde al análisis exploratorio del archivo enviado por sernapesca llamado \"Ingresos 2021-2022.xlsx\", el cual es extraido desde su platadorma interna denominada Reporteador.\n",
    " \n",
    "Resumen:\n",
    "* Tiene una dimensión de (64054, 22)\n",
    "* Este archivo es una tabla con movimientos entre CCAAs, entrega información de los centros de cultivo de origen.\n",
    "* Es solo para la Región de Los Lagos.\n",
    "* Tiene una temporalidad mensual que va desde 2021-01-01 hasta el 2022-06-01 con datos para todos los meses.\n",
    "* Tiene varios tipos de especies."
   ]
  },
  {
   "cell_type": "markdown",
   "id": "96430312",
   "metadata": {},
   "source": [
    "### Import libreries"
   ]
  },
  {
   "cell_type": "code",
   "execution_count": 1,
   "id": "ae17ab06",
   "metadata": {},
   "outputs": [],
   "source": [
    "import logging\n",
    "import subprocess\n",
    "import os   \n",
    "import pandas as pd\n",
    "import seaborn as sns"
   ]
  },
  {
   "cell_type": "markdown",
   "id": "22c8d822",
   "metadata": {},
   "source": [
    "### Reading file \"Ingresos\""
   ]
  },
  {
   "cell_type": "code",
   "execution_count": 2,
   "id": "dacd2257",
   "metadata": {},
   "outputs": [
    {
     "name": "stdout",
     "output_type": "stream",
     "text": [
      "CPU times: user 19.2 s, sys: 80.1 ms, total: 19.2 s\n",
      "Wall time: 19.5 s\n"
     ]
    }
   ],
   "source": [
    "%%time\n",
    "ingresos_raw = pd.read_excel(\"../data/datos_sernapesca/Ingresos 2021-2022.xlsx\")"
   ]
  },
  {
   "cell_type": "code",
   "execution_count": 106,
   "id": "d3961d4c",
   "metadata": {},
   "outputs": [
    {
     "data": {
      "text/plain": [
       "(64054, 23)"
      ]
     },
     "execution_count": 106,
     "metadata": {},
     "output_type": "execute_result"
    }
   ],
   "source": [
    "ingresos_raw.shape"
   ]
  },
  {
   "cell_type": "code",
   "execution_count": 107,
   "id": "43b4281c",
   "metadata": {},
   "outputs": [
    {
     "data": {
      "text/html": [
       "<div>\n",
       "<style scoped>\n",
       "    .dataframe tbody tr th:only-of-type {\n",
       "        vertical-align: middle;\n",
       "    }\n",
       "\n",
       "    .dataframe tbody tr th {\n",
       "        vertical-align: top;\n",
       "    }\n",
       "\n",
       "    .dataframe thead th {\n",
       "        text-align: right;\n",
       "    }\n",
       "</style>\n",
       "<table border=\"1\" class=\"dataframe\">\n",
       "  <thead>\n",
       "    <tr style=\"text-align: right;\">\n",
       "      <th></th>\n",
       "      <th>ACS</th>\n",
       "      <th>Codigo Centro</th>\n",
       "      <th>Propietario</th>\n",
       "      <th>Nombre Sector</th>\n",
       "      <th>Tipo Cultivo</th>\n",
       "      <th>Tipo Agua</th>\n",
       "      <th>Año</th>\n",
       "      <th>Mes</th>\n",
       "      <th>Región</th>\n",
       "      <th>Provincia</th>\n",
       "      <th>...</th>\n",
       "      <th>Especie</th>\n",
       "      <th>Etapa</th>\n",
       "      <th>Unidades</th>\n",
       "      <th>Kilos</th>\n",
       "      <th>Origen</th>\n",
       "      <th>Cod. Origen</th>\n",
       "      <th>Nombre Origen</th>\n",
       "      <th>Tipo Especie</th>\n",
       "      <th>Sistema Ingreso</th>\n",
       "      <th>Fecha</th>\n",
       "    </tr>\n",
       "  </thead>\n",
       "  <tbody>\n",
       "    <tr>\n",
       "      <th>0</th>\n",
       "      <td>modif descanso 2</td>\n",
       "      <td>500014</td>\n",
       "      <td>RIO DULCE S.A.</td>\n",
       "      <td>SAN ANTONIO, SEIS SECTORES</td>\n",
       "      <td>ACOPIO FLOTANTE</td>\n",
       "      <td>Mar</td>\n",
       "      <td>2021</td>\n",
       "      <td>1</td>\n",
       "      <td>10</td>\n",
       "      <td>Chiloé</td>\n",
       "      <td>...</td>\n",
       "      <td>TRUCHA ARCOIRIS</td>\n",
       "      <td>ADULTOS</td>\n",
       "      <td>24146.0</td>\n",
       "      <td>82555.0</td>\n",
       "      <td>Declarar Existencias de Especies de Cultivo co...</td>\n",
       "      <td>120191.0</td>\n",
       "      <td>AUSTRALIS MAR S.A.</td>\n",
       "      <td>PECES</td>\n",
       "      <td>SIFA</td>\n",
       "      <td>2021-01-01</td>\n",
       "    </tr>\n",
       "    <tr>\n",
       "      <th>1</th>\n",
       "      <td>modif descanso 2</td>\n",
       "      <td>500014</td>\n",
       "      <td>RIO DULCE S.A.</td>\n",
       "      <td>SAN ANTONIO, SEIS SECTORES</td>\n",
       "      <td>ACOPIO FLOTANTE</td>\n",
       "      <td>Mar</td>\n",
       "      <td>2021</td>\n",
       "      <td>1</td>\n",
       "      <td>10</td>\n",
       "      <td>Chiloé</td>\n",
       "      <td>...</td>\n",
       "      <td>TRUCHA ARCOIRIS</td>\n",
       "      <td>ADULTOS</td>\n",
       "      <td>24172.0</td>\n",
       "      <td>82644.0</td>\n",
       "      <td>Declarar Existencias de Especies de Cultivo co...</td>\n",
       "      <td>120191.0</td>\n",
       "      <td>AUSTRALIS MAR S.A.</td>\n",
       "      <td>PECES</td>\n",
       "      <td>SIFA</td>\n",
       "      <td>2021-01-01</td>\n",
       "    </tr>\n",
       "    <tr>\n",
       "      <th>2</th>\n",
       "      <td>modif descanso 2</td>\n",
       "      <td>500014</td>\n",
       "      <td>RIO DULCE S.A.</td>\n",
       "      <td>SAN ANTONIO, SEIS SECTORES</td>\n",
       "      <td>ACOPIO FLOTANTE</td>\n",
       "      <td>Mar</td>\n",
       "      <td>2021</td>\n",
       "      <td>1</td>\n",
       "      <td>10</td>\n",
       "      <td>Chiloé</td>\n",
       "      <td>...</td>\n",
       "      <td>SALMON DEL ATLANTICO</td>\n",
       "      <td>ADULTOS</td>\n",
       "      <td>13002.0</td>\n",
       "      <td>87113.0</td>\n",
       "      <td>Declarar Existencias de Especies de Cultivo co...</td>\n",
       "      <td>110340.0</td>\n",
       "      <td>COOKE AQUACULTURE CHILE S.A.</td>\n",
       "      <td>PECES</td>\n",
       "      <td>SIFA</td>\n",
       "      <td>2021-01-01</td>\n",
       "    </tr>\n",
       "    <tr>\n",
       "      <th>3</th>\n",
       "      <td>ACS 7</td>\n",
       "      <td>500035</td>\n",
       "      <td>MAINSTREAM CHILE S.A.</td>\n",
       "      <td>PUERTO FERNANDEZ, QUEMCHI</td>\n",
       "      <td>ACOPIO FLOTANTE</td>\n",
       "      <td>Mar</td>\n",
       "      <td>2021</td>\n",
       "      <td>1</td>\n",
       "      <td>10</td>\n",
       "      <td>Chiloé</td>\n",
       "      <td>...</td>\n",
       "      <td>SALMON DEL ATLANTICO</td>\n",
       "      <td>ADULTOS</td>\n",
       "      <td>36908.0</td>\n",
       "      <td>235.0</td>\n",
       "      <td>Declarar Existencias de Especies de Cultivo co...</td>\n",
       "      <td>110758.0</td>\n",
       "      <td>CERMAQ CHILE S.A.</td>\n",
       "      <td>PECES</td>\n",
       "      <td>SIFA</td>\n",
       "      <td>2021-01-01</td>\n",
       "    </tr>\n",
       "    <tr>\n",
       "      <th>4</th>\n",
       "      <td>ACS 10 B</td>\n",
       "      <td>500019</td>\n",
       "      <td>ANTARFOOD S.A.</td>\n",
       "      <td>CANAL YAL</td>\n",
       "      <td>ACOPIO FLOTANTE</td>\n",
       "      <td>Mar</td>\n",
       "      <td>2021</td>\n",
       "      <td>1</td>\n",
       "      <td>10</td>\n",
       "      <td>Chiloé</td>\n",
       "      <td>...</td>\n",
       "      <td>SALMON PLATEADO O COHO</td>\n",
       "      <td>ADULTOS</td>\n",
       "      <td>9084.0</td>\n",
       "      <td>35.0</td>\n",
       "      <td>Declarar Existencias de Especies de Cultivo co...</td>\n",
       "      <td>110591.0</td>\n",
       "      <td>EXPORTADORA LOS FIORDOS LTDA.</td>\n",
       "      <td>PECES</td>\n",
       "      <td>SIFA</td>\n",
       "      <td>2021-01-01</td>\n",
       "    </tr>\n",
       "  </tbody>\n",
       "</table>\n",
       "<p>5 rows × 23 columns</p>\n",
       "</div>"
      ],
      "text/plain": [
       "                ACS  Codigo Centro            Propietario  \\\n",
       "0  modif descanso 2         500014         RIO DULCE S.A.   \n",
       "1  modif descanso 2         500014         RIO DULCE S.A.   \n",
       "2  modif descanso 2         500014         RIO DULCE S.A.   \n",
       "3             ACS 7         500035  MAINSTREAM CHILE S.A.   \n",
       "4          ACS 10 B         500019         ANTARFOOD S.A.   \n",
       "\n",
       "                Nombre Sector     Tipo Cultivo Tipo Agua   Año  Mes  Región  \\\n",
       "0  SAN ANTONIO, SEIS SECTORES  ACOPIO FLOTANTE       Mar  2021    1      10   \n",
       "1  SAN ANTONIO, SEIS SECTORES  ACOPIO FLOTANTE       Mar  2021    1      10   \n",
       "2  SAN ANTONIO, SEIS SECTORES  ACOPIO FLOTANTE       Mar  2021    1      10   \n",
       "3   PUERTO FERNANDEZ, QUEMCHI  ACOPIO FLOTANTE       Mar  2021    1      10   \n",
       "4                   CANAL YAL  ACOPIO FLOTANTE       Mar  2021    1      10   \n",
       "\n",
       "  Provincia  ...                 Especie    Etapa  Unidades    Kilos  \\\n",
       "0    Chiloé  ...         TRUCHA ARCOIRIS  ADULTOS   24146.0  82555.0   \n",
       "1    Chiloé  ...         TRUCHA ARCOIRIS  ADULTOS   24172.0  82644.0   \n",
       "2    Chiloé  ...    SALMON DEL ATLANTICO  ADULTOS   13002.0  87113.0   \n",
       "3    Chiloé  ...    SALMON DEL ATLANTICO  ADULTOS   36908.0    235.0   \n",
       "4    Chiloé  ...  SALMON PLATEADO O COHO  ADULTOS    9084.0     35.0   \n",
       "\n",
       "                                              Origen  Cod. Origen  \\\n",
       "0  Declarar Existencias de Especies de Cultivo co...     120191.0   \n",
       "1  Declarar Existencias de Especies de Cultivo co...     120191.0   \n",
       "2  Declarar Existencias de Especies de Cultivo co...     110340.0   \n",
       "3  Declarar Existencias de Especies de Cultivo co...     110758.0   \n",
       "4  Declarar Existencias de Especies de Cultivo co...     110591.0   \n",
       "\n",
       "                   Nombre Origen Tipo Especie  Sistema Ingreso      Fecha  \n",
       "0             AUSTRALIS MAR S.A.        PECES             SIFA 2021-01-01  \n",
       "1             AUSTRALIS MAR S.A.        PECES             SIFA 2021-01-01  \n",
       "2   COOKE AQUACULTURE CHILE S.A.        PECES             SIFA 2021-01-01  \n",
       "3              CERMAQ CHILE S.A.        PECES             SIFA 2021-01-01  \n",
       "4  EXPORTADORA LOS FIORDOS LTDA.        PECES             SIFA 2021-01-01  \n",
       "\n",
       "[5 rows x 23 columns]"
      ]
     },
     "execution_count": 107,
     "metadata": {},
     "output_type": "execute_result"
    }
   ],
   "source": [
    "ingresos_raw.head()"
   ]
  },
  {
   "cell_type": "code",
   "execution_count": 108,
   "id": "a94c684c",
   "metadata": {},
   "outputs": [
    {
     "data": {
      "text/plain": [
       "['ACS',\n",
       " 'Codigo Centro',\n",
       " 'Propietario',\n",
       " 'Nombre Sector',\n",
       " 'Tipo Cultivo',\n",
       " 'Tipo Agua',\n",
       " 'Año',\n",
       " 'Mes',\n",
       " 'Región',\n",
       " 'Provincia',\n",
       " 'Comuna',\n",
       " 'N° Declaración',\n",
       " 'Cod. Especie',\n",
       " 'Especie',\n",
       " 'Etapa',\n",
       " 'Unidades',\n",
       " 'Kilos',\n",
       " 'Origen',\n",
       " 'Cod. Origen',\n",
       " 'Nombre Origen',\n",
       " 'Tipo Especie',\n",
       " 'Sistema Ingreso',\n",
       " 'Fecha']"
      ]
     },
     "execution_count": 108,
     "metadata": {},
     "output_type": "execute_result"
    }
   ],
   "source": [
    "ingresos_raw.columns.to_list()"
   ]
  },
  {
   "cell_type": "code",
   "execution_count": 109,
   "id": "1bea8212",
   "metadata": {},
   "outputs": [
    {
     "data": {
      "text/plain": [
       "<bound method DataFrame.info of                     ACS  Codigo Centro  \\\n",
       "0      modif descanso 2         500014   \n",
       "1      modif descanso 2         500014   \n",
       "2      modif descanso 2         500014   \n",
       "3                 ACS 7         500035   \n",
       "4              ACS 10 B         500019   \n",
       "...                 ...            ...   \n",
       "64049               NaN         104092   \n",
       "64050               NaN         104224   \n",
       "64051               NaN         104224   \n",
       "64052               NaN         103610   \n",
       "64053               NaN         104061   \n",
       "\n",
       "                                     Propietario  \\\n",
       "0                                 RIO DULCE S.A.   \n",
       "1                                 RIO DULCE S.A.   \n",
       "2                                 RIO DULCE S.A.   \n",
       "3                          MAINSTREAM CHILE S.A.   \n",
       "4                                 ANTARFOOD S.A.   \n",
       "...                                          ...   \n",
       "64049                  INVERSIONES COIHUIN LTDA.   \n",
       "64050  CENTRO INNNOVACION AQUAINNOVO-BIOMAR S.A.   \n",
       "64051  CENTRO INNNOVACION AQUAINNOVO-BIOMAR S.A.   \n",
       "64052                  SOCIEDAD ACUI CHOLMAR SPA   \n",
       "64053              ALVARADO MUÑOZ GERARDO ANDRES   \n",
       "\n",
       "                                 Nombre Sector     Tipo Cultivo Tipo Agua  \\\n",
       "0                   SAN ANTONIO, SEIS SECTORES  ACOPIO FLOTANTE       Mar   \n",
       "1                   SAN ANTONIO, SEIS SECTORES  ACOPIO FLOTANTE       Mar   \n",
       "2                   SAN ANTONIO, SEIS SECTORES  ACOPIO FLOTANTE       Mar   \n",
       "3                    PUERTO FERNANDEZ, QUEMCHI  ACOPIO FLOTANTE       Mar   \n",
       "4                                    CANAL YAL  ACOPIO FLOTANTE       Mar   \n",
       "...                                        ...              ...       ...   \n",
       "64049          ESTE PUNTA CAPACHO, BAHIA ILQUE          CERRADO       Mar   \n",
       "64050                                    LENCA    INVESTIGACION       Mar   \n",
       "64051                                    LENCA    INVESTIGACION       Mar   \n",
       "64052      CANAL LLANCAHUE, SURESTE ISLA MUTRI          CERRADO       Mar   \n",
       "64053  NORTE SECTOR LA ARENA, CANAL HORNOPIREN          CERRADO       Mar   \n",
       "\n",
       "        Año  Mes  Región   Provincia  ...                 Especie     Etapa  \\\n",
       "0      2021    1      10      Chiloé  ...         TRUCHA ARCOIRIS   ADULTOS   \n",
       "1      2021    1      10      Chiloé  ...         TRUCHA ARCOIRIS   ADULTOS   \n",
       "2      2021    1      10      Chiloé  ...    SALMON DEL ATLANTICO   ADULTOS   \n",
       "3      2021    1      10      Chiloé  ...    SALMON DEL ATLANTICO   ADULTOS   \n",
       "4      2021    1      10      Chiloé  ...  SALMON PLATEADO O COHO   ADULTOS   \n",
       "...     ...  ...     ...         ...  ...                     ...       ...   \n",
       "64049  2022    6      10  Llanquihue  ...                 CHORITO  SEMILLAS   \n",
       "64050  2022    6      10  Llanquihue  ...    SALMON DEL ATLANTICO  ALEVINES   \n",
       "64051  2022    6      10  Llanquihue  ...    SALMON DEL ATLANTICO  ALEVINES   \n",
       "64052  2022    6      10      Palena  ...                 CHORITO  SEMILLAS   \n",
       "64053  2022    6      10      Palena  ...                 CHORITO  SEMILLAS   \n",
       "\n",
       "       Unidades    Kilos                                             Origen  \\\n",
       "0       24146.0  82555.0  Declarar Existencias de Especies de Cultivo co...   \n",
       "1       24172.0  82644.0  Declarar Existencias de Especies de Cultivo co...   \n",
       "2       13002.0  87113.0  Declarar Existencias de Especies de Cultivo co...   \n",
       "3       36908.0    235.0  Declarar Existencias de Especies de Cultivo co...   \n",
       "4        9084.0     35.0  Declarar Existencias de Especies de Cultivo co...   \n",
       "...         ...      ...                                                ...   \n",
       "64049       NaN  17604.0                                     Área de Manejo   \n",
       "64050    1300.0    130.0                                  Centro de Cultivo   \n",
       "64051    1400.0     91.0                                  Centro de Cultivo   \n",
       "64052       NaN  96000.0                                              Otros   \n",
       "64053       NaN  20000.0                                   Comercializadora   \n",
       "\n",
       "       Cod. Origen                  Nombre Origen Tipo Especie  \\\n",
       "0         120191.0             AUSTRALIS MAR S.A.        PECES   \n",
       "1         120191.0             AUSTRALIS MAR S.A.        PECES   \n",
       "2         110340.0   COOKE AQUACULTURE CHILE S.A.        PECES   \n",
       "3         110758.0              CERMAQ CHILE S.A.        PECES   \n",
       "4         110591.0  EXPORTADORA LOS FIORDOS LTDA.        PECES   \n",
       "...            ...                            ...          ...   \n",
       "64049      10207.0     Weste Isla Pelada Sector A     MOLUSCOS   \n",
       "64050     101937.0      PISCICULTURA CODINHUE SPA        PECES   \n",
       "64051     101937.0      PISCICULTURA CODINHUE SPA        PECES   \n",
       "64052          1.0              CAPTACION NATURAL     MOLUSCOS   \n",
       "64053       6111.0        ACUICOLA HORNOPIREN SpA     MOLUSCOS   \n",
       "\n",
       "       Sistema Ingreso      Fecha  \n",
       "0                 SIFA 2021-01-01  \n",
       "1                 SIFA 2021-01-01  \n",
       "2                 SIFA 2021-01-01  \n",
       "3                 SIFA 2021-01-01  \n",
       "4                 SIFA 2021-01-01  \n",
       "...                ...        ...  \n",
       "64049              COA 2022-06-01  \n",
       "64050              COA 2022-06-01  \n",
       "64051              COA 2022-06-01  \n",
       "64052              COA 2022-06-01  \n",
       "64053              COA 2022-06-01  \n",
       "\n",
       "[64054 rows x 23 columns]>"
      ]
     },
     "execution_count": 109,
     "metadata": {},
     "output_type": "execute_result"
    }
   ],
   "source": [
    "ingresos_raw.info"
   ]
  },
  {
   "cell_type": "code",
   "execution_count": 110,
   "id": "b9d2996b",
   "metadata": {},
   "outputs": [
    {
     "data": {
      "text/html": [
       "<div>\n",
       "<style scoped>\n",
       "    .dataframe tbody tr th:only-of-type {\n",
       "        vertical-align: middle;\n",
       "    }\n",
       "\n",
       "    .dataframe tbody tr th {\n",
       "        vertical-align: top;\n",
       "    }\n",
       "\n",
       "    .dataframe thead th {\n",
       "        text-align: right;\n",
       "    }\n",
       "</style>\n",
       "<table border=\"1\" class=\"dataframe\">\n",
       "  <thead>\n",
       "    <tr style=\"text-align: right;\">\n",
       "      <th></th>\n",
       "      <th>Codigo Centro</th>\n",
       "      <th>Año</th>\n",
       "      <th>Mes</th>\n",
       "      <th>Región</th>\n",
       "      <th>N° Declaración</th>\n",
       "      <th>Cod. Especie</th>\n",
       "      <th>Unidades</th>\n",
       "      <th>Kilos</th>\n",
       "      <th>Cod. Origen</th>\n",
       "    </tr>\n",
       "  </thead>\n",
       "  <tbody>\n",
       "    <tr>\n",
       "      <th>count</th>\n",
       "      <td>64054.000000</td>\n",
       "      <td>64054.000000</td>\n",
       "      <td>64054.000000</td>\n",
       "      <td>64054.0</td>\n",
       "      <td>6.405400e+04</td>\n",
       "      <td>64054.000000</td>\n",
       "      <td>5.619500e+04</td>\n",
       "      <td>6.405400e+04</td>\n",
       "      <td>63083.000000</td>\n",
       "    </tr>\n",
       "    <tr>\n",
       "      <th>mean</th>\n",
       "      <td>206234.684423</td>\n",
       "      <td>2021.288631</td>\n",
       "      <td>5.426952</td>\n",
       "      <td>10.0</td>\n",
       "      <td>1.272773e+06</td>\n",
       "      <td>313.515300</td>\n",
       "      <td>3.484208e+04</td>\n",
       "      <td>2.398674e+04</td>\n",
       "      <td>94518.350824</td>\n",
       "    </tr>\n",
       "    <tr>\n",
       "      <th>std</th>\n",
       "      <td>174736.900218</td>\n",
       "      <td>0.453130</td>\n",
       "      <td>3.164148</td>\n",
       "      <td>0.0</td>\n",
       "      <td>1.593380e+05</td>\n",
       "      <td>53.348789</td>\n",
       "      <td>2.980422e+05</td>\n",
       "      <td>2.514386e+06</td>\n",
       "      <td>30047.561236</td>\n",
       "    </tr>\n",
       "    <tr>\n",
       "      <th>min</th>\n",
       "      <td>100009.000000</td>\n",
       "      <td>2021.000000</td>\n",
       "      <td>1.000000</td>\n",
       "      <td>10.0</td>\n",
       "      <td>1.606180e+05</td>\n",
       "      <td>122.000000</td>\n",
       "      <td>0.000000e+00</td>\n",
       "      <td>0.000000e+00</td>\n",
       "      <td>1.000000</td>\n",
       "    </tr>\n",
       "    <tr>\n",
       "      <th>25%</th>\n",
       "      <td>101851.000000</td>\n",
       "      <td>2021.000000</td>\n",
       "      <td>3.000000</td>\n",
       "      <td>10.0</td>\n",
       "      <td>1.265793e+06</td>\n",
       "      <td>301.000000</td>\n",
       "      <td>4.010000e+03</td>\n",
       "      <td>6.220000e+02</td>\n",
       "      <td>100205.000000</td>\n",
       "    </tr>\n",
       "    <tr>\n",
       "      <th>50%</th>\n",
       "      <td>103452.000000</td>\n",
       "      <td>2021.000000</td>\n",
       "      <td>5.000000</td>\n",
       "      <td>10.0</td>\n",
       "      <td>1.307780e+06</td>\n",
       "      <td>302.000000</td>\n",
       "      <td>8.881000e+03</td>\n",
       "      <td>1.301000e+03</td>\n",
       "      <td>101866.000000</td>\n",
       "    </tr>\n",
       "    <tr>\n",
       "      <th>75%</th>\n",
       "      <td>500014.000000</td>\n",
       "      <td>2022.000000</td>\n",
       "      <td>8.000000</td>\n",
       "      <td>10.0</td>\n",
       "      <td>1.366037e+06</td>\n",
       "      <td>302.000000</td>\n",
       "      <td>1.680000e+04</td>\n",
       "      <td>9.750000e+03</td>\n",
       "      <td>103941.000000</td>\n",
       "    </tr>\n",
       "    <tr>\n",
       "      <th>max</th>\n",
       "      <td>810276.000000</td>\n",
       "      <td>2022.000000</td>\n",
       "      <td>12.000000</td>\n",
       "      <td>10.0</td>\n",
       "      <td>1.423360e+06</td>\n",
       "      <td>495.000000</td>\n",
       "      <td>4.000000e+07</td>\n",
       "      <td>6.362615e+08</td>\n",
       "      <td>810248.000000</td>\n",
       "    </tr>\n",
       "  </tbody>\n",
       "</table>\n",
       "</div>"
      ],
      "text/plain": [
       "       Codigo Centro           Año           Mes   Región  N° Declaración  \\\n",
       "count   64054.000000  64054.000000  64054.000000  64054.0    6.405400e+04   \n",
       "mean   206234.684423   2021.288631      5.426952     10.0    1.272773e+06   \n",
       "std    174736.900218      0.453130      3.164148      0.0    1.593380e+05   \n",
       "min    100009.000000   2021.000000      1.000000     10.0    1.606180e+05   \n",
       "25%    101851.000000   2021.000000      3.000000     10.0    1.265793e+06   \n",
       "50%    103452.000000   2021.000000      5.000000     10.0    1.307780e+06   \n",
       "75%    500014.000000   2022.000000      8.000000     10.0    1.366037e+06   \n",
       "max    810276.000000   2022.000000     12.000000     10.0    1.423360e+06   \n",
       "\n",
       "       Cod. Especie      Unidades         Kilos    Cod. Origen  \n",
       "count  64054.000000  5.619500e+04  6.405400e+04   63083.000000  \n",
       "mean     313.515300  3.484208e+04  2.398674e+04   94518.350824  \n",
       "std       53.348789  2.980422e+05  2.514386e+06   30047.561236  \n",
       "min      122.000000  0.000000e+00  0.000000e+00       1.000000  \n",
       "25%      301.000000  4.010000e+03  6.220000e+02  100205.000000  \n",
       "50%      302.000000  8.881000e+03  1.301000e+03  101866.000000  \n",
       "75%      302.000000  1.680000e+04  9.750000e+03  103941.000000  \n",
       "max      495.000000  4.000000e+07  6.362615e+08  810248.000000  "
      ]
     },
     "execution_count": 110,
     "metadata": {},
     "output_type": "execute_result"
    }
   ],
   "source": [
    "ingresos_raw.describe()"
   ]
  },
  {
   "cell_type": "code",
   "execution_count": 111,
   "id": "67da7e7e",
   "metadata": {},
   "outputs": [
    {
     "data": {
      "text/plain": [
       "3034"
      ]
     },
     "execution_count": 111,
     "metadata": {},
     "output_type": "execute_result"
    }
   ],
   "source": [
    "ingresos_raw.duplicated().sum()"
   ]
  },
  {
   "cell_type": "code",
   "execution_count": 112,
   "id": "69876068",
   "metadata": {},
   "outputs": [
    {
     "data": {
      "text/plain": [
       "ACS                22195\n",
       "Codigo Centro          0\n",
       "Propietario            0\n",
       "Nombre Sector         13\n",
       "Tipo Cultivo           0\n",
       "Tipo Agua              0\n",
       "Año                    0\n",
       "Mes                    0\n",
       "Región                 0\n",
       "Provincia              0\n",
       "Comuna                 0\n",
       "N° Declaración         0\n",
       "Cod. Especie           0\n",
       "Especie                0\n",
       "Etapa                  0\n",
       "Unidades            7859\n",
       "Kilos                  0\n",
       "Origen                 0\n",
       "Cod. Origen          971\n",
       "Nombre Origen        971\n",
       "Tipo Especie           0\n",
       "Sistema Ingreso        0\n",
       "Fecha                  0\n",
       "dtype: int64"
      ]
     },
     "execution_count": 112,
     "metadata": {},
     "output_type": "execute_result"
    }
   ],
   "source": [
    "ingresos_raw.isnull().sum()"
   ]
  },
  {
   "cell_type": "code",
   "execution_count": 113,
   "id": "bd26b2f3",
   "metadata": {},
   "outputs": [
    {
     "data": {
      "text/plain": [
       "ACS                        object\n",
       "Codigo Centro               int64\n",
       "Propietario                object\n",
       "Nombre Sector              object\n",
       "Tipo Cultivo               object\n",
       "Tipo Agua                  object\n",
       "Año                         int64\n",
       "Mes                         int64\n",
       "Región                      int64\n",
       "Provincia                  object\n",
       "Comuna                     object\n",
       "N° Declaración              int64\n",
       "Cod. Especie                int64\n",
       "Especie                    object\n",
       "Etapa                      object\n",
       "Unidades                  float64\n",
       "Kilos                     float64\n",
       "Origen                     object\n",
       "Cod. Origen               float64\n",
       "Nombre Origen              object\n",
       "Tipo Especie               object\n",
       "Sistema Ingreso            object\n",
       "Fecha              datetime64[ns]\n",
       "dtype: object"
      ]
     },
     "execution_count": 113,
     "metadata": {},
     "output_type": "execute_result"
    }
   ],
   "source": [
    "ingresos_raw.dtypes"
   ]
  },
  {
   "cell_type": "code",
   "execution_count": 114,
   "id": "062fa6ae",
   "metadata": {},
   "outputs": [
    {
     "data": {
      "text/plain": [
       "['ACS',\n",
       " 'Codigo Centro',\n",
       " 'Propietario',\n",
       " 'Nombre Sector',\n",
       " 'Tipo Cultivo',\n",
       " 'Tipo Agua',\n",
       " 'Año',\n",
       " 'Mes',\n",
       " 'Región',\n",
       " 'Provincia',\n",
       " 'Comuna',\n",
       " 'N° Declaración',\n",
       " 'Cod. Especie',\n",
       " 'Especie',\n",
       " 'Etapa',\n",
       " 'Unidades',\n",
       " 'Kilos',\n",
       " 'Origen',\n",
       " 'Cod. Origen',\n",
       " 'Nombre Origen',\n",
       " 'Tipo Especie',\n",
       " 'Sistema Ingreso',\n",
       " 'Fecha']"
      ]
     },
     "execution_count": 114,
     "metadata": {},
     "output_type": "execute_result"
    }
   ],
   "source": [
    "ingresos_raw.columns.to_list()"
   ]
  },
  {
   "cell_type": "code",
   "execution_count": 115,
   "id": "ed3a1ab8",
   "metadata": {},
   "outputs": [
    {
     "data": {
      "text/plain": [
       "['2021-01-01',\n",
       " '2021-02-01',\n",
       " '2021-03-01',\n",
       " '2021-04-01',\n",
       " '2021-05-01',\n",
       " '2021-06-01',\n",
       " '2021-07-01',\n",
       " '2021-08-01',\n",
       " '2021-09-01',\n",
       " '2021-10-01',\n",
       " '2021-11-01',\n",
       " '2021-12-01',\n",
       " '2022-01-01',\n",
       " '2022-02-01',\n",
       " '2022-03-01',\n",
       " '2022-04-01',\n",
       " '2022-05-01',\n",
       " '2022-06-01']"
      ]
     },
     "execution_count": 115,
     "metadata": {},
     "output_type": "execute_result"
    }
   ],
   "source": [
    "ingresos_raw['Fecha'] = pd.to_datetime(ingresos_raw['Año'].astype(str) +'/'+ ingresos_raw['Mes'].astype(str), format=\"%Y/%m\")\n",
    "#ingresos_raw['Fecha'].unique().tolist()\n",
    "ingresos_raw['Fecha'].astype(str).unique().tolist()"
   ]
  },
  {
   "cell_type": "code",
   "execution_count": 116,
   "id": "259adce8",
   "metadata": {},
   "outputs": [
    {
     "data": {
      "text/plain": [
       "[10]"
      ]
     },
     "execution_count": 116,
     "metadata": {},
     "output_type": "execute_result"
    }
   ],
   "source": [
    "#ingresos_raw['Especie'].unique().tolist()\n",
    "ingresos_raw['Región'].unique().tolist()"
   ]
  },
  {
   "cell_type": "code",
   "execution_count": 117,
   "id": "30f5bf3b",
   "metadata": {},
   "outputs": [
    {
     "data": {
      "image/png": "[encoded data removed]",
      "text/plain": [
       "<Figure size 2500x800 with 1 Axes>"
      ]
     },
     "metadata": {},
     "output_type": "display_data"
    }
   ],
   "source": [
    "def count_clases(df, column_name):\n",
    "    sns.set_theme(style=\"darkgrid\")\n",
    "    ax = sns.countplot(y=column_name, data=df)\n",
    "    sns.set(rc = {'figure.figsize':(25,8)})\n",
    "    #for item in ax.get_xticklabels():\n",
    "    #    item.set_rotation(90)\n",
    "\n",
    "count_clases(ingresos_raw,'Especie')"
   ]
  },
  {
   "cell_type": "code",
   "execution_count": 118,
   "id": "b2509794",
   "metadata": {},
   "outputs": [
    {
     "data": {
      "image/png": "[encoded data removed]",
      "text/plain": [
       "<Figure size 2500x800 with 1 Axes>"
      ]
     },
     "metadata": {},
     "output_type": "display_data"
    }
   ],
   "source": [
    "count_clases(ingresos_raw, 'Tipo Especie')"
   ]
  },
  {
   "cell_type": "code",
   "execution_count": 119,
   "id": "5886e9e4",
   "metadata": {},
   "outputs": [
    {
     "data": {
      "text/plain": [
       "['Declarar Existencias de Especies de Cultivo con Aut. Movimiento',\n",
       " 'Declarar Existencias de Especies de Cultivo por Importación o  Autoabastecimiento',\n",
       " 'Ingresos por diferencia',\n",
       " 'Otros',\n",
       " 'Centro de Cultivo',\n",
       " 'Área de Manejo',\n",
       " 'Comercializadora']"
      ]
     },
     "execution_count": 119,
     "metadata": {},
     "output_type": "execute_result"
    }
   ],
   "source": [
    "ingresos_raw['Origen'].unique().tolist()"
   ]
  },
  {
   "cell_type": "code",
   "execution_count": 120,
   "id": "b320cab5",
   "metadata": {},
   "outputs": [
    {
     "name": "stdout",
     "output_type": "stream",
     "text": [
      "En total existen 1211 lugares de ingresos y 935 lugares de origen \n"
     ]
    }
   ],
   "source": [
    "#len(ingresos_raw)\n",
    "q_centros_ingresos = len(ingresos_raw['Codigo Centro'].unique().tolist())\n",
    "q_centros_origen = len(ingresos_raw['Cod. Origen'].unique().tolist())\n",
    "print(f'En total existen {q_centros_ingresos} lugares de ingresos y {q_centros_origen} lugares de origen ' )"
   ]
  },
  {
   "cell_type": "markdown",
   "id": "75080ca5",
   "metadata": {},
   "source": [
    "### Filters"
   ]
  },
  {
   "cell_type": "code",
   "execution_count": 121,
   "id": "d5a5c310",
   "metadata": {},
   "outputs": [
    {
     "data": {
      "text/plain": [
       "(7998, 23)"
      ]
     },
     "execution_count": 121,
     "metadata": {},
     "output_type": "execute_result"
    }
   ],
   "source": [
    "ingresos_moluscos = ingresos_raw[ingresos_raw['Tipo Especie'] == 'MOLUSCOS']\n",
    "ingresos_moluscos.shape"
   ]
  },
  {
   "cell_type": "code",
   "execution_count": 100,
   "id": "f766598e",
   "metadata": {},
   "outputs": [
    {
     "data": {
      "image/png": "[encoded data removed]",
      "text/plain": [
       "<Figure size 2500x800 with 1 Axes>"
      ]
     },
     "metadata": {},
     "output_type": "display_data"
    }
   ],
   "source": [
    "count_clases(ingresos_moluscos, 'Especie')"
   ]
  },
  {
   "cell_type": "code",
   "execution_count": 101,
   "id": "dbbe1754",
   "metadata": {},
   "outputs": [
    {
     "data": {
      "image/png": "[encoded data removed]",
      "text/plain": [
       "<Figure size 2500x800 with 1 Axes>"
      ]
     },
     "metadata": {},
     "output_type": "display_data"
    }
   ],
   "source": [
    "count_clases(ingresos_moluscos, 'Etapa')"
   ]
  },
  {
   "cell_type": "markdown",
   "id": "57857212",
   "metadata": {},
   "source": [
    "### Droping columns"
   ]
  },
  {
   "cell_type": "code",
   "execution_count": 102,
   "id": "693d1005",
   "metadata": {},
   "outputs": [],
   "source": [
    "# columnmas a eliminar.\n",
    "to_drop = ['ACS',\n",
    "            'Región',\n",
    "            'N° Declaración',\n",
    "            'Tipo Especie',\n",
    "            'Sistema Ingreso']"
   ]
  },
  {
   "cell_type": "code",
   "execution_count": 103,
   "id": "200d903f",
   "metadata": {},
   "outputs": [],
   "source": [
    "# eliminando columnas que no sirven.\n",
    "ingresos_moluscos = ingresos_moluscos.drop(to_drop, axis=1)"
   ]
  },
  {
   "cell_type": "code",
   "execution_count": 104,
   "id": "b844a8b7",
   "metadata": {},
   "outputs": [
    {
     "data": {
      "text/html": [
       "<div>\n",
       "<style scoped>\n",
       "    .dataframe tbody tr th:only-of-type {\n",
       "        vertical-align: middle;\n",
       "    }\n",
       "\n",
       "    .dataframe tbody tr th {\n",
       "        vertical-align: top;\n",
       "    }\n",
       "\n",
       "    .dataframe thead th {\n",
       "        text-align: right;\n",
       "    }\n",
       "</style>\n",
       "<table border=\"1\" class=\"dataframe\">\n",
       "  <thead>\n",
       "    <tr style=\"text-align: right;\">\n",
       "      <th></th>\n",
       "      <th>Codigo Centro</th>\n",
       "      <th>Propietario</th>\n",
       "      <th>Nombre Sector</th>\n",
       "      <th>Tipo Cultivo</th>\n",
       "      <th>Tipo Agua</th>\n",
       "      <th>Año</th>\n",
       "      <th>Mes</th>\n",
       "      <th>Provincia</th>\n",
       "      <th>Comuna</th>\n",
       "      <th>Cod. Especie</th>\n",
       "      <th>Especie</th>\n",
       "      <th>Etapa</th>\n",
       "      <th>Unidades</th>\n",
       "      <th>Kilos</th>\n",
       "      <th>Origen</th>\n",
       "      <th>Cod. Origen</th>\n",
       "      <th>Nombre Origen</th>\n",
       "      <th>Fecha</th>\n",
       "    </tr>\n",
       "  </thead>\n",
       "  <tbody>\n",
       "    <tr>\n",
       "      <th>53983</th>\n",
       "      <td>101004</td>\n",
       "      <td>SOCIEDAD LA BOTICA LTDA.</td>\n",
       "      <td>ENSENADA NAGLE, ESTE DE PUNTA AUCAN</td>\n",
       "      <td>CERRADO</td>\n",
       "      <td>Mar</td>\n",
       "      <td>2021</td>\n",
       "      <td>1</td>\n",
       "      <td>Chiloé</td>\n",
       "      <td>Ancud</td>\n",
       "      <td>480</td>\n",
       "      <td>OSTRA CHILENA</td>\n",
       "      <td>SEMILLAS</td>\n",
       "      <td>132000.0</td>\n",
       "      <td>1100.0</td>\n",
       "      <td>Otros</td>\n",
       "      <td>1.0</td>\n",
       "      <td>CAPTACION NATURAL</td>\n",
       "      <td>2021-01-01</td>\n",
       "    </tr>\n",
       "    <tr>\n",
       "      <th>53984</th>\n",
       "      <td>101422</td>\n",
       "      <td>SANCHEZ MIRANDA, RUBEN SEGUNDO</td>\n",
       "      <td>LECAM, BAHIA LINAO</td>\n",
       "      <td>CERRADO</td>\n",
       "      <td>Mar</td>\n",
       "      <td>2021</td>\n",
       "      <td>1</td>\n",
       "      <td>Chiloé</td>\n",
       "      <td>Ancud</td>\n",
       "      <td>430</td>\n",
       "      <td>CHORITO</td>\n",
       "      <td>SEMILLAS</td>\n",
       "      <td>NaN</td>\n",
       "      <td>1932.0</td>\n",
       "      <td>Otros</td>\n",
       "      <td>6.0</td>\n",
       "      <td>PERMISO DE ESCASA IMPORTANCIA</td>\n",
       "      <td>2021-01-01</td>\n",
       "    </tr>\n",
       "    <tr>\n",
       "      <th>54005</th>\n",
       "      <td>102109</td>\n",
       "      <td>INVERSIONES COIHUIN LTDA.</td>\n",
       "      <td>BAHIA LINAO</td>\n",
       "      <td>CERRADO</td>\n",
       "      <td>Mar</td>\n",
       "      <td>2021</td>\n",
       "      <td>1</td>\n",
       "      <td>Chiloé</td>\n",
       "      <td>Ancud</td>\n",
       "      <td>430</td>\n",
       "      <td>CHORITO</td>\n",
       "      <td>SEMILLAS</td>\n",
       "      <td>NaN</td>\n",
       "      <td>3000.0</td>\n",
       "      <td>Centro de Cultivo</td>\n",
       "      <td>102810.0</td>\n",
       "      <td>BAEZ MALDONADO JUAN HOMERO</td>\n",
       "      <td>2021-01-01</td>\n",
       "    </tr>\n",
       "    <tr>\n",
       "      <th>54006</th>\n",
       "      <td>102109</td>\n",
       "      <td>INVERSIONES COIHUIN LTDA.</td>\n",
       "      <td>BAHIA LINAO</td>\n",
       "      <td>CERRADO</td>\n",
       "      <td>Mar</td>\n",
       "      <td>2021</td>\n",
       "      <td>1</td>\n",
       "      <td>Chiloé</td>\n",
       "      <td>Ancud</td>\n",
       "      <td>430</td>\n",
       "      <td>CHORITO</td>\n",
       "      <td>SEMILLAS</td>\n",
       "      <td>NaN</td>\n",
       "      <td>3000.0</td>\n",
       "      <td>Centro de Cultivo</td>\n",
       "      <td>102810.0</td>\n",
       "      <td>BAEZ MALDONADO JUAN HOMERO</td>\n",
       "      <td>2021-01-01</td>\n",
       "    </tr>\n",
       "    <tr>\n",
       "      <th>54007</th>\n",
       "      <td>102109</td>\n",
       "      <td>INVERSIONES COIHUIN LTDA.</td>\n",
       "      <td>BAHIA LINAO</td>\n",
       "      <td>CERRADO</td>\n",
       "      <td>Mar</td>\n",
       "      <td>2021</td>\n",
       "      <td>1</td>\n",
       "      <td>Chiloé</td>\n",
       "      <td>Ancud</td>\n",
       "      <td>430</td>\n",
       "      <td>CHORITO</td>\n",
       "      <td>SEMILLAS</td>\n",
       "      <td>NaN</td>\n",
       "      <td>4000.0</td>\n",
       "      <td>Centro de Cultivo</td>\n",
       "      <td>102810.0</td>\n",
       "      <td>BAEZ MALDONADO JUAN HOMERO</td>\n",
       "      <td>2021-01-01</td>\n",
       "    </tr>\n",
       "    <tr>\n",
       "      <th>...</th>\n",
       "      <td>...</td>\n",
       "      <td>...</td>\n",
       "      <td>...</td>\n",
       "      <td>...</td>\n",
       "      <td>...</td>\n",
       "      <td>...</td>\n",
       "      <td>...</td>\n",
       "      <td>...</td>\n",
       "      <td>...</td>\n",
       "      <td>...</td>\n",
       "      <td>...</td>\n",
       "      <td>...</td>\n",
       "      <td>...</td>\n",
       "      <td>...</td>\n",
       "      <td>...</td>\n",
       "      <td>...</td>\n",
       "      <td>...</td>\n",
       "      <td>...</td>\n",
       "    </tr>\n",
       "    <tr>\n",
       "      <th>64047</th>\n",
       "      <td>103763</td>\n",
       "      <td>INVERSIONES COIHUIN LTDA.</td>\n",
       "      <td>BAHIA HUELMO, ESTE PUNTA CONCHA BLANCA</td>\n",
       "      <td>CERRADO</td>\n",
       "      <td>Mar</td>\n",
       "      <td>2022</td>\n",
       "      <td>6</td>\n",
       "      <td>Llanquihue</td>\n",
       "      <td>Puerto Montt</td>\n",
       "      <td>430</td>\n",
       "      <td>CHORITO</td>\n",
       "      <td>SEMILLAS</td>\n",
       "      <td>NaN</td>\n",
       "      <td>25000.0</td>\n",
       "      <td>Centro de Cultivo</td>\n",
       "      <td>102358.0</td>\n",
       "      <td>INVERSIONES COIHUIN LTDA.</td>\n",
       "      <td>2022-06-01</td>\n",
       "    </tr>\n",
       "    <tr>\n",
       "      <th>64048</th>\n",
       "      <td>103763</td>\n",
       "      <td>INVERSIONES COIHUIN LTDA.</td>\n",
       "      <td>BAHIA HUELMO, ESTE PUNTA CONCHA BLANCA</td>\n",
       "      <td>CERRADO</td>\n",
       "      <td>Mar</td>\n",
       "      <td>2022</td>\n",
       "      <td>6</td>\n",
       "      <td>Llanquihue</td>\n",
       "      <td>Puerto Montt</td>\n",
       "      <td>430</td>\n",
       "      <td>CHORITO</td>\n",
       "      <td>SEMILLAS</td>\n",
       "      <td>NaN</td>\n",
       "      <td>20000.0</td>\n",
       "      <td>Área de Manejo</td>\n",
       "      <td>10208.0</td>\n",
       "      <td>Weste Isla Pelada Sector B</td>\n",
       "      <td>2022-06-01</td>\n",
       "    </tr>\n",
       "    <tr>\n",
       "      <th>64049</th>\n",
       "      <td>104092</td>\n",
       "      <td>INVERSIONES COIHUIN LTDA.</td>\n",
       "      <td>ESTE PUNTA CAPACHO, BAHIA ILQUE</td>\n",
       "      <td>CERRADO</td>\n",
       "      <td>Mar</td>\n",
       "      <td>2022</td>\n",
       "      <td>6</td>\n",
       "      <td>Llanquihue</td>\n",
       "      <td>Puerto Montt</td>\n",
       "      <td>430</td>\n",
       "      <td>CHORITO</td>\n",
       "      <td>SEMILLAS</td>\n",
       "      <td>NaN</td>\n",
       "      <td>17604.0</td>\n",
       "      <td>Área de Manejo</td>\n",
       "      <td>10207.0</td>\n",
       "      <td>Weste Isla Pelada Sector A</td>\n",
       "      <td>2022-06-01</td>\n",
       "    </tr>\n",
       "    <tr>\n",
       "      <th>64052</th>\n",
       "      <td>103610</td>\n",
       "      <td>SOCIEDAD ACUI CHOLMAR SPA</td>\n",
       "      <td>CANAL LLANCAHUE, SURESTE ISLA MUTRI</td>\n",
       "      <td>CERRADO</td>\n",
       "      <td>Mar</td>\n",
       "      <td>2022</td>\n",
       "      <td>6</td>\n",
       "      <td>Palena</td>\n",
       "      <td>Hualaihué</td>\n",
       "      <td>430</td>\n",
       "      <td>CHORITO</td>\n",
       "      <td>SEMILLAS</td>\n",
       "      <td>NaN</td>\n",
       "      <td>96000.0</td>\n",
       "      <td>Otros</td>\n",
       "      <td>1.0</td>\n",
       "      <td>CAPTACION NATURAL</td>\n",
       "      <td>2022-06-01</td>\n",
       "    </tr>\n",
       "    <tr>\n",
       "      <th>64053</th>\n",
       "      <td>104061</td>\n",
       "      <td>ALVARADO MUÑOZ GERARDO ANDRES</td>\n",
       "      <td>NORTE SECTOR LA ARENA, CANAL HORNOPIREN</td>\n",
       "      <td>CERRADO</td>\n",
       "      <td>Mar</td>\n",
       "      <td>2022</td>\n",
       "      <td>6</td>\n",
       "      <td>Palena</td>\n",
       "      <td>Hualaihué</td>\n",
       "      <td>430</td>\n",
       "      <td>CHORITO</td>\n",
       "      <td>SEMILLAS</td>\n",
       "      <td>NaN</td>\n",
       "      <td>20000.0</td>\n",
       "      <td>Comercializadora</td>\n",
       "      <td>6111.0</td>\n",
       "      <td>ACUICOLA HORNOPIREN SpA</td>\n",
       "      <td>2022-06-01</td>\n",
       "    </tr>\n",
       "  </tbody>\n",
       "</table>\n",
       "<p>7998 rows × 18 columns</p>\n",
       "</div>"
      ],
      "text/plain": [
       "       Codigo Centro                     Propietario  \\\n",
       "53983         101004        SOCIEDAD LA BOTICA LTDA.   \n",
       "53984         101422  SANCHEZ MIRANDA, RUBEN SEGUNDO   \n",
       "54005         102109       INVERSIONES COIHUIN LTDA.   \n",
       "54006         102109       INVERSIONES COIHUIN LTDA.   \n",
       "54007         102109       INVERSIONES COIHUIN LTDA.   \n",
       "...              ...                             ...   \n",
       "64047         103763       INVERSIONES COIHUIN LTDA.   \n",
       "64048         103763       INVERSIONES COIHUIN LTDA.   \n",
       "64049         104092       INVERSIONES COIHUIN LTDA.   \n",
       "64052         103610       SOCIEDAD ACUI CHOLMAR SPA   \n",
       "64053         104061   ALVARADO MUÑOZ GERARDO ANDRES   \n",
       "\n",
       "                                 Nombre Sector Tipo Cultivo Tipo Agua   Año  \\\n",
       "53983      ENSENADA NAGLE, ESTE DE PUNTA AUCAN      CERRADO       Mar  2021   \n",
       "53984                       LECAM, BAHIA LINAO      CERRADO       Mar  2021   \n",
       "54005                              BAHIA LINAO      CERRADO       Mar  2021   \n",
       "54006                              BAHIA LINAO      CERRADO       Mar  2021   \n",
       "54007                              BAHIA LINAO      CERRADO       Mar  2021   \n",
       "...                                        ...          ...       ...   ...   \n",
       "64047   BAHIA HUELMO, ESTE PUNTA CONCHA BLANCA      CERRADO       Mar  2022   \n",
       "64048   BAHIA HUELMO, ESTE PUNTA CONCHA BLANCA      CERRADO       Mar  2022   \n",
       "64049          ESTE PUNTA CAPACHO, BAHIA ILQUE      CERRADO       Mar  2022   \n",
       "64052      CANAL LLANCAHUE, SURESTE ISLA MUTRI      CERRADO       Mar  2022   \n",
       "64053  NORTE SECTOR LA ARENA, CANAL HORNOPIREN      CERRADO       Mar  2022   \n",
       "\n",
       "       Mes   Provincia        Comuna  Cod. Especie        Especie     Etapa  \\\n",
       "53983    1      Chiloé         Ancud           480  OSTRA CHILENA  SEMILLAS   \n",
       "53984    1      Chiloé         Ancud           430        CHORITO  SEMILLAS   \n",
       "54005    1      Chiloé         Ancud           430        CHORITO  SEMILLAS   \n",
       "54006    1      Chiloé         Ancud           430        CHORITO  SEMILLAS   \n",
       "54007    1      Chiloé         Ancud           430        CHORITO  SEMILLAS   \n",
       "...    ...         ...           ...           ...            ...       ...   \n",
       "64047    6  Llanquihue  Puerto Montt           430        CHORITO  SEMILLAS   \n",
       "64048    6  Llanquihue  Puerto Montt           430        CHORITO  SEMILLAS   \n",
       "64049    6  Llanquihue  Puerto Montt           430        CHORITO  SEMILLAS   \n",
       "64052    6      Palena     Hualaihué           430        CHORITO  SEMILLAS   \n",
       "64053    6      Palena     Hualaihué           430        CHORITO  SEMILLAS   \n",
       "\n",
       "       Unidades    Kilos             Origen  Cod. Origen  \\\n",
       "53983  132000.0   1100.0              Otros          1.0   \n",
       "53984       NaN   1932.0              Otros          6.0   \n",
       "54005       NaN   3000.0  Centro de Cultivo     102810.0   \n",
       "54006       NaN   3000.0  Centro de Cultivo     102810.0   \n",
       "54007       NaN   4000.0  Centro de Cultivo     102810.0   \n",
       "...         ...      ...                ...          ...   \n",
       "64047       NaN  25000.0  Centro de Cultivo     102358.0   \n",
       "64048       NaN  20000.0     Área de Manejo      10208.0   \n",
       "64049       NaN  17604.0     Área de Manejo      10207.0   \n",
       "64052       NaN  96000.0              Otros          1.0   \n",
       "64053       NaN  20000.0   Comercializadora       6111.0   \n",
       "\n",
       "                       Nombre Origen      Fecha  \n",
       "53983              CAPTACION NATURAL 2021-01-01  \n",
       "53984  PERMISO DE ESCASA IMPORTANCIA 2021-01-01  \n",
       "54005     BAEZ MALDONADO JUAN HOMERO 2021-01-01  \n",
       "54006     BAEZ MALDONADO JUAN HOMERO 2021-01-01  \n",
       "54007     BAEZ MALDONADO JUAN HOMERO 2021-01-01  \n",
       "...                              ...        ...  \n",
       "64047      INVERSIONES COIHUIN LTDA. 2022-06-01  \n",
       "64048     Weste Isla Pelada Sector B 2022-06-01  \n",
       "64049     Weste Isla Pelada Sector A 2022-06-01  \n",
       "64052              CAPTACION NATURAL 2022-06-01  \n",
       "64053        ACUICOLA HORNOPIREN SpA 2022-06-01  \n",
       "\n",
       "[7998 rows x 18 columns]"
      ]
     },
     "execution_count": 104,
     "metadata": {},
     "output_type": "execute_result"
    }
   ],
   "source": [
    "ingresos_moluscos"
   ]
  }
 ],
 "metadata": {
  "kernelspec": {
   "display_name": "Python 3.8.12 ('risk_assess')",
   "language": "python",
   "name": "python3"
  },
  "language_info": {
   "codemirror_mode": {
    "name": "ipython",
    "version": 3
   },
   "file_extension": ".py",
   "mimetype": "text/x-python",
   "name": "python",
   "nbconvert_exporter": "python",
   "pygments_lexer": "ipython3",
   "version": "3.8.12"
  },
  "vscode": {
   "interpreter": {
    "hash": "dfb29a92caac195ffe13cc7ed6e877665023cae98347040b90a1df7bef0a6cfd"
   }
  }
 },
 "nbformat": 4,
 "nbformat_minor": 5
}

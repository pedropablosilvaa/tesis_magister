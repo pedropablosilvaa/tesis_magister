{
 "cells": [
  {
   "cell_type": "code",
   "execution_count": 1,
   "id": "4d44dd69-d054-4bd7-a2a1-756d821a73ab",
   "metadata": {},
   "outputs": [],
   "source": [
    "import logging\n",
    "import subprocess\n",
    "import os\n",
    "\n",
    "def exec_shell_command(command):\n",
    "    \"\"\"\n",
    "    Execute shell command and return output as a string\n",
    "    :param command:  1D array of strings e.g. ['ls', '-l']\n",
    "    :return: output of command\n",
    "    \"\"\"\n",
    "    logging.info(command)\n",
    "    process = subprocess.run(command, stdout=subprocess.PIPE, universal_newlines=True)\n",
    "    return process.stdout, process.returncode\n",
    "\n",
    "def run_query(query, query_name=''):\n",
    "    print(\"Running query\", query_name)\n",
    "    output, _ = exec_shell_command([\n",
    "        'bq', 'query', \n",
    "        '--use_legacy_sql=false',\n",
    "        query\n",
    "    ])\n",
    "    print(output)\n",
    "    "
   ]
  },
  {
   "cell_type": "code",
   "execution_count": 8,
   "id": "407bbcbe-f16e-4148-ba6f-e45efc22ee76",
   "metadata": {},
   "outputs": [
    {
     "name": "stdout",
     "output_type": "stream",
     "text": [
      "Running query \n"
     ]
    },
    {
     "name": "stderr",
     "output_type": "stream",
     "text": [
      "Waiting on bqjob_r2c403aa06321e44a_00000182467bc70b_1 ... (8s) Current status: DONE   "
     ]
    },
    {
     "name": "stdout",
     "output_type": "stream",
     "text": [
      "CREATE OR REPLACE TABLE `kamal-parque-arauco.dashboard.arrival_distribution_20220101` AS\n",
      "\n",
      "\n",
      "-- tabla agrupada por dia, poi de visita, hora y visitas por hora\n",
      "with frequency_of_arrivals as (\n",
      "    SELECT \n",
      "        date_ymd, \n",
      "        poi_id, hour, \n",
      "        round(sum(fexp)) as visits_counter\n",
      "    FROM (\n",
      "        -- se extrae imsi, fexp el poi que visitas, fecha y hora\n",
      "        SELECT \n",
      "            permanency.imsi,\n",
      "            demography.fexp,\n",
      "            permanency.poi_id,\n",
      "            permanency.date_ymd,\n",
      "            EXTRACT(hour FROM permanency.arrival_date_time_hhmm) +0.5 as hour\n",
      "        FROM `kamal-parque-arauco.output_predict.permanency_production` as permanency\n",
      "        LEFT JOIN `kamal-parque-arauco.output_predict.demography_20220101` as demography\n",
      "        ON permanency.imsi=demography.imsi\n",
      "        where date_ymd between year_month_01 and end_year_month_01)\n",
      "    GROUP BY date_ymd, poi_id, hour\n",
      "),\n",
      "\n",
      "-- se agrupan ahora por fecha, osea total de visitas por fecha\n",
      "sum_imsis as (\n",
      "    select date_ymd, poi_id, sum(visits_counter) as total\n",
      "    from frequency_of_arrivals\n",
      "    group by date_ymd, poi_id\n",
      ")\n",
      "\n",
      "-- tabla con fecha, poi, hora y porcentaje de visitas horarias respecto al total diario\n",
      "select frequency_of_arrivals.date_ymd, frequency_of_arrivals.poi_id, hour, 100*visits_counter/total as porcentual_distribution\n",
      "from frequency_of_arrivals\n",
      "left join sum_imsis \n",
      "    on frequency_of_arrivals.date_ymd=sum_imsis.date_ymd\n",
      "    and frequency_of_arrivals.poi_id=sum_imsis.poi_id; -- at [11:1]\n",
      "Replaced kamal-parque-arauco.dashboard.arrival_distribution_20220101\n",
      "\n",
      "\n"
     ]
    },
    {
     "name": "stderr",
     "output_type": "stream",
     "text": [
      "\n"
     ]
    }
   ],
   "source": [
    "tables = [{'name': 'arrival_distribution', 'partitions': ['date']}]\n",
    "for table in tables:\n",
    "        # Run initial queries to partition by date\n",
    "        if table[\"partitions\"][0]==\"date\":\n",
    "            # Path of indicator_queries folder\n",
    "            #path_ = os.path.join(os.path.dirname(__file__), \n",
    "            #                    'bq_queries', \n",
    "            #                    'indicator_queries')\n",
    "            # File name of indicator query\n",
    "            #file = f'{table[\"name\"]}.sql'\n",
    "            # Open file\n",
    "            #query_file = open (os.path.join(path_, file), 'r')\n",
    "            # Get date and dateformat\n",
    "            #inputs_query = get_inputs(date)\n",
    "            # read query file adding inputs a.k.a. date and dateformat\n",
    "            #query = query_file.read().format(**inputs_query)\n",
    "            # Run query\n",
    "            run_query(query)\n",
    "            pass"
   ]
  },
  {
   "cell_type": "code",
   "execution_count": 4,
   "id": "e4b18e67-c592-4348-bfd1-76db11b6412e",
   "metadata": {},
   "outputs": [],
   "source": [
    "table = {'name': 'monthly_visits_enrich', 'partitions': ['year']}"
   ]
  },
  {
   "cell_type": "code",
   "execution_count": 6,
   "id": "b7133dc2-fdf8-496e-9f42-1580b21ee81d",
   "metadata": {},
   "outputs": [
    {
     "ename": "IndexError",
     "evalue": "list index out of range",
     "output_type": "error",
     "traceback": [
      "\u001b[0;31m---------------------------------------------------------------------------\u001b[0m",
      "\u001b[0;31mIndexError\u001b[0m                                Traceback (most recent call last)",
      "\u001b[0;32m/tmp/ipykernel_17583/4023986547.py\u001b[0m in \u001b[0;36m<module>\u001b[0;34m\u001b[0m\n\u001b[0;32m----> 1\u001b[0;31m \u001b[0mtable\u001b[0m\u001b[0;34m[\u001b[0m\u001b[0;34m\"partitions\"\u001b[0m\u001b[0;34m]\u001b[0m\u001b[0;34m[\u001b[0m\u001b[0;36m1\u001b[0m\u001b[0;34m]\u001b[0m\u001b[0;34m\u001b[0m\u001b[0;34m\u001b[0m\u001b[0m\n\u001b[0m",
      "\u001b[0;31mIndexError\u001b[0m: list index out of range"
     ]
    }
   ],
   "source": [
    "table[\"partitions\"][1]"
   ]
  },
  {
   "cell_type": "code",
   "execution_count": 4,
   "id": "45e7bf78-1f45-4afb-aab2-b9552984e02f",
   "metadata": {},
   "outputs": [
    {
     "name": "stdout",
     "output_type": "stream",
     "text": [
      "Running query \n"
     ]
    },
    {
     "name": "stderr",
     "output_type": "stream",
     "text": [
      "Waiting on bqjob_r7b31ae19e86d9cc6_0000018241c4f4e1_1 ... (5s) Current status: DONE   "
     ]
    },
    {
     "name": "stdout",
     "output_type": "stream",
     "text": [
      "CREATE OR REPLACE TABLE `kamal-parque-arauco.dashboard.arrival_distribution_20220101` AS\n",
      "\n",
      "\n",
      "-- tabla agrupada por dia, poi de visita, hora y visitas por hora\n",
      "with frequency_of_arrivals as (\n",
      "    SELECT \n",
      "        date_ymd, \n",
      "        poi_id, hour, \n",
      "        round(sum(fexp)) as visits_counter\n",
      "    FROM (\n",
      "        -- se extrae imsi, fexp el poi que visitas, fecha y hora\n",
      "        SELECT \n",
      "            permanency.imsi,\n",
      "            demography.fexp,\n",
      "            permanency.poi_id,\n",
      "            permanency.date_ymd,\n",
      "            EXTRACT(hour FROM permanency.arrival_date_time_hhmm) +0.5 as hour\n",
      "        FROM `kamal-parque-arauco.output_predict.permanency_production` as permanency\n",
      "        LEFT JOIN `kamal-parque-arauco.output_predict.demography_20220101` as demography\n",
      "        ON permanency.imsi=demography.imsi\n",
      "        where date_ymd between year_month_01 and end_year_month_01)\n",
      "    GROUP BY date_ymd, poi_id, hour\n",
      "),\n",
      "\n",
      "-- se agrupan ahora por fecha, osea total de visitas por fecha\n",
      "sum_imsis as (\n",
      "    select date_ymd, poi_id, sum(visits_counter) as total\n",
      "    from frequency_of_arrivals\n",
      "    group by date_ymd, poi_id\n",
      ")\n",
      "\n",
      "-- tabla con fecha, poi, hora y porcentaje de visitas horarias respecto al total diario\n",
      "select frequency_of_arrivals.date_ymd, frequency_of_arrivals.poi_id, hour, 100*visits_counter/total as porcentual_distribution\n",
      "from frequency_of_arrivals\n",
      "left join sum_imsis \n",
      "    on frequency_of_arrivals.date_ymd=sum_imsis.date_ymd\n",
      "    and frequency_of_arrivals.poi_id=sum_imsis.poi_id; -- at [11:1]\n",
      "Replaced kamal-parque-arauco.dashboard.arrival_distribution_20220101\n",
      "\n",
      "\n"
     ]
    },
    {
     "name": "stderr",
     "output_type": "stream",
     "text": [
      "\n"
     ]
    }
   ],
   "source": [
    "run_query(query)"
   ]
  }
 ],
 "metadata": {
  "kernelspec": {
   "display_name": "Python 3 (ipykernel)",
   "language": "python",
   "name": "python3"
  },
  "language_info": {
   "codemirror_mode": {
    "name": "ipython",
    "version": 3
   },
   "file_extension": ".py",
   "mimetype": "text/x-python",
   "name": "python",
   "nbconvert_exporter": "python",
   "pygments_lexer": "ipython3",
   "version": "3.8.12"
  }
 },
 "nbformat": 4,
 "nbformat_minor": 5
}
